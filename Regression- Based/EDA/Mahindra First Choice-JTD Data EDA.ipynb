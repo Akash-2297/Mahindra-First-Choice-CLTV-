{
 "cells": [
  {
   "cell_type": "code",
   "execution_count": 18,
   "metadata": {},
   "outputs": [
    {
     "data": {
      "application/javascript": [
       "IPython.OutputArea.auto_scroll_threshold = 9999;\n"
      ],
      "text/plain": [
       "<IPython.core.display.Javascript object>"
      ]
     },
     "metadata": {},
     "output_type": "display_data"
    }
   ],
   "source": [
    "%%javascript\n",
    "IPython.OutputArea.auto_scroll_threshold = 9999;"
   ]
  },
  {
   "cell_type": "code",
   "execution_count": 19,
   "metadata": {},
   "outputs": [],
   "source": [
    "# Import packages\n",
    "import sys\n",
    "import os\n",
    "import numpy as np\n",
    "import pandas as pd\n",
    "from scipy.stats import mode \n",
    "import matplotlib.pyplot as plt\n",
    "import seaborn as sns\n",
    " # code starts here\n",
    "from scipy import stats\n",
    "from scipy.stats import kurtosis \n",
    "from sklearn.linear_model import LinearRegression\n",
    "import datetime as dt\n",
    "import re\n",
    "from sklearn.linear_model import LinearRegression\n",
    "from sklearn.ensemble import RandomForestRegressor\n",
    "from sklearn.ensemble import GradientBoostingRegressor\n",
    "from sklearn.tree  import ExtraTreeRegressor\n",
    "from sklearn.tree  import DecisionTreeRegressor\n",
    "from sklearn.linear_model import LogisticRegression\n",
    "from sklearn.ensemble import RandomForestClassifier\n",
    "from sklearn.ensemble import GradientBoostingClassifier\n",
    "from sklearn.tree  import ExtraTreeClassifier\n",
    "from sklearn.tree  import DecisionTreeClassifier\n",
    "from sklearn.model_selection import train_test_split\n",
    "from sklearn.metrics import classification_report\n",
    "from sklearn.metrics import accuracy_score\n",
    "from sklearn.metrics import precision_score\n",
    "from sklearn.metrics import roc_auc_score\n",
    "from sklearn.metrics import recall_score\n",
    "from itertools import product\n",
    "from datetime import datetime\n",
    "from sklearn import tree\n",
    "import statsmodels.api as sm \n",
    "\n",
    "import pandas as pd\n",
    "from sklearn.tree import DecisionTreeClassifier\n",
    "from sklearn import tree\n",
    "from IPython.display import Image\n",
    "import pydotplus\n",
    "np.set_printoptions(250) \n",
    "# import sklearn.external.joblib as extjoblib\n",
    "# import joblib"
   ]
  },
  {
   "cell_type": "markdown",
   "metadata": {},
   "source": [
    "## 1. Read Data in a dataframe"
   ]
  },
  {
   "cell_type": "code",
   "execution_count": 20,
   "metadata": {},
   "outputs": [],
   "source": [
    "import statsmodels.api as sm\n",
    "\n",
    "# Read and Peak at Data\n",
    "base_datapath = r\"D://Projects//Python//Jupyter//Anands Notebook//Captstone//Data//Mahindra First Choice Dataset//\"\n",
    "cleaned_datapath = r\"D://Projects//Python//Jupyter//Anands Notebook//Captstone//Data//Cleansed DataSet//\"\n",
    "\n",
    "customer_datapath = base_datapath + \"Customer_Data.xlsx\"\n",
    "invoice_datapath = base_datapath + \"Final_invoice.xls\"\n",
    "jtd_datapath = base_datapath + \"JTD.csv\"\n",
    "plantmaster_datapath = base_datapath + \"Plant Master.xlsx\"\n",
    "cleaned_JTD_datapath = cleaned_datapath + \"JTD.csv\"\n",
    "\n",
    "dir_of_interest = 'D://Projects//Python//GeneralFunctions'\n",
    "sys.path.append(dir_of_interest)   \n",
    "from EDA import *\n",
    "import EDA"
   ]
  },
  {
   "cell_type": "code",
   "execution_count": 21,
   "metadata": {},
   "outputs": [],
   "source": [
    "dfJTD = pd.read_csv(jtd_datapath)\n",
    "#dfJTD = pd.read_excel(customer_datapath,sheet_name=\"Sheet1\")"
   ]
  },
  {
   "cell_type": "code",
   "execution_count": 22,
   "metadata": {},
   "outputs": [
    {
     "data": {
      "text/html": [
       "<div>\n",
       "<style scoped>\n",
       "    .dataframe tbody tr th:only-of-type {\n",
       "        vertical-align: middle;\n",
       "    }\n",
       "\n",
       "    .dataframe tbody tr th {\n",
       "        vertical-align: top;\n",
       "    }\n",
       "\n",
       "    .dataframe thead th {\n",
       "        text-align: right;\n",
       "    }\n",
       "</style>\n",
       "<table border=\"1\" class=\"dataframe\">\n",
       "  <thead>\n",
       "    <tr style=\"text-align: right;\">\n",
       "      <th></th>\n",
       "      <th>Sr No</th>\n",
       "      <th>DBM Order</th>\n",
       "      <th>Order Item</th>\n",
       "      <th>Material</th>\n",
       "      <th>Labor Value Number</th>\n",
       "      <th>Description</th>\n",
       "      <th>Item Category</th>\n",
       "      <th>Order Quantity</th>\n",
       "      <th>Target quantity UoM</th>\n",
       "      <th>Net value</th>\n",
       "    </tr>\n",
       "  </thead>\n",
       "  <tbody>\n",
       "    <tr>\n",
       "      <th>0</th>\n",
       "      <td>0</td>\n",
       "      <td>22385</td>\n",
       "      <td>180</td>\n",
       "      <td>OSLCC_SRV31</td>\n",
       "      <td>NaN</td>\n",
       "      <td>MACHINING RR.SUSPENSION CHARGE  (MAJOR)</td>\n",
       "      <td>P010</td>\n",
       "      <td>1.2</td>\n",
       "      <td>MIN</td>\n",
       "      <td>1869.87</td>\n",
       "    </tr>\n",
       "    <tr>\n",
       "      <th>1</th>\n",
       "      <td>1</td>\n",
       "      <td>23910</td>\n",
       "      <td>10</td>\n",
       "      <td>1DM279018170117</td>\n",
       "      <td>NaN</td>\n",
       "      <td>ASSY.OIL COOLER (6-PLATE) (VOR</td>\n",
       "      <td>P002</td>\n",
       "      <td>1.0</td>\n",
       "      <td>EA</td>\n",
       "      <td>2151.13</td>\n",
       "    </tr>\n",
       "    <tr>\n",
       "      <th>2</th>\n",
       "      <td>2</td>\n",
       "      <td>23910</td>\n",
       "      <td>40</td>\n",
       "      <td>1IS150203BE01</td>\n",
       "      <td>NaN</td>\n",
       "      <td>FRONT WHEEL BEARING/ LUBRICATE</td>\n",
       "      <td>P002</td>\n",
       "      <td>1.0</td>\n",
       "      <td>EA</td>\n",
       "      <td>2552.92</td>\n",
       "    </tr>\n",
       "    <tr>\n",
       "      <th>3</th>\n",
       "      <td>3</td>\n",
       "      <td>23910</td>\n",
       "      <td>60</td>\n",
       "      <td>1DM279001990173</td>\n",
       "      <td>NaN</td>\n",
       "      <td>ASSY.CYL.HEAD W /O INJ.(NA W /O</td>\n",
       "      <td>P002</td>\n",
       "      <td>1.0</td>\n",
       "      <td>EA</td>\n",
       "      <td>20360.14</td>\n",
       "    </tr>\n",
       "    <tr>\n",
       "      <th>4</th>\n",
       "      <td>4</td>\n",
       "      <td>23910</td>\n",
       "      <td>70</td>\n",
       "      <td>1DM88552790S001SA</td>\n",
       "      <td>NaN</td>\n",
       "      <td>Engine Overhaul Kit -Indica Di</td>\n",
       "      <td>P002</td>\n",
       "      <td>1.0</td>\n",
       "      <td>EA</td>\n",
       "      <td>10691.63</td>\n",
       "    </tr>\n",
       "  </tbody>\n",
       "</table>\n",
       "</div>"
      ],
      "text/plain": [
       "   Sr No  DBM Order  Order Item           Material Labor Value Number  \\\n",
       "0      0      22385         180        OSLCC_SRV31                NaN   \n",
       "1      1      23910          10    1DM279018170117                NaN   \n",
       "2      2      23910          40      1IS150203BE01                NaN   \n",
       "3      3      23910          60    1DM279001990173                NaN   \n",
       "4      4      23910          70  1DM88552790S001SA                NaN   \n",
       "\n",
       "                               Description Item Category  Order Quantity  \\\n",
       "0  MACHINING RR.SUSPENSION CHARGE  (MAJOR)          P010             1.2   \n",
       "1           ASSY.OIL COOLER (6-PLATE) (VOR          P002             1.0   \n",
       "2           FRONT WHEEL BEARING/ LUBRICATE          P002             1.0   \n",
       "3          ASSY.CYL.HEAD W /O INJ.(NA W /O          P002             1.0   \n",
       "4           Engine Overhaul Kit -Indica Di          P002             1.0   \n",
       "\n",
       "  Target quantity UoM  Net value  \n",
       "0                 MIN    1869.87  \n",
       "1                  EA    2151.13  \n",
       "2                  EA    2552.92  \n",
       "3                  EA   20360.14  \n",
       "4                  EA   10691.63  "
      ]
     },
     "execution_count": 22,
     "metadata": {},
     "output_type": "execute_result"
    }
   ],
   "source": [
    "dfJTD.head()"
   ]
  },
  {
   "cell_type": "markdown",
   "metadata": {},
   "source": [
    "## 2. Basic Data Exploration "
   ]
  },
  {
   "cell_type": "code",
   "execution_count": 23,
   "metadata": {},
   "outputs": [
    {
     "name": "stdout",
     "output_type": "stream",
     "text": [
      "In basic exploration- Anand\n",
      "-------- 0.1  Shape is--------------------------------\n",
      "Rows:1048575,Columns:10\n",
      "-------- 0.2  Unique Values in dataframe are --------------------------------\n",
      "Calculating Unique Values for DataFrame------------------\n",
      "        Unique values for Column Sr No is  1048575 \n",
      "        Unique values for Column DBM Order is  165633 \n",
      "        Unique values for Column Order Item is  353 \n",
      "        Unique values for Column Material is  56024 \n",
      "        Unique values for Column Labor Value Number is  20290 \n",
      "        Unique values for Column Description is  28630 \n",
      "        Unique values for Column Item Category is  5 \n",
      "        Unique values for Column Order Quantity is  1604 \n",
      "        Unique values for Column Target quantity UoM is  3 \n",
      "        Unique values for Column Net value is  161330 \n",
      "-------- 0.3  Info is--------------------------------\n",
      "<class 'pandas.core.frame.DataFrame'>\n",
      "RangeIndex: 1048575 entries, 0 to 1048574\n",
      "Data columns (total 10 columns):\n",
      " #   Column               Non-Null Count    Dtype  \n",
      "---  ------               --------------    -----  \n",
      " 0   Sr No                1048575 non-null  int64  \n",
      " 1   DBM Order            1048575 non-null  int64  \n",
      " 2   Order Item           1048575 non-null  int64  \n",
      " 3   Material             1039924 non-null  object \n",
      " 4   Labor Value Number   341293 non-null   object \n",
      " 5   Description          1039924 non-null  object \n",
      " 6   Item Category        1048575 non-null  object \n",
      " 7   Order Quantity       1048575 non-null  float64\n",
      " 8   Target quantity UoM  1039924 non-null  object \n",
      " 9   Net value            1048575 non-null  float64\n",
      "dtypes: float64(2), int64(3), object(5)\n",
      "memory usage: 80.0+ MB\n",
      "None\n",
      "-------- 0.4  Null Values in the dataframe are--------------------------------\n",
      "                      Total    Percent\n",
      "Sr No                     0   0.000000\n",
      "DBM Order                 0   0.000000\n",
      "Order Item                0   0.000000\n",
      "Material               8651   0.825024\n",
      "Labor Value Number   707282  67.451732\n",
      "Description            8651   0.825024\n",
      "Item Category             0   0.000000\n",
      "Order Quantity            0   0.000000\n",
      "Target quantity UoM    8651   0.825024\n",
      "Net value                 0   0.000000\n",
      "-------- 0.5  Description for object columns are--------------------------------\n",
      "                Material Labor Value Number         Description Item Category  \\\n",
      "count            1039924             341293             1039924       1048575   \n",
      "unique             56024              20290               28630             5   \n",
      "top     MARUTISUZUKI_SRV         MSALPS0007  MISC_OTHER CHARGES          P002   \n",
      "freq               59228               3311               49830        597718   \n",
      "\n",
      "       Target quantity UoM  \n",
      "count              1039924  \n",
      "unique                   3  \n",
      "top                     EA  \n",
      "freq                502410  \n",
      "-------- 0.6  Description for Numeric columns are--------------------------------\n",
      "              Sr No     DBM Order    Order Item  Order Quantity     Net value\n",
      "count  1.048575e+06  1.048575e+06  1.048575e+06    1.048575e+06  1.048575e+06\n",
      "mean   5.242870e+05  3.412837e+05  1.027800e+02    4.304433e+01  6.970478e+02\n",
      "std    3.026977e+05  2.849942e+05  1.488395e+02    3.323462e+02  1.836136e+03\n",
      "min    0.000000e+00  2.238500e+04  1.000000e+01    0.000000e+00 -4.826100e+02\n",
      "25%    2.621435e+05  1.174890e+05  3.000000e+01    1.000000e+00  7.337000e+01\n",
      "50%    5.242870e+05  1.535820e+05  6.000000e+01    1.000000e+00  2.520100e+02\n",
      "75%    7.864305e+05  7.042560e+05  1.200000e+02    4.000000e+00  6.849800e+02\n",
      "max    1.048574e+06  7.562960e+05  5.960000e+03    2.700000e+04  1.819294e+05\n",
      "-------- 0.7  Outliers in the dataset are--------------------------------\n",
      "Min IQR (Outlier Limit) for Sr No is -524287.0\n",
      "Max IQR (Outlier Limit) for Sr No is 1572861.0\n",
      "Min IQR (Outlier Limit) for DBM Order is -762661.5\n",
      "Max IQR (Outlier Limit) for DBM Order is 1584406.5\n",
      "Min IQR (Outlier Limit) for Order Item is -105.0\n",
      "Max IQR (Outlier Limit) for Order Item is 255.0\n",
      "Min IQR (Outlier Limit) for Order Quantity is -3.5\n",
      "Max IQR (Outlier Limit) for Order Quantity is 8.5\n",
      "Min IQR (Outlier Limit) for Net value is -844.045\n",
      "Max IQR (Outlier Limit) for Net value is 1602.395\n"
     ]
    }
   ],
   "source": [
    "dir_of_interest = 'D:\\\\Projects\\\\Python\\\\GeneralFunctions'\n",
    "sys.path.append(dir_of_interest)   \n",
    "importlib.reload(EDA)\n",
    "import EDA\n",
    "from EDA import *\n",
    "basicExploration(dfJTD)"
   ]
  },
  {
   "cell_type": "markdown",
   "metadata": {},
   "source": [
    "## 3. Univariate Analysis "
   ]
  },
  {
   "cell_type": "markdown",
   "metadata": {},
   "source": [
    "### 3.1. Uniqueness Check"
   ]
  },
  {
   "cell_type": "code",
   "execution_count": 24,
   "metadata": {},
   "outputs": [
    {
     "name": "stdout",
     "output_type": "stream",
     "text": [
      "----------------In unique_eliminateDataFrame------------------\n"
     ]
    },
    {
     "data": {
      "text/html": [
       "<div>\n",
       "<style scoped>\n",
       "    .dataframe tbody tr th:only-of-type {\n",
       "        vertical-align: middle;\n",
       "    }\n",
       "\n",
       "    .dataframe tbody tr th {\n",
       "        vertical-align: top;\n",
       "    }\n",
       "\n",
       "    .dataframe thead th {\n",
       "        text-align: right;\n",
       "    }\n",
       "</style>\n",
       "<table border=\"1\" class=\"dataframe\">\n",
       "  <thead>\n",
       "    <tr style=\"text-align: right;\">\n",
       "      <th></th>\n",
       "      <th>Name</th>\n",
       "      <th>Unique</th>\n",
       "      <th>May Be Eliminated ?</th>\n",
       "    </tr>\n",
       "  </thead>\n",
       "  <tbody>\n",
       "    <tr>\n",
       "      <th>0</th>\n",
       "      <td>Sr No</td>\n",
       "      <td>Yes</td>\n",
       "      <td>Yes</td>\n",
       "    </tr>\n",
       "    <tr>\n",
       "      <th>1</th>\n",
       "      <td>DBM Order</td>\n",
       "      <td>No</td>\n",
       "      <td>No</td>\n",
       "    </tr>\n",
       "    <tr>\n",
       "      <th>2</th>\n",
       "      <td>Order Item</td>\n",
       "      <td>No</td>\n",
       "      <td>No</td>\n",
       "    </tr>\n",
       "    <tr>\n",
       "      <th>3</th>\n",
       "      <td>Material</td>\n",
       "      <td>No</td>\n",
       "      <td>No</td>\n",
       "    </tr>\n",
       "    <tr>\n",
       "      <th>4</th>\n",
       "      <td>Labor Value Number</td>\n",
       "      <td>No</td>\n",
       "      <td>No</td>\n",
       "    </tr>\n",
       "    <tr>\n",
       "      <th>5</th>\n",
       "      <td>Description</td>\n",
       "      <td>No</td>\n",
       "      <td>No</td>\n",
       "    </tr>\n",
       "    <tr>\n",
       "      <th>6</th>\n",
       "      <td>Item Category</td>\n",
       "      <td>No</td>\n",
       "      <td>No</td>\n",
       "    </tr>\n",
       "    <tr>\n",
       "      <th>7</th>\n",
       "      <td>Order Quantity</td>\n",
       "      <td>No</td>\n",
       "      <td>No</td>\n",
       "    </tr>\n",
       "    <tr>\n",
       "      <th>8</th>\n",
       "      <td>Target quantity UoM</td>\n",
       "      <td>No</td>\n",
       "      <td>No</td>\n",
       "    </tr>\n",
       "    <tr>\n",
       "      <th>9</th>\n",
       "      <td>Net value</td>\n",
       "      <td>No</td>\n",
       "      <td>No</td>\n",
       "    </tr>\n",
       "  </tbody>\n",
       "</table>\n",
       "</div>"
      ],
      "text/plain": [
       "                  Name Unique May Be Eliminated ?\n",
       "0                Sr No    Yes                 Yes\n",
       "1            DBM Order     No                  No\n",
       "2           Order Item     No                  No\n",
       "3             Material     No                  No\n",
       "4   Labor Value Number     No                  No\n",
       "5          Description     No                  No\n",
       "6        Item Category     No                  No\n",
       "7       Order Quantity     No                  No\n",
       "8  Target quantity UoM     No                  No\n",
       "9            Net value     No                  No"
      ]
     },
     "execution_count": 24,
     "metadata": {},
     "output_type": "execute_result"
    }
   ],
   "source": [
    "dir_of_interest = 'D://Projects//Python//GeneralFunctions'\n",
    "sys.path.append(dir_of_interest)   \n",
    "from EDA import *\n",
    "dfUniqueness= unique_eliminateDataFrame(dfJTD)\n",
    "dfUniqueness"
   ]
  },
  {
   "cell_type": "markdown",
   "metadata": {},
   "source": [
    "### 3.2.Perform Variance check\n",
    "Assuming the Threshold percentage of Variance acceptable is 10%"
   ]
  },
  {
   "cell_type": "code",
   "execution_count": 25,
   "metadata": {},
   "outputs": [
    {
     "name": "stdout",
     "output_type": "stream",
     "text": [
      "----Following shows the variance in the features of the dataframe-------------\n",
      "                  Name              Variance ? Can be Eliminated ?\n",
      "0             Material  High variance in data                   No\n",
      "1   Labor Value Number  High variance in data                   No\n",
      "2          Description  High variance in data                   No\n",
      "3        Item Category  High variance in data                   No\n",
      "4  Target quantity UoM  High variance in data                   No\n",
      "5                Sr No  High variance in data                   No\n",
      "6            DBM Order  High variance in data                   No\n",
      "7           Order Item  High variance in data                   No\n",
      "8       Order Quantity  High variance in data                   No\n",
      "9            Net value  High variance in data                   No\n"
     ]
    }
   ],
   "source": [
    "lowVarianceCheck = lowVarianceEliminationDataFrameCheckOnThreshold(dfJTD,0.1)\n",
    "print(lowVarianceCheck)"
   ]
  },
  {
   "cell_type": "markdown",
   "metadata": {},
   "source": [
    "### 3.3.Perform Data Cleanup and Save to file system for later use\n",
    "\n",
    "Null Check says - \n",
    "\n",
    "                 Null Values in the dataframe are--------------------------------\n",
    "                 \n",
    "                      Total    Percent\n",
    "                      \n",
    "Sr No                     0   0.000000\n",
    "\n",
    "DBM Order                 0   0.000000\n",
    "\n",
    "Order Item                0   0.000000\n",
    "\n",
    "Material               8651   0.825024\n",
    "\n",
    "Labor Value Number   707282  67.451732\n",
    "\n",
    "Description            8651   0.825024\n",
    "\n",
    "Item Category             0   0.000000\n",
    "\n",
    "Order Quantity            0   0.000000\n",
    "\n",
    "Target quantity UoM    8651   0.825024\n",
    "\n",
    "Net value                 0   0.000000\n",
    "\n",
    "----------------------------------------------------------------------------------------------------------------------------------\n",
    "\n",
    "Variance Check says none of the columns can be eliminated. Hence from the above, Sr No and Labour  Value NUmber sounds to be high in null values and can be eliminated.\n",
    "\n"
   ]
  },
  {
   "cell_type": "code",
   "execution_count": 26,
   "metadata": {},
   "outputs": [
    {
     "data": {
      "text/plain": [
       "(1048575, 8)"
      ]
     },
     "execution_count": 26,
     "metadata": {},
     "output_type": "execute_result"
    }
   ],
   "source": [
    "dfJTD = dfJTD.drop([\"Sr No\",\"Labor Value Number\"],axis=1)\n",
    "dfJTD.shape"
   ]
  },
  {
   "cell_type": "code",
   "execution_count": 27,
   "metadata": {},
   "outputs": [],
   "source": [
    "dfJTD.to_csv(cleaned_JTD_datapath, index=False) "
   ]
  },
  {
   "cell_type": "code",
   "execution_count": null,
   "metadata": {},
   "outputs": [],
   "source": []
  },
  {
   "cell_type": "code",
   "execution_count": null,
   "metadata": {},
   "outputs": [],
   "source": []
  },
  {
   "cell_type": "code",
   "execution_count": null,
   "metadata": {},
   "outputs": [],
   "source": []
  }
 ],
 "metadata": {
  "kernelspec": {
   "display_name": "'Python Interactive'",
   "language": "python",
   "name": "5a47f350-d875-4aa6-9c8d-3ad8235719f6"
  },
  "language_info": {
   "codemirror_mode": {
    "name": "ipython",
    "version": 3
   },
   "file_extension": ".py",
   "mimetype": "text/x-python",
   "name": "python",
   "nbconvert_exporter": "python",
   "pygments_lexer": "ipython3",
   "version": "3.6.10"
  }
 },
 "nbformat": 4,
 "nbformat_minor": 4
}
