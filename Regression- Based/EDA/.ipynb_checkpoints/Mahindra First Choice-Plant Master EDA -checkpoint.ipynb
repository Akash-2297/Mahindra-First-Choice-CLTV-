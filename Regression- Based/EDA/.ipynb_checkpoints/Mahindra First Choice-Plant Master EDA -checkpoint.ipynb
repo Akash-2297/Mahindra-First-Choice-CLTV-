{
 "cells": [
  {
   "cell_type": "code",
   "execution_count": 50,
   "metadata": {},
   "outputs": [
    {
     "data": {
      "application/javascript": [
       "IPython.OutputArea.auto_scroll_threshold = 9999;\n"
      ],
      "text/plain": [
       "<IPython.core.display.Javascript object>"
      ]
     },
     "metadata": {},
     "output_type": "display_data"
    }
   ],
   "source": [
    "%%javascript\n",
    "IPython.OutputArea.auto_scroll_threshold = 9999;"
   ]
  },
  {
   "cell_type": "code",
   "execution_count": 51,
   "metadata": {},
   "outputs": [],
   "source": [
    "# Import packages\n",
    "import sys\n",
    "import os\n",
    "import numpy as np\n",
    "import pandas as pd\n",
    "from scipy.stats import mode \n",
    "import matplotlib.pyplot as plt\n",
    "import seaborn as sns\n",
    " # code starts here\n",
    "from scipy import stats\n",
    "from scipy.stats import kurtosis \n",
    "from sklearn.linear_model import LinearRegression\n",
    "import datetime as dt\n",
    "import re\n",
    "from sklearn.linear_model import LinearRegression\n",
    "from sklearn.ensemble import RandomForestRegressor\n",
    "from sklearn.ensemble import GradientBoostingRegressor\n",
    "from sklearn.tree  import ExtraTreeRegressor\n",
    "from sklearn.tree  import DecisionTreeRegressor\n",
    "from sklearn.linear_model import LogisticRegression\n",
    "from sklearn.ensemble import RandomForestClassifier\n",
    "from sklearn.ensemble import GradientBoostingClassifier\n",
    "from sklearn.tree  import ExtraTreeClassifier\n",
    "from sklearn.tree  import DecisionTreeClassifier\n",
    "from sklearn.model_selection import train_test_split\n",
    "from sklearn.metrics import classification_report\n",
    "from sklearn.metrics import accuracy_score\n",
    "from sklearn.metrics import precision_score\n",
    "from sklearn.metrics import roc_auc_score\n",
    "from sklearn.metrics import recall_score\n",
    "from itertools import product\n",
    "from datetime import datetime\n",
    "from sklearn import tree\n",
    "import statsmodels.api as sm \n",
    "\n",
    "import pandas as pd\n",
    "from sklearn.tree import DecisionTreeClassifier\n",
    "from sklearn import tree\n",
    "from IPython.display import Image\n",
    "import pydotplus\n",
    "np.set_printoptions(250) \n",
    "# import sklearn.external.joblib as extjoblib\n",
    "# import joblib"
   ]
  },
  {
   "cell_type": "markdown",
   "metadata": {},
   "source": [
    "## 1. Read Data in a dataframe"
   ]
  },
  {
   "cell_type": "code",
   "execution_count": 59,
   "metadata": {},
   "outputs": [],
   "source": [
    "import statsmodels.api as sm\n",
    "\n",
    "# Read and Peak at Data\n",
    "base_datapath = r\"D://Projects//Python//Jupyter//Anands Notebook//Captstone//Data//Mahindra First Choice Dataset//\"\n",
    "cleaned_datapath = r\"D://Projects//Python//Jupyter//Anands Notebook//Captstone//Data//Cleansed DataSet//\"\n",
    "customer_datapath = base_datapath + \"Customer_Data.xls\"\n",
    "invoice_datapath = base_datapath + \"Final_invoice.xls\"\n",
    "jtd_datapath = base_datapath + \"JTD.xls\"\n",
    "plantmaster_datapath = base_datapath + \"Plant Master.xlsx\"\n",
    "cleaned_plantmaster_datapath = cleaned_datapath + \"Plant Master.xlsx\"\n",
    "dir_of_interest = 'D://Projects//Python//GeneralFunctions'\n",
    "sys.path.append(dir_of_interest)   \n",
    "from EDA import *"
   ]
  },
  {
   "cell_type": "code",
   "execution_count": 53,
   "metadata": {},
   "outputs": [],
   "source": [
    "dfPlantMaster = pd.read_excel(plantmaster_datapath, sep='|' , encoding='latin-1')"
   ]
  },
  {
   "cell_type": "code",
   "execution_count": 54,
   "metadata": {},
   "outputs": [
    {
     "data": {
      "text/html": [
       "<div>\n",
       "<style scoped>\n",
       "    .dataframe tbody tr th:only-of-type {\n",
       "        vertical-align: middle;\n",
       "    }\n",
       "\n",
       "    .dataframe tbody tr th {\n",
       "        vertical-align: top;\n",
       "    }\n",
       "\n",
       "    .dataframe thead th {\n",
       "        text-align: right;\n",
       "    }\n",
       "</style>\n",
       "<table border=\"1\" class=\"dataframe\">\n",
       "  <thead>\n",
       "    <tr style=\"text-align: right;\">\n",
       "      <th></th>\n",
       "      <th>Plant</th>\n",
       "      <th>Name 1</th>\n",
       "      <th>Valuation Area</th>\n",
       "      <th>Customer no. - plant</th>\n",
       "      <th>Vendor number plant</th>\n",
       "      <th>Factory calendar</th>\n",
       "      <th>Name 2</th>\n",
       "      <th>House number and street</th>\n",
       "      <th>PO Box</th>\n",
       "      <th>Postal Code</th>\n",
       "      <th>City</th>\n",
       "      <th>Sales organization</th>\n",
       "      <th>State</th>\n",
       "    </tr>\n",
       "  </thead>\n",
       "  <tbody>\n",
       "    <tr>\n",
       "      <th>0</th>\n",
       "      <td>BC07</td>\n",
       "      <td>NERKUNDRAM</td>\n",
       "      <td>BC07</td>\n",
       "      <td>PLBC07</td>\n",
       "      <td>PLBC07</td>\n",
       "      <td>IN</td>\n",
       "      <td>NaN</td>\n",
       "      <td>No.117 Poonamallee High Road,</td>\n",
       "      <td>600107.0</td>\n",
       "      <td>600107</td>\n",
       "      <td>Chennai</td>\n",
       "      <td>MFCS</td>\n",
       "      <td>Tamil Nadu</td>\n",
       "    </tr>\n",
       "    <tr>\n",
       "      <th>1</th>\n",
       "      <td>BC30</td>\n",
       "      <td>SAS NAGAR - MOHALI</td>\n",
       "      <td>BC30</td>\n",
       "      <td>PLBC30</td>\n",
       "      <td>PLBC30</td>\n",
       "      <td>IN</td>\n",
       "      <td>NaN</td>\n",
       "      <td>C-118, Phase 07,</td>\n",
       "      <td>160055.0</td>\n",
       "      <td>160055</td>\n",
       "      <td>Mohali</td>\n",
       "      <td>MFCS</td>\n",
       "      <td>Punjab</td>\n",
       "    </tr>\n",
       "    <tr>\n",
       "      <th>2</th>\n",
       "      <td>X001</td>\n",
       "      <td>X001 - AUTO PLANET WHEELS</td>\n",
       "      <td>X001</td>\n",
       "      <td>PLX001</td>\n",
       "      <td>NaN</td>\n",
       "      <td>IN</td>\n",
       "      <td>Thane</td>\n",
       "      <td>Unit No.3, Kothari Compound,</td>\n",
       "      <td>400610.0</td>\n",
       "      <td>400610</td>\n",
       "      <td>Thane</td>\n",
       "      <td>MFCA</td>\n",
       "      <td>Maharashtra</td>\n",
       "    </tr>\n",
       "    <tr>\n",
       "      <th>3</th>\n",
       "      <td>X002</td>\n",
       "      <td>X002 - BHANDARI INDUSTRIES PVT</td>\n",
       "      <td>X002</td>\n",
       "      <td>PLX002</td>\n",
       "      <td>NaN</td>\n",
       "      <td>IN</td>\n",
       "      <td>Ghaziabad</td>\n",
       "      <td>18/1, C Site 4, Sahibabad</td>\n",
       "      <td>201010.0</td>\n",
       "      <td>201010</td>\n",
       "      <td>Ghaziabad</td>\n",
       "      <td>MFCA</td>\n",
       "      <td>Uttar Pradesh</td>\n",
       "    </tr>\n",
       "    <tr>\n",
       "      <th>4</th>\n",
       "      <td>X003</td>\n",
       "      <td>X003 - Om Sri Satya Sai Automo</td>\n",
       "      <td>X003</td>\n",
       "      <td>PLX003</td>\n",
       "      <td>NaN</td>\n",
       "      <td>IN</td>\n",
       "      <td>Bengaluru</td>\n",
       "      <td>#75, Sy.No. 83/2, Panathur Mai</td>\n",
       "      <td>560087.0</td>\n",
       "      <td>560087</td>\n",
       "      <td>Bengaluru</td>\n",
       "      <td>MFCB</td>\n",
       "      <td>Karnataka</td>\n",
       "    </tr>\n",
       "  </tbody>\n",
       "</table>\n",
       "</div>"
      ],
      "text/plain": [
       "  Plant                          Name 1 Valuation Area Customer no. - plant  \\\n",
       "0  BC07                      NERKUNDRAM           BC07               PLBC07   \n",
       "1  BC30              SAS NAGAR - MOHALI           BC30               PLBC30   \n",
       "2  X001       X001 - AUTO PLANET WHEELS           X001               PLX001   \n",
       "3  X002  X002 - BHANDARI INDUSTRIES PVT           X002               PLX002   \n",
       "4  X003  X003 - Om Sri Satya Sai Automo           X003               PLX003   \n",
       "\n",
       "  Vendor number plant Factory calendar     Name 2  \\\n",
       "0              PLBC07               IN        NaN   \n",
       "1              PLBC30               IN        NaN   \n",
       "2                 NaN               IN      Thane   \n",
       "3                 NaN               IN  Ghaziabad   \n",
       "4                 NaN               IN  Bengaluru   \n",
       "\n",
       "          House number and street    PO Box  Postal Code       City  \\\n",
       "0   No.117 Poonamallee High Road,  600107.0       600107    Chennai   \n",
       "1                C-118, Phase 07,  160055.0       160055     Mohali   \n",
       "2    Unit No.3, Kothari Compound,  400610.0       400610      Thane   \n",
       "3       18/1, C Site 4, Sahibabad  201010.0       201010  Ghaziabad   \n",
       "4  #75, Sy.No. 83/2, Panathur Mai  560087.0       560087  Bengaluru   \n",
       "\n",
       "  Sales organization          State  \n",
       "0               MFCS     Tamil Nadu  \n",
       "1               MFCS         Punjab  \n",
       "2               MFCA    Maharashtra  \n",
       "3               MFCA  Uttar Pradesh  \n",
       "4               MFCB      Karnataka  "
      ]
     },
     "execution_count": 54,
     "metadata": {},
     "output_type": "execute_result"
    }
   ],
   "source": [
    "dfPlantMaster.head()"
   ]
  },
  {
   "cell_type": "markdown",
   "metadata": {},
   "source": [
    "## 2. Basic Data Exploration "
   ]
  },
  {
   "cell_type": "code",
   "execution_count": 55,
   "metadata": {},
   "outputs": [
    {
     "name": "stdout",
     "output_type": "stream",
     "text": [
      "-------- 0.1  Shape is--------------------------------\n",
      "Rows:438,Columns:13\n",
      "-------- 0.2  Unique Values in dataframe are --------------------------------\n",
      "Calculating Unique Values for DataFrame------------------\n",
      "        Unique values for Column Plant is  438 \n",
      "        Unique values for Column Name 1 is  438 \n",
      "        Unique values for Column Valuation Area is  438 \n",
      "        Unique values for Column Customer no. - plant is  438 \n",
      "        Unique values for Column Vendor number plant is  2 \n",
      "        Unique values for Column Factory calendar is  1 \n",
      "        Unique values for Column Name 2 is  360 \n",
      "        Unique values for Column House number and street is  435 \n",
      "        Unique values for Column PO Box is  413 \n",
      "        Unique values for Column Postal Code is  414 \n",
      "        Unique values for Column City is  356 \n",
      "        Unique values for Column Sales organization is  5 \n",
      "        Unique values for Column State is  27 \n",
      "-------- 0.3  Info is--------------------------------\n",
      "<class 'pandas.core.frame.DataFrame'>\n",
      "RangeIndex: 438 entries, 0 to 437\n",
      "Data columns (total 13 columns):\n",
      " #   Column                   Non-Null Count  Dtype  \n",
      "---  ------                   --------------  -----  \n",
      " 0   Plant                    438 non-null    object \n",
      " 1   Name 1                   438 non-null    object \n",
      " 2   Valuation Area           438 non-null    object \n",
      " 3   Customer no. - plant     438 non-null    object \n",
      " 4   Vendor number plant      2 non-null      object \n",
      " 5   Factory calendar         438 non-null    object \n",
      " 6   Name 2                   436 non-null    object \n",
      " 7   House number and street  436 non-null    object \n",
      " 8   PO Box                   437 non-null    float64\n",
      " 9   Postal Code              438 non-null    int64  \n",
      " 10  City                     438 non-null    object \n",
      " 11  Sales organization       433 non-null    object \n",
      " 12  State                    438 non-null    object \n",
      "dtypes: float64(1), int64(1), object(11)\n",
      "memory usage: 44.6+ KB\n",
      "None\n",
      "-------- 0.4  Null Values in the dataframe are--------------------------------\n",
      "Plant                        0\n",
      "Name 1                       0\n",
      "Valuation Area               0\n",
      "Customer no. - plant         0\n",
      "Vendor number plant        436\n",
      "Factory calendar             0\n",
      "Name 2                       2\n",
      "House number and street      2\n",
      "PO Box                       1\n",
      "Postal Code                  0\n",
      "City                         0\n",
      "Sales organization           5\n",
      "State                        0\n",
      "dtype: int64\n",
      "-------- 0.5  Description for object columns are--------------------------------\n",
      "       Plant                 Name 1 Valuation Area Customer no. - plant  \\\n",
      "count    438                    438            438                  438   \n",
      "unique   438                    438            438                  438   \n",
      "top     X568  X190 - NITHIYA MOTORS           X568               PLX545   \n",
      "freq       1                      1              1                    1   \n",
      "\n",
      "       Vendor number plant Factory calendar   Name 2 House number and street  \\\n",
      "count                    2              438      436                     436   \n",
      "unique                   2                1      360                     435   \n",
      "top                 PLBC07               IN  Chennai           Plot No. 525,   \n",
      "freq                     1              438        7                       2   \n",
      "\n",
      "           City Sales organization      State  \n",
      "count       438                433        438  \n",
      "unique      356                  5         27  \n",
      "top     Kolkata               MFCD  Rajasthan  \n",
      "freq          6                339         52  \n",
      "-------- 0.6  Description for Numeric columns are--------------------------------\n",
      "              PO Box    Postal Code\n",
      "count     437.000000     438.000000\n",
      "mean   465304.276888  469101.835616\n",
      "std    206603.346008  207677.347020\n",
      "min         0.000000  121006.000000\n",
      "25%    305404.000000  306101.000000\n",
      "50%    454001.000000  454887.500000\n",
      "75%    610001.000000  612879.000000\n",
      "max    999999.000000  999999.000000\n",
      "-------- 0.7  Outliers in the dataset are--------------------------------\n",
      "Min IQR (Outlier Limit) for PO Box is -151491.5\n",
      "Max IQR (Outlier Limit) for PO Box is 1066896.5\n",
      "Min IQR (Outlier Limit) for Postal Code is -154066.0\n",
      "Max IQR (Outlier Limit) for Postal Code is 1073046.0\n"
     ]
    }
   ],
   "source": [
    "basicExploration(dfPlantMaster)"
   ]
  },
  {
   "cell_type": "markdown",
   "metadata": {},
   "source": [
    "## 3. Univariate Analysis "
   ]
  },
  {
   "cell_type": "markdown",
   "metadata": {},
   "source": [
    "### 3.1. Uniqueness Check"
   ]
  },
  {
   "cell_type": "code",
   "execution_count": 56,
   "metadata": {},
   "outputs": [
    {
     "name": "stdout",
     "output_type": "stream",
     "text": [
      "----------------In unique_eliminateDataFrame------------------\n"
     ]
    },
    {
     "data": {
      "text/html": [
       "<div>\n",
       "<style scoped>\n",
       "    .dataframe tbody tr th:only-of-type {\n",
       "        vertical-align: middle;\n",
       "    }\n",
       "\n",
       "    .dataframe tbody tr th {\n",
       "        vertical-align: top;\n",
       "    }\n",
       "\n",
       "    .dataframe thead th {\n",
       "        text-align: right;\n",
       "    }\n",
       "</style>\n",
       "<table border=\"1\" class=\"dataframe\">\n",
       "  <thead>\n",
       "    <tr style=\"text-align: right;\">\n",
       "      <th></th>\n",
       "      <th>Name</th>\n",
       "      <th>Unique</th>\n",
       "      <th>May Be Eliminated ?</th>\n",
       "    </tr>\n",
       "  </thead>\n",
       "  <tbody>\n",
       "    <tr>\n",
       "      <th>0</th>\n",
       "      <td>Plant</td>\n",
       "      <td>Yes</td>\n",
       "      <td>Yes</td>\n",
       "    </tr>\n",
       "    <tr>\n",
       "      <th>1</th>\n",
       "      <td>Name 1</td>\n",
       "      <td>Yes</td>\n",
       "      <td>Yes</td>\n",
       "    </tr>\n",
       "    <tr>\n",
       "      <th>2</th>\n",
       "      <td>Valuation Area</td>\n",
       "      <td>Yes</td>\n",
       "      <td>Yes</td>\n",
       "    </tr>\n",
       "    <tr>\n",
       "      <th>3</th>\n",
       "      <td>Customer no. - plant</td>\n",
       "      <td>Yes</td>\n",
       "      <td>Yes</td>\n",
       "    </tr>\n",
       "    <tr>\n",
       "      <th>4</th>\n",
       "      <td>Vendor number plant</td>\n",
       "      <td>No</td>\n",
       "      <td>No</td>\n",
       "    </tr>\n",
       "    <tr>\n",
       "      <th>5</th>\n",
       "      <td>Factory calendar</td>\n",
       "      <td>Yes</td>\n",
       "      <td>Yes</td>\n",
       "    </tr>\n",
       "    <tr>\n",
       "      <th>6</th>\n",
       "      <td>Name 2</td>\n",
       "      <td>No</td>\n",
       "      <td>No</td>\n",
       "    </tr>\n",
       "    <tr>\n",
       "      <th>7</th>\n",
       "      <td>House number and street</td>\n",
       "      <td>No</td>\n",
       "      <td>No</td>\n",
       "    </tr>\n",
       "    <tr>\n",
       "      <th>8</th>\n",
       "      <td>PO Box</td>\n",
       "      <td>No</td>\n",
       "      <td>No</td>\n",
       "    </tr>\n",
       "    <tr>\n",
       "      <th>9</th>\n",
       "      <td>Postal Code</td>\n",
       "      <td>No</td>\n",
       "      <td>No</td>\n",
       "    </tr>\n",
       "    <tr>\n",
       "      <th>10</th>\n",
       "      <td>City</td>\n",
       "      <td>No</td>\n",
       "      <td>No</td>\n",
       "    </tr>\n",
       "    <tr>\n",
       "      <th>11</th>\n",
       "      <td>Sales organization</td>\n",
       "      <td>No</td>\n",
       "      <td>No</td>\n",
       "    </tr>\n",
       "    <tr>\n",
       "      <th>12</th>\n",
       "      <td>State</td>\n",
       "      <td>No</td>\n",
       "      <td>No</td>\n",
       "    </tr>\n",
       "  </tbody>\n",
       "</table>\n",
       "</div>"
      ],
      "text/plain": [
       "                       Name Unique May Be Eliminated ?\n",
       "0                     Plant    Yes                 Yes\n",
       "1                    Name 1    Yes                 Yes\n",
       "2            Valuation Area    Yes                 Yes\n",
       "3      Customer no. - plant    Yes                 Yes\n",
       "4       Vendor number plant     No                  No\n",
       "5          Factory calendar    Yes                 Yes\n",
       "6                    Name 2     No                  No\n",
       "7   House number and street     No                  No\n",
       "8                    PO Box     No                  No\n",
       "9               Postal Code     No                  No\n",
       "10                     City     No                  No\n",
       "11       Sales organization     No                  No\n",
       "12                    State     No                  No"
      ]
     },
     "execution_count": 56,
     "metadata": {},
     "output_type": "execute_result"
    }
   ],
   "source": [
    "dir_of_interest = 'D://Projects//Python//GeneralFunctions'\n",
    "sys.path.append(dir_of_interest)   \n",
    "from EDA import *\n",
    "dfUniqueness= unique_eliminateDataFrame(dfPlantMaster)\n",
    "dfUniqueness"
   ]
  },
  {
   "cell_type": "markdown",
   "metadata": {},
   "source": [
    "### 3.2.Perform Variance check\n",
    "Assuming the Threshold percentage of Variance acceptable is 10%"
   ]
  },
  {
   "cell_type": "code",
   "execution_count": 57,
   "metadata": {},
   "outputs": [
    {
     "name": "stdout",
     "output_type": "stream",
     "text": [
      "----Following shows the variance in the features of the dataframe-------------\n",
      "                       Name              Variance ? Can be Eliminated ?\n",
      "0                     Plant  High variance in data                   No\n",
      "1                    Name 1  High variance in data                   No\n",
      "2            Valuation Area  High variance in data                   No\n",
      "3      Customer no. - plant  High variance in data                   No\n",
      "4       Vendor number plant  High variance in data                   No\n",
      "5          Factory calendar   Low variance in data                  Yes\n",
      "6                    Name 2  High variance in data                   No\n",
      "7   House number and street  High variance in data                   No\n",
      "8                      City  High variance in data                   No\n",
      "9        Sales organization  High variance in data                   No\n",
      "10                    State  High variance in data                   No\n",
      "11                   PO Box  High variance in data                   No\n",
      "12              Postal Code  High variance in data                   No\n"
     ]
    }
   ],
   "source": [
    "lowVarianceCheck = lowVarianceEliminationDataFrameCheckOnThreshold(dfPlantMaster,0.1)\n",
    "print(lowVarianceCheck)"
   ]
  },
  {
   "cell_type": "markdown",
   "metadata": {},
   "source": [
    "### 3.3.Perform Data Cleanup and Save to file system for later use"
   ]
  },
  {
   "cell_type": "code",
   "execution_count": 58,
   "metadata": {},
   "outputs": [
    {
     "data": {
      "text/plain": [
       "(438, 11)"
      ]
     },
     "execution_count": 58,
     "metadata": {},
     "output_type": "execute_result"
    }
   ],
   "source": [
    "dfPlantMaster = dfPlantMaster.drop([\"Vendor number plant\",\"Factory calendar\"],axis=1)\n",
    "dfPlantMaster.shape"
   ]
  },
  {
   "cell_type": "code",
   "execution_count": 61,
   "metadata": {},
   "outputs": [],
   "source": [
    "dfPlantMaster.to_excel(cleaned_plantmaster_datapath, index=False) "
   ]
  },
  {
   "cell_type": "code",
   "execution_count": null,
   "metadata": {},
   "outputs": [],
   "source": []
  }
 ],
 "metadata": {
  "kernelspec": {
   "display_name": "Python 3",
   "language": "python",
   "name": "python3"
  },
  "language_info": {
   "codemirror_mode": {
    "name": "ipython",
    "version": 3
   },
   "file_extension": ".py",
   "mimetype": "text/x-python",
   "name": "python",
   "nbconvert_exporter": "python",
   "pygments_lexer": "ipython3",
   "version": "3.6.10"
  }
 },
 "nbformat": 4,
 "nbformat_minor": 4
}
