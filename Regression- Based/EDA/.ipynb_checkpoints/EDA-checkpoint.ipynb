{
 "cells": [
  {
   "cell_type": "code",
   "execution_count": 1,
   "metadata": {},
   "outputs": [],
   "source": [
    "import numpy as np\n",
    "import pandas as pd\n",
    "from datetime import datetime\n",
    "import matplotlib.pyplot as plt\n",
    "import seaborn as sns\n",
    "sns.set()"
   ]
  },
  {
   "cell_type": "code",
   "execution_count": 2,
   "metadata": {},
   "outputs": [
    {
     "name": "stderr",
     "output_type": "stream",
     "text": [
      "/home/harshal/anaconda3/envs/py37/lib/python3.7/site-packages/IPython/core/interactiveshell.py:3063: DtypeWarning: Columns (9,10,14,15,21,41,51) have mixed types.Specify dtype option on import or set low_memory=False.\n",
      "  interactivity=interactivity, compiler=compiler, result=result)\n"
     ]
    }
   ],
   "source": [
    "invoice = pd.read_csv(\"Final_invoice.csv\")"
   ]
  },
  {
   "cell_type": "code",
   "execution_count": 3,
   "metadata": {},
   "outputs": [],
   "source": [
    "from df_name import name\n",
    "invoice = name(invoice)"
   ]
  },
  {
   "cell_type": "code",
   "execution_count": 4,
   "metadata": {},
   "outputs": [
    {
     "name": "stdout",
     "output_type": "stream",
     "text": [
      "unnamed:_0\n",
      "amt_rcvd_from_custom\n",
      "amt_rcvd_from_ins_co\n",
      "area_/_locality\n",
      "cgst(14%)\n",
      "cgst(2.5%)\n",
      "cgst(6%)\n",
      "cgst(9%)\n",
      "city\n",
      "cash_/cashless_type\n",
      "claim_no.\n",
      "cust_type\n",
      "customer_no.\n",
      "district\n",
      "expiry_date\n",
      "gate_pass_date\n",
      "gate_pass_time\n",
      "igst(12%)\n",
      "igst(18%)\n",
      "igst(28%)\n",
      "igst(5%)\n",
      "insurance_company\n",
      "invoice_date\n",
      "invoice_no\n",
      "invoice_time\n",
      "job_card_no\n",
      "jobcard_date\n",
      "jobcard_time\n",
      "kms_reading\n",
      "labour_total\n",
      "make\n",
      "misc_total\n",
      "model\n",
      "odn_no.\n",
      "osl_total\n",
      "order_type\n",
      "outstanding_amt\n",
      "parts_total\n",
      "pin_code\n",
      "plant\n",
      "plant_name1\n",
      "policy_no.\n",
      "print_status\n",
      "recovrbl_exp\n",
      "regn_no\n",
      "sgst/ugst(14%)\n",
      "sgst/ugst(2.5%)\n",
      "sgst/ugst(6%)\n",
      "sgst/ugst(9%)\n",
      "service_advisor_name\n",
      "tds_amount\n",
      "technician_name\n",
      "total_amt_wtd_tax.\n",
      "total_cgst\n",
      "total_gst\n",
      "total_igst\n",
      "total_sgst/ugst\n",
      "total_value\n",
      "user_id\n"
     ]
    }
   ],
   "source": [
    "for col in invoice.columns:\n",
    "    print(col)"
   ]
  },
  {
   "cell_type": "code",
   "execution_count": 5,
   "metadata": {},
   "outputs": [],
   "source": [
    "invoice['district']= invoice['district'].replace(['Andaman and Nico.In.','Arunachal Pradesh','Delhi','Lakshadweep','Daman and Diu','Dadra and Nagar Hav.','Puducherry','Megalaya','Jammu and Kashmir'],\n",
    "                                         ['Andaman & Nicobar Island','Arunanchal Pradesh','NCT of Delhi','Lakshadweep','Daman & Diu','Dadara & Nagar Havelli','Puducherry','Meghalaya','Jammu & Kashmir']) \n",
    "invoice.to_csv(\"Final_invoice.csv\")"
   ]
  },
  {
   "cell_type": "code",
   "execution_count": 6,
   "metadata": {},
   "outputs": [
    {
     "data": {
      "text/html": [
       "<div>\n",
       "<style scoped>\n",
       "    .dataframe tbody tr th:only-of-type {\n",
       "        vertical-align: middle;\n",
       "    }\n",
       "\n",
       "    .dataframe tbody tr th {\n",
       "        vertical-align: top;\n",
       "    }\n",
       "\n",
       "    .dataframe thead th {\n",
       "        text-align: right;\n",
       "    }\n",
       "</style>\n",
       "<table border=\"1\" class=\"dataframe\">\n",
       "  <thead>\n",
       "    <tr style=\"text-align: right;\">\n",
       "      <th></th>\n",
       "      <th>unnamed:_0</th>\n",
       "      <th>amt_rcvd_from_custom</th>\n",
       "      <th>amt_rcvd_from_ins_co</th>\n",
       "      <th>area_/_locality</th>\n",
       "      <th>cgst(14%)</th>\n",
       "      <th>cgst(2.5%)</th>\n",
       "      <th>cgst(6%)</th>\n",
       "      <th>cgst(9%)</th>\n",
       "      <th>city</th>\n",
       "      <th>cash_/cashless_type</th>\n",
       "      <th>...</th>\n",
       "      <th>service_advisor_name</th>\n",
       "      <th>tds_amount</th>\n",
       "      <th>technician_name</th>\n",
       "      <th>total_amt_wtd_tax.</th>\n",
       "      <th>total_cgst</th>\n",
       "      <th>total_gst</th>\n",
       "      <th>total_igst</th>\n",
       "      <th>total_sgst/ugst</th>\n",
       "      <th>total_value</th>\n",
       "      <th>user_id</th>\n",
       "    </tr>\n",
       "  </thead>\n",
       "  <tbody>\n",
       "    <tr>\n",
       "      <th>0</th>\n",
       "      <td>0</td>\n",
       "      <td>0.0</td>\n",
       "      <td>0.0</td>\n",
       "      <td>MAJIWADA</td>\n",
       "      <td>0.0</td>\n",
       "      <td>0.0</td>\n",
       "      <td>0.0</td>\n",
       "      <td>0.0</td>\n",
       "      <td>Thane</td>\n",
       "      <td>NaN</td>\n",
       "      <td>...</td>\n",
       "      <td>NaN</td>\n",
       "      <td>0.0</td>\n",
       "      <td>RUPESH</td>\n",
       "      <td>4051.95</td>\n",
       "      <td>0.0</td>\n",
       "      <td>0.0</td>\n",
       "      <td>0.0</td>\n",
       "      <td>0.0</td>\n",
       "      <td>4051.95</td>\n",
       "      <td>BC01FS1</td>\n",
       "    </tr>\n",
       "    <tr>\n",
       "      <th>1</th>\n",
       "      <td>1</td>\n",
       "      <td>0.0</td>\n",
       "      <td>0.0</td>\n",
       "      <td>THNAE</td>\n",
       "      <td>0.0</td>\n",
       "      <td>0.0</td>\n",
       "      <td>0.0</td>\n",
       "      <td>0.0</td>\n",
       "      <td>THNAE</td>\n",
       "      <td>NaN</td>\n",
       "      <td>...</td>\n",
       "      <td>NaN</td>\n",
       "      <td>0.0</td>\n",
       "      <td>PRASHANT</td>\n",
       "      <td>1001.29</td>\n",
       "      <td>0.0</td>\n",
       "      <td>0.0</td>\n",
       "      <td>0.0</td>\n",
       "      <td>0.0</td>\n",
       "      <td>1001.29</td>\n",
       "      <td>BC01SA2</td>\n",
       "    </tr>\n",
       "    <tr>\n",
       "      <th>2</th>\n",
       "      <td>2</td>\n",
       "      <td>0.0</td>\n",
       "      <td>0.0</td>\n",
       "      <td>THANE</td>\n",
       "      <td>0.0</td>\n",
       "      <td>0.0</td>\n",
       "      <td>0.0</td>\n",
       "      <td>0.0</td>\n",
       "      <td>THANE[W]</td>\n",
       "      <td>NaN</td>\n",
       "      <td>...</td>\n",
       "      <td>NaN</td>\n",
       "      <td>0.0</td>\n",
       "      <td>IMRAN</td>\n",
       "      <td>233.14</td>\n",
       "      <td>0.0</td>\n",
       "      <td>0.0</td>\n",
       "      <td>0.0</td>\n",
       "      <td>0.0</td>\n",
       "      <td>233.14</td>\n",
       "      <td>BC01SA2</td>\n",
       "    </tr>\n",
       "    <tr>\n",
       "      <th>3</th>\n",
       "      <td>3</td>\n",
       "      <td>0.0</td>\n",
       "      <td>0.0</td>\n",
       "      <td>THNAE</td>\n",
       "      <td>0.0</td>\n",
       "      <td>0.0</td>\n",
       "      <td>0.0</td>\n",
       "      <td>0.0</td>\n",
       "      <td>THNAE</td>\n",
       "      <td>NaN</td>\n",
       "      <td>...</td>\n",
       "      <td>NaN</td>\n",
       "      <td>0.0</td>\n",
       "      <td>PRASHANT</td>\n",
       "      <td>0.00</td>\n",
       "      <td>0.0</td>\n",
       "      <td>0.0</td>\n",
       "      <td>0.0</td>\n",
       "      <td>0.0</td>\n",
       "      <td>0.00</td>\n",
       "      <td>BC01SA2</td>\n",
       "    </tr>\n",
       "    <tr>\n",
       "      <th>4</th>\n",
       "      <td>4</td>\n",
       "      <td>0.0</td>\n",
       "      <td>0.0</td>\n",
       "      <td>THANE</td>\n",
       "      <td>0.0</td>\n",
       "      <td>0.0</td>\n",
       "      <td>0.0</td>\n",
       "      <td>0.0</td>\n",
       "      <td>THANE</td>\n",
       "      <td>NaN</td>\n",
       "      <td>...</td>\n",
       "      <td>NaN</td>\n",
       "      <td>0.0</td>\n",
       "      <td>DAYANAND</td>\n",
       "      <td>2747.12</td>\n",
       "      <td>0.0</td>\n",
       "      <td>0.0</td>\n",
       "      <td>0.0</td>\n",
       "      <td>0.0</td>\n",
       "      <td>2747.12</td>\n",
       "      <td>BC01SA2</td>\n",
       "    </tr>\n",
       "  </tbody>\n",
       "</table>\n",
       "<p>5 rows × 59 columns</p>\n",
       "</div>"
      ],
      "text/plain": [
       "   unnamed:_0  amt_rcvd_from_custom  amt_rcvd_from_ins_co area_/_locality  \\\n",
       "0           0                   0.0                   0.0        MAJIWADA   \n",
       "1           1                   0.0                   0.0           THNAE   \n",
       "2           2                   0.0                   0.0           THANE   \n",
       "3           3                   0.0                   0.0           THNAE   \n",
       "4           4                   0.0                   0.0           THANE   \n",
       "\n",
       "   cgst(14%)  cgst(2.5%)  cgst(6%)  cgst(9%)      city cash_/cashless_type  \\\n",
       "0        0.0         0.0       0.0       0.0     Thane                 NaN   \n",
       "1        0.0         0.0       0.0       0.0     THNAE                 NaN   \n",
       "2        0.0         0.0       0.0       0.0  THANE[W]                 NaN   \n",
       "3        0.0         0.0       0.0       0.0     THNAE                 NaN   \n",
       "4        0.0         0.0       0.0       0.0     THANE                 NaN   \n",
       "\n",
       "   ... service_advisor_name tds_amount technician_name total_amt_wtd_tax.  \\\n",
       "0  ...                  NaN        0.0          RUPESH            4051.95   \n",
       "1  ...                  NaN        0.0        PRASHANT            1001.29   \n",
       "2  ...                  NaN        0.0           IMRAN             233.14   \n",
       "3  ...                  NaN        0.0        PRASHANT               0.00   \n",
       "4  ...                  NaN        0.0        DAYANAND            2747.12   \n",
       "\n",
       "  total_cgst total_gst total_igst  total_sgst/ugst  total_value  user_id  \n",
       "0        0.0       0.0        0.0              0.0      4051.95  BC01FS1  \n",
       "1        0.0       0.0        0.0              0.0      1001.29  BC01SA2  \n",
       "2        0.0       0.0        0.0              0.0       233.14  BC01SA2  \n",
       "3        0.0       0.0        0.0              0.0         0.00  BC01SA2  \n",
       "4        0.0       0.0        0.0              0.0      2747.12  BC01SA2  \n",
       "\n",
       "[5 rows x 59 columns]"
      ]
     },
     "execution_count": 6,
     "metadata": {},
     "output_type": "execute_result"
    }
   ],
   "source": [
    "invoice.head()"
   ]
  },
  {
   "cell_type": "markdown",
   "metadata": {},
   "source": [
    "## Which areas have most cars?"
   ]
  },
  {
   "cell_type": "code",
   "execution_count": 64,
   "metadata": {},
   "outputs": [
    {
     "data": {
      "text/plain": [
       "<matplotlib.axes._subplots.AxesSubplot at 0x7f3444b27c90>"
      ]
     },
     "execution_count": 64,
     "metadata": {},
     "output_type": "execute_result"
    },
    {
     "data": {
      "image/png": "[encoded data removed]",
      "text/plain": [
       "<Figure size 432x288 with 1 Axes>"
      ]
     },
     "metadata": {
      "needs_background": "light"
     },
     "output_type": "display_data"
    }
   ],
   "source": [
    "state_model = invoice.groupby([\"district\"])[[\"model\"]].count().sort_values(\"model\", ascending=False)\n",
    "state_model[:10].plot.bar()\n"
   ]
  },
  {
   "cell_type": "markdown",
   "metadata": {},
   "source": [
    "## Which make/model/car is more popular?"
   ]
  },
  {
   "cell_type": "code",
   "execution_count": 10,
   "metadata": {},
   "outputs": [
    {
     "data": {
      "image/png": "[encoded data removed]",
      "text/plain": [
       "<Figure size 432x288 with 1 Axes>"
      ]
     },
     "metadata": {
      "needs_background": "light"
     },
     "output_type": "display_data"
    },
    {
     "name": "stdout",
     "output_type": "stream",
     "text": [
      "Model with most cars - SWIFT\n"
     ]
    }
   ],
   "source": [
    "invoice.model.value_counts()[:10].plot.bar()\n",
    "for num, counts in enumerate(invoice.model.value_counts()[:10]):\n",
    "    plt.text(num, counts, counts)\n",
    "plt.show()\n",
    "print(f\"Model with most cars - {invoice.model.value_counts().index[0]}\")"
   ]
  },
  {
   "cell_type": "markdown",
   "metadata": {},
   "source": [
    "## What is the average income per source?"
   ]
  },
  {
   "cell_type": "code",
   "execution_count": 25,
   "metadata": {},
   "outputs": [
    {
     "name": "stdout",
     "output_type": "stream",
     "text": [
      "Average value per entry = Rs. 2647.64\n"
     ]
    }
   ],
   "source": [
    "print(f\"Average value per entry = Rs. {np.round(np.sum(invoice.total_value)/len(invoice),2)}\")"
   ]
  },
  {
   "cell_type": "markdown",
   "metadata": {},
   "source": [
    "## Services done based on average KM's run"
   ]
  },
  {
   "cell_type": "code",
   "execution_count": 30,
   "metadata": {},
   "outputs": [
    {
     "data": {
      "image/png": "[encoded data removed]",
      "text/plain": [
       "<Figure size 432x288 with 1 Axes>"
      ]
     },
     "metadata": {
      "needs_background": "light"
     },
     "output_type": "display_data"
    },
    {
     "name": "stdout",
     "output_type": "stream",
     "text": [
      "Average km reading per entry = 77577.03km\n"
     ]
    }
   ],
   "source": [
    "plt.boxplot(invoice.kms_reading,showfliers=False)\n",
    "plt.show()\n",
    "print(f\"Average km reading per entry = {np.round(np.sum(invoice.kms_reading)/len(invoice),2)}km\")"
   ]
  },
  {
   "cell_type": "markdown",
   "metadata": {},
   "source": [
    "## Which insurance companies are used the most ? Area and Nationwise"
   ]
  },
  {
   "cell_type": "code",
   "execution_count": 48,
   "metadata": {},
   "outputs": [
    {
     "data": {
      "image/png": "[encoded data removed]",
      "text/plain": [
       "<Figure size 432x288 with 1 Axes>"
      ]
     },
     "metadata": {
      "needs_background": "light"
     },
     "output_type": "display_data"
    },
    {
     "name": "stdout",
     "output_type": "stream",
     "text": [
      "Most appeared insurance company is THE NEW INDIA ASSURANCE CO. LTD.\n"
     ]
    }
   ],
   "source": [
    "invoice.insurance_company.value_counts()[:10].plot.bar()\n",
    "for num, counts in enumerate(invoice.insurance_company.value_counts()[:10]):\n",
    "    plt.text(num, counts, counts)\n",
    "plt.show()\n",
    "print(f\"Most appeared insurance company is {invoice.insurance_company.value_counts().index[0]}\")"
   ]
  },
  {
   "cell_type": "markdown",
   "metadata": {},
   "source": [
    "## Highest Service done based on Area"
   ]
  },
  {
   "cell_type": "code",
   "execution_count": 50,
   "metadata": {},
   "outputs": [
    {
     "data": {
      "image/png": "[encoded data removed]",
      "text/plain": [
       "<Figure size 432x288 with 1 Axes>"
      ]
     },
     "metadata": {
      "needs_background": "light"
     },
     "output_type": "display_data"
    },
    {
     "name": "stdout",
     "output_type": "stream",
     "text": [
      "State with most services - Maharashtra\n"
     ]
    }
   ],
   "source": [
    "invoice.district.value_counts()[:10].plot.bar()\n",
    "for num, counts in enumerate(invoice.district.value_counts()[:10]):\n",
    "    plt.text(num, counts, counts)\n",
    "plt.show()\n",
    "print(f\"State with most services - {invoice.district.value_counts().index[0]}\")"
   ]
  },
  {
   "cell_type": "markdown",
   "metadata": {},
   "source": [
    "## Technician who did the highest number of Services"
   ]
  },
  {
   "cell_type": "code",
   "execution_count": 79,
   "metadata": {},
   "outputs": [
    {
     "data": {
      "image/png": "[encoded data removed]",
      "text/plain": [
       "<Figure size 432x288 with 1 Axes>"
      ]
     },
     "metadata": {
      "needs_background": "light"
     },
     "output_type": "display_data"
    },
    {
     "name": "stdout",
     "output_type": "stream",
     "text": [
      "Technician with most services - rajesh\n"
     ]
    }
   ],
   "source": [
    "invoice.technician_name = invoice.technician_name.map(lambda x:x.lower() if type(x)==\"<class 'str'>\" else(x))\n",
    "invoice.technician_name.value_counts()[:10].plot.bar()\n",
    "for num, counts in enumerate(invoice.technician_name.value_counts()[:10]):\n",
    "    plt.text(num, counts, counts)\n",
    "plt.show()\n",
    "print(f\"Technician with most services - {invoice.technician_name.value_counts().index[0]}\")"
   ]
  },
  {
   "cell_type": "code",
   "execution_count": 100,
   "metadata": {},
   "outputs": [
    {
     "data": {
      "text/html": [
       "<div>\n",
       "<style scoped>\n",
       "    .dataframe tbody tr th:only-of-type {\n",
       "        vertical-align: middle;\n",
       "    }\n",
       "\n",
       "    .dataframe tbody tr th {\n",
       "        vertical-align: top;\n",
       "    }\n",
       "\n",
       "    .dataframe thead th {\n",
       "        text-align: right;\n",
       "    }\n",
       "</style>\n",
       "<table border=\"1\" class=\"dataframe\">\n",
       "  <thead>\n",
       "    <tr style=\"text-align: right;\">\n",
       "      <th></th>\n",
       "      <th>user_id</th>\n",
       "      <th>technician_name</th>\n",
       "      <th>counts</th>\n",
       "    </tr>\n",
       "  </thead>\n",
       "  <tbody>\n",
       "    <tr>\n",
       "      <th>8657</th>\n",
       "      <td>BC26SA1</td>\n",
       "      <td>sayyad</td>\n",
       "      <td>3184</td>\n",
       "    </tr>\n",
       "    <tr>\n",
       "      <th>2109</th>\n",
       "      <td>BC03SA4</td>\n",
       "      <td>jk</td>\n",
       "      <td>1550</td>\n",
       "    </tr>\n",
       "    <tr>\n",
       "      <th>3608</th>\n",
       "      <td>BC07SA2</td>\n",
       "      <td>arun</td>\n",
       "      <td>1041</td>\n",
       "    </tr>\n",
       "    <tr>\n",
       "      <th>143</th>\n",
       "      <td>BC01SA1</td>\n",
       "      <td>harshad</td>\n",
       "      <td>905</td>\n",
       "    </tr>\n",
       "    <tr>\n",
       "      <th>13445</th>\n",
       "      <td>X020SA1</td>\n",
       "      <td>yuvaraj</td>\n",
       "      <td>905</td>\n",
       "    </tr>\n",
       "    <tr>\n",
       "      <th>...</th>\n",
       "      <td>...</td>\n",
       "      <td>...</td>\n",
       "      <td>...</td>\n",
       "    </tr>\n",
       "    <tr>\n",
       "      <th>9274</th>\n",
       "      <td>BC28FS1</td>\n",
       "      <td>mehruddin &amp; riyaz</td>\n",
       "      <td>1</td>\n",
       "    </tr>\n",
       "    <tr>\n",
       "      <th>9275</th>\n",
       "      <td>BC28FS1</td>\n",
       "      <td>mehruddin &amp; riyaz,</td>\n",
       "      <td>1</td>\n",
       "    </tr>\n",
       "    <tr>\n",
       "      <th>9276</th>\n",
       "      <td>BC28FS1</td>\n",
       "      <td>mehrudin &amp; gulzar,.</td>\n",
       "      <td>1</td>\n",
       "    </tr>\n",
       "    <tr>\n",
       "      <th>9277</th>\n",
       "      <td>BC28FS1</td>\n",
       "      <td>mehrudin &amp; riyaz</td>\n",
       "      <td>1</td>\n",
       "    </tr>\n",
       "    <tr>\n",
       "      <th>8746</th>\n",
       "      <td>BC26SA3</td>\n",
       "      <td>ajij</td>\n",
       "      <td>1</td>\n",
       "    </tr>\n",
       "  </tbody>\n",
       "</table>\n",
       "<p>17492 rows × 3 columns</p>\n",
       "</div>"
      ],
      "text/plain": [
       "       user_id      technician_name  counts\n",
       "8657   BC26SA1               sayyad    3184\n",
       "2109   BC03SA4                   jk    1550\n",
       "3608   BC07SA2                 arun    1041\n",
       "143    BC01SA1              harshad     905\n",
       "13445  X020SA1              yuvaraj     905\n",
       "...        ...                  ...     ...\n",
       "9274   BC28FS1    mehruddin & riyaz       1\n",
       "9275   BC28FS1   mehruddin & riyaz,       1\n",
       "9276   BC28FS1  mehrudin & gulzar,.       1\n",
       "9277   BC28FS1     mehrudin & riyaz       1\n",
       "8746   BC26SA3                 ajij       1\n",
       "\n",
       "[17492 rows x 3 columns]"
      ]
     },
     "execution_count": 100,
     "metadata": {},
     "output_type": "execute_result"
    }
   ],
   "source": [
    "state_model = invoice.groupby([\"user_id\",\"technician_name\"])[[\"technician_name\"]].count()\n",
    "state_model = state_model.rename(columns = {\"technician_name\":\"counts\"}).reset_index()\n",
    "state_model.sort_values(\"counts\",ascending=False)"
   ]
  },
  {
   "cell_type": "markdown",
   "metadata": {},
   "source": [
    "## Is the service seasonal or regular?"
   ]
  },
  {
   "cell_type": "code",
   "execution_count": 103,
   "metadata": {},
   "outputs": [
    {
     "data": {
      "text/plain": [
       "91.68924710652145"
      ]
     },
     "execution_count": 103,
     "metadata": {},
     "output_type": "execute_result"
    }
   ],
   "source": [
    "invoice.gate_pass_date.isnull().sum()/len(invoice)*100"
   ]
  },
  {
   "cell_type": "code",
   "execution_count": 109,
   "metadata": {},
   "outputs": [
    {
     "name": "stdout",
     "output_type": "stream",
     "text": [
      "0.0\n",
      "0.3335269766856112\n"
     ]
    }
   ],
   "source": [
    "print(invoice.invoice_date.isnull().sum()/len(invoice)*100)\n",
    "print(invoice.invoice_date.nunique()/len(invoice)*100)"
   ]
  },
  {
   "cell_type": "code",
   "execution_count": 110,
   "metadata": {},
   "outputs": [
    {
     "name": "stdout",
     "output_type": "stream",
     "text": [
      "0.0\n",
      "0.33373009908310547\n"
     ]
    }
   ],
   "source": [
    "print(invoice.jobcard_date.isnull().sum()/len(invoice)*100)\n",
    "print(invoice.jobcard_date.nunique()/len(invoice)*100)"
   ]
  },
  {
   "cell_type": "code",
   "execution_count": 120,
   "metadata": {},
   "outputs": [
    {
     "data": {
      "text/plain": [
       "0         2015-01-02\n",
       "1         2015-01-03\n",
       "2         2015-01-03\n",
       "3         2015-01-03\n",
       "4         2015-01-03\n",
       "             ...    \n",
       "492309    2016-06-30\n",
       "492310    2016-06-30\n",
       "492311    2016-06-30\n",
       "492312    2016-06-30\n",
       "492313    2016-06-30\n",
       "Name: invoice_date, Length: 492314, dtype: object"
      ]
     },
     "execution_count": 120,
     "metadata": {},
     "output_type": "execute_result"
    }
   ],
   "source": [
    "invoice.invoice_date"
   ]
  },
  {
   "cell_type": "code",
   "execution_count": 121,
   "metadata": {},
   "outputs": [
    {
     "data": {
      "text/plain": [
       "'11:30:36'"
      ]
     },
     "execution_count": 121,
     "metadata": {},
     "output_type": "execute_result"
    }
   ],
   "source": [
    "invoice.invoice_time[0]"
   ]
  },
  {
   "cell_type": "code",
   "execution_count": 122,
   "metadata": {},
   "outputs": [
    {
     "data": {
      "text/html": [
       "<div>\n",
       "<style scoped>\n",
       "    .dataframe tbody tr th:only-of-type {\n",
       "        vertical-align: middle;\n",
       "    }\n",
       "\n",
       "    .dataframe tbody tr th {\n",
       "        vertical-align: top;\n",
       "    }\n",
       "\n",
       "    .dataframe thead th {\n",
       "        text-align: right;\n",
       "    }\n",
       "</style>\n",
       "<table border=\"1\" class=\"dataframe\">\n",
       "  <thead>\n",
       "    <tr style=\"text-align: right;\">\n",
       "      <th></th>\n",
       "      <th>Unnamed: 0</th>\n",
       "      <th>DBM Order</th>\n",
       "      <th>Order Item</th>\n",
       "      <th>Material</th>\n",
       "      <th>Labor Value Number</th>\n",
       "      <th>Description</th>\n",
       "      <th>Item Category</th>\n",
       "      <th>Order Quantity</th>\n",
       "      <th>Target quantity UoM</th>\n",
       "      <th>Net value</th>\n",
       "    </tr>\n",
       "  </thead>\n",
       "  <tbody>\n",
       "    <tr>\n",
       "      <th>0</th>\n",
       "      <td>0</td>\n",
       "      <td>22385</td>\n",
       "      <td>180</td>\n",
       "      <td>OSLCC_SRV31</td>\n",
       "      <td>NaN</td>\n",
       "      <td>MACHINING RR.SUSPENSION CHARGE  (MAJOR)</td>\n",
       "      <td>P010</td>\n",
       "      <td>1.2</td>\n",
       "      <td>MIN</td>\n",
       "      <td>1869.87</td>\n",
       "    </tr>\n",
       "    <tr>\n",
       "      <th>1</th>\n",
       "      <td>1</td>\n",
       "      <td>23910</td>\n",
       "      <td>10</td>\n",
       "      <td>1DM279018170117</td>\n",
       "      <td>NaN</td>\n",
       "      <td>ASSY.OIL COOLER (6-PLATE) (VOR</td>\n",
       "      <td>P002</td>\n",
       "      <td>1.0</td>\n",
       "      <td>EA</td>\n",
       "      <td>2151.13</td>\n",
       "    </tr>\n",
       "    <tr>\n",
       "      <th>2</th>\n",
       "      <td>2</td>\n",
       "      <td>23910</td>\n",
       "      <td>40</td>\n",
       "      <td>1IS150203BE01</td>\n",
       "      <td>NaN</td>\n",
       "      <td>FRONT WHEEL BEARING/ LUBRICATE</td>\n",
       "      <td>P002</td>\n",
       "      <td>1.0</td>\n",
       "      <td>EA</td>\n",
       "      <td>2552.92</td>\n",
       "    </tr>\n",
       "    <tr>\n",
       "      <th>3</th>\n",
       "      <td>3</td>\n",
       "      <td>23910</td>\n",
       "      <td>60</td>\n",
       "      <td>1DM279001990173</td>\n",
       "      <td>NaN</td>\n",
       "      <td>ASSY.CYL.HEAD W /O INJ.(NA W /O</td>\n",
       "      <td>P002</td>\n",
       "      <td>1.0</td>\n",
       "      <td>EA</td>\n",
       "      <td>20360.14</td>\n",
       "    </tr>\n",
       "    <tr>\n",
       "      <th>4</th>\n",
       "      <td>4</td>\n",
       "      <td>23910</td>\n",
       "      <td>70</td>\n",
       "      <td>1DM88552790S001SA</td>\n",
       "      <td>NaN</td>\n",
       "      <td>Engine Overhaul Kit -Indica Di</td>\n",
       "      <td>P002</td>\n",
       "      <td>1.0</td>\n",
       "      <td>EA</td>\n",
       "      <td>10691.63</td>\n",
       "    </tr>\n",
       "  </tbody>\n",
       "</table>\n",
       "</div>"
      ],
      "text/plain": [
       "   Unnamed: 0  DBM Order  Order Item           Material Labor Value Number  \\\n",
       "0           0      22385         180        OSLCC_SRV31                NaN   \n",
       "1           1      23910          10    1DM279018170117                NaN   \n",
       "2           2      23910          40      1IS150203BE01                NaN   \n",
       "3           3      23910          60    1DM279001990173                NaN   \n",
       "4           4      23910          70  1DM88552790S001SA                NaN   \n",
       "\n",
       "                               Description Item Category  Order Quantity  \\\n",
       "0  MACHINING RR.SUSPENSION CHARGE  (MAJOR)          P010             1.2   \n",
       "1           ASSY.OIL COOLER (6-PLATE) (VOR          P002             1.0   \n",
       "2           FRONT WHEEL BEARING/ LUBRICATE          P002             1.0   \n",
       "3          ASSY.CYL.HEAD W /O INJ.(NA W /O          P002             1.0   \n",
       "4           Engine Overhaul Kit -Indica Di          P002             1.0   \n",
       "\n",
       "  Target quantity UoM  Net value  \n",
       "0                 MIN    1869.87  \n",
       "1                  EA    2151.13  \n",
       "2                  EA    2552.92  \n",
       "3                  EA   20360.14  \n",
       "4                  EA   10691.63  "
      ]
     },
     "execution_count": 122,
     "metadata": {},
     "output_type": "execute_result"
    }
   ],
   "source": [
    "jtd = pd.read_csv(\"JTD.csv\")\n",
    "jtd.head()"
   ]
  },
  {
   "cell_type": "code",
   "execution_count": 124,
   "metadata": {},
   "outputs": [],
   "source": [
    "jtd = name(jtd)"
   ]
  },
  {
   "cell_type": "markdown",
   "metadata": {},
   "source": [
    "## Which make/car is the inventory item used by most?"
   ]
  },
  {
   "cell_type": "code",
   "execution_count": 125,
   "metadata": {},
   "outputs": [
    {
     "data": {
      "image/png": "[encoded data removed]",
      "text/plain": [
       "<Figure size 432x288 with 1 Axes>"
      ]
     },
     "metadata": {
      "needs_background": "light"
     },
     "output_type": "display_data"
    }
   ],
   "source": [
    "jtd.material.value_counts()[:10].plot.bar()\n",
    "for num, counts in enumerate(jtd.material.value_counts()[:10]):\n",
    "    plt.text(num, counts, counts)\n",
    "plt.show()"
   ]
  },
  {
   "cell_type": "markdown",
   "metadata": {},
   "source": [
    "## Most Expensive Parts"
   ]
  },
  {
   "cell_type": "code",
   "execution_count": 127,
   "metadata": {},
   "outputs": [
    {
     "data": {
      "text/html": [
       "<div>\n",
       "<style scoped>\n",
       "    .dataframe tbody tr th:only-of-type {\n",
       "        vertical-align: middle;\n",
       "    }\n",
       "\n",
       "    .dataframe tbody tr th {\n",
       "        vertical-align: top;\n",
       "    }\n",
       "\n",
       "    .dataframe thead th {\n",
       "        text-align: right;\n",
       "    }\n",
       "</style>\n",
       "<table border=\"1\" class=\"dataframe\">\n",
       "  <thead>\n",
       "    <tr style=\"text-align: right;\">\n",
       "      <th></th>\n",
       "      <th>net_value</th>\n",
       "    </tr>\n",
       "    <tr>\n",
       "      <th>material</th>\n",
       "      <th></th>\n",
       "    </tr>\n",
       "  </thead>\n",
       "  <tbody>\n",
       "    <tr>\n",
       "      <th>1KS210101EN53</th>\n",
       "      <td>599858.57</td>\n",
       "    </tr>\n",
       "    <tr>\n",
       "      <th>1EMJ96862840</th>\n",
       "      <td>510644.30</td>\n",
       "    </tr>\n",
       "    <tr>\n",
       "      <th>1EMJ96440478</th>\n",
       "      <td>489329.55</td>\n",
       "    </tr>\n",
       "    <tr>\n",
       "      <th>1MMEB3R7003SB</th>\n",
       "      <td>444895.65</td>\n",
       "    </tr>\n",
       "    <tr>\n",
       "      <th>1JS090102GB01</th>\n",
       "      <td>333249.73</td>\n",
       "    </tr>\n",
       "    <tr>\n",
       "      <th>...</th>\n",
       "      <td>...</td>\n",
       "    </tr>\n",
       "    <tr>\n",
       "      <th>FFSPNTCO390</th>\n",
       "      <td>0.00</td>\n",
       "    </tr>\n",
       "    <tr>\n",
       "      <th>FFSPNTCO39</th>\n",
       "      <td>0.00</td>\n",
       "    </tr>\n",
       "    <tr>\n",
       "      <th>1BM0018492</th>\n",
       "      <td>-0.02</td>\n",
       "    </tr>\n",
       "    <tr>\n",
       "      <th>GMSR_MENU14</th>\n",
       "      <td>-17.49</td>\n",
       "    </tr>\n",
       "    <tr>\n",
       "      <th>1BM0111DB0230N</th>\n",
       "      <td>-850.06</td>\n",
       "    </tr>\n",
       "  </tbody>\n",
       "</table>\n",
       "<p>126567 rows × 1 columns</p>\n",
       "</div>"
      ],
      "text/plain": [
       "                net_value\n",
       "material                 \n",
       "1KS210101EN53   599858.57\n",
       "1EMJ96862840    510644.30\n",
       "1EMJ96440478    489329.55\n",
       "1MMEB3R7003SB   444895.65\n",
       "1JS090102GB01   333249.73\n",
       "...                   ...\n",
       "FFSPNTCO390          0.00\n",
       "FFSPNTCO39           0.00\n",
       "1BM0018492          -0.02\n",
       "GMSR_MENU14        -17.49\n",
       "1BM0111DB0230N    -850.06\n",
       "\n",
       "[126567 rows x 1 columns]"
      ]
     },
     "execution_count": 127,
     "metadata": {},
     "output_type": "execute_result"
    }
   ],
   "source": [
    "jtd.groupby([\"material\"])[[\"net_value\"]].mean().sort_values(\"net_value\",ascending=False)"
   ]
  },
  {
   "cell_type": "code",
   "execution_count": 128,
   "metadata": {},
   "outputs": [
    {
     "data": {
      "image/png": "[encoded data removed]",
      "text/plain": [
       "<Figure size 432x288 with 1 Axes>"
      ]
     },
     "metadata": {
      "needs_background": "light"
     },
     "output_type": "display_data"
    }
   ],
   "source": [
    "jtd.groupby([\"material\"])[[\"net_value\"]].mean().sort_values(\"net_value\",ascending=False)[:10].plot.bar()\n",
    "plt.show()"
   ]
  },
  {
   "cell_type": "markdown",
   "metadata": {},
   "source": [
    "### Also can be seen that, most expensive parts are not as same as most frequent parts."
   ]
  },
  {
   "cell_type": "markdown",
   "metadata": {},
   "source": [
    "## Which insurance companies are used the most ? Area and Nationwise"
   ]
  },
  {
   "cell_type": "code",
   "execution_count": 129,
   "metadata": {},
   "outputs": [
    {
     "data": {
      "image/png": "[encoded data removed]",
      "text/plain": [
       "<Figure size 432x288 with 1 Axes>"
      ]
     },
     "metadata": {
      "needs_background": "light"
     },
     "output_type": "display_data"
    },
    {
     "name": "stdout",
     "output_type": "stream",
     "text": [
      "Most occured Insurance Company - THE NEW INDIA ASSURANCE CO. LTD.\n"
     ]
    }
   ],
   "source": [
    "invoice.insurance_company.value_counts()[:10].plot.bar()\n",
    "for num, counts in enumerate(invoice.insurance_company.value_counts()[:10]):\n",
    "    plt.text(num, counts, counts)\n",
    "plt.show()\n",
    "print(f\"Most occured Insurance Company - {invoice.insurance_company.value_counts().index[0]}\")"
   ]
  },
  {
   "cell_type": "code",
   "execution_count": 130,
   "metadata": {},
   "outputs": [
    {
     "data": {
      "text/html": [
       "<div>\n",
       "<style scoped>\n",
       "    .dataframe tbody tr th:only-of-type {\n",
       "        vertical-align: middle;\n",
       "    }\n",
       "\n",
       "    .dataframe tbody tr th {\n",
       "        vertical-align: top;\n",
       "    }\n",
       "\n",
       "    .dataframe thead th {\n",
       "        text-align: right;\n",
       "    }\n",
       "</style>\n",
       "<table border=\"1\" class=\"dataframe\">\n",
       "  <thead>\n",
       "    <tr style=\"text-align: right;\">\n",
       "      <th></th>\n",
       "      <th></th>\n",
       "      <th>insurance_company</th>\n",
       "    </tr>\n",
       "    <tr>\n",
       "      <th>city</th>\n",
       "      <th>insurance_company</th>\n",
       "      <th></th>\n",
       "    </tr>\n",
       "  </thead>\n",
       "  <tbody>\n",
       "    <tr>\n",
       "      <th rowspan=\"5\" valign=\"top\">,</th>\n",
       "      <th>BHARTI AXA GENRERAL INSURANCE</th>\n",
       "      <td>1</td>\n",
       "    </tr>\n",
       "    <tr>\n",
       "      <th>HDFC ERGO</th>\n",
       "      <td>3</td>\n",
       "    </tr>\n",
       "    <tr>\n",
       "      <th>ICICI LOMBARD CUSTOMER DUES</th>\n",
       "      <td>2</td>\n",
       "    </tr>\n",
       "    <tr>\n",
       "      <th>NATIONAL INSURANCE COMPANY LIMITED</th>\n",
       "      <td>5</td>\n",
       "    </tr>\n",
       "    <tr>\n",
       "      <th>THE NEW INDIA ASSURANCE CO. LTD.</th>\n",
       "      <td>1</td>\n",
       "    </tr>\n",
       "    <tr>\n",
       "      <th>...</th>\n",
       "      <th>...</th>\n",
       "      <td>...</td>\n",
       "    </tr>\n",
       "    <tr>\n",
       "      <th rowspan=\"5\" valign=\"top\">zirkpur</th>\n",
       "      <th>Future Generali India Ins. Co Ltd</th>\n",
       "      <td>2</td>\n",
       "    </tr>\n",
       "    <tr>\n",
       "      <th>HDFC ERGO</th>\n",
       "      <td>1</td>\n",
       "    </tr>\n",
       "    <tr>\n",
       "      <th>IFFCOTOKIO GENERAL INSURANCE</th>\n",
       "      <td>3</td>\n",
       "    </tr>\n",
       "    <tr>\n",
       "      <th>NATIONAL INSURANCE COMPANY LIMITED</th>\n",
       "      <td>3</td>\n",
       "    </tr>\n",
       "    <tr>\n",
       "      <th>UNITED INDIA INSURANCE CO. LTD</th>\n",
       "      <td>1</td>\n",
       "    </tr>\n",
       "  </tbody>\n",
       "</table>\n",
       "<p>5242 rows × 1 columns</p>\n",
       "</div>"
      ],
      "text/plain": [
       "                                            insurance_company\n",
       "city    insurance_company                                    \n",
       ",       BHARTI AXA GENRERAL INSURANCE                       1\n",
       "        HDFC ERGO                                           3\n",
       "        ICICI LOMBARD CUSTOMER DUES                         2\n",
       "        NATIONAL INSURANCE COMPANY LIMITED                  5\n",
       "        THE NEW INDIA ASSURANCE CO. LTD.                    1\n",
       "...                                                       ...\n",
       "zirkpur Future Generali India Ins. Co Ltd                   2\n",
       "        HDFC ERGO                                           1\n",
       "        IFFCOTOKIO GENERAL INSURANCE                        3\n",
       "        NATIONAL INSURANCE COMPANY LIMITED                  3\n",
       "        UNITED INDIA INSURANCE CO. LTD                      1\n",
       "\n",
       "[5242 rows x 1 columns]"
      ]
     },
     "execution_count": 130,
     "metadata": {},
     "output_type": "execute_result"
    }
   ],
   "source": [
    "invoice.groupby([\"city\",\"insurance_company\"])[[\"insurance_company\"]].count()"
   ]
  },
  {
   "cell_type": "code",
   "execution_count": 132,
   "metadata": {},
   "outputs": [],
   "source": [
    "\n",
    "#data for city\n",
    "invoice.city.fillna(\"unknown\", inplace=True)\n",
    "invoice.city = invoice.city.map(lambda x: \"unknown\" if x in [\"w\",\",\",\".\"] else x)\n",
    "invoice.city = invoice.city.map(lambda x: \"kalwa\" if x ==\"kalawa\" else x)                           #kalwa\n",
    "invoice.city = invoice.city.map(lambda x: \"thane\" if (x.startswith(\"thane\")\n",
    "                                            or x.split()[-1] == \"thane\"\n",
    "                                            or x == \"thyane\") \n",
    "                                        else x)                                           #thane\n",
    "\n",
    "invoice.city = invoice.city.map(lambda x: \"mumbai\" if x in [\"mubai\",\"mumabi\"] else x)               #mumbai\n",
    "invoice.city = invoice.city.map(lambda x: \"navi mumbai\" if x in [\"navimumbai\",\"new mumbai\"] else x) #nav mumbai\n",
    "invoice.city = invoice.city.map(lambda x: \"pune\" if x.split()[-1]==\"pune\" else x)                   #pune\n",
    "invoice.city = invoice.city.map(lambda x: \"nashik\" if x in [\"nasik\",\"naik\"] else x)                 #nashik\n",
    "invoice.city = invoice.city.map(lambda x: \"mulund\" if x in [\"mulund-w\",\"mulund-e\"] else x)          #mulund"
   ]
  },
  {
   "cell_type": "code",
   "execution_count": 136,
   "metadata": {},
   "outputs": [
    {
     "data": {
      "text/html": [
       "<div>\n",
       "<style scoped>\n",
       "    .dataframe tbody tr th:only-of-type {\n",
       "        vertical-align: middle;\n",
       "    }\n",
       "\n",
       "    .dataframe tbody tr th {\n",
       "        vertical-align: top;\n",
       "    }\n",
       "\n",
       "    .dataframe thead th {\n",
       "        text-align: right;\n",
       "    }\n",
       "</style>\n",
       "<table border=\"1\" class=\"dataframe\">\n",
       "  <thead>\n",
       "    <tr style=\"text-align: right;\">\n",
       "      <th></th>\n",
       "      <th></th>\n",
       "      <th>counts</th>\n",
       "    </tr>\n",
       "    <tr>\n",
       "      <th>city</th>\n",
       "      <th>insurance_company</th>\n",
       "      <th></th>\n",
       "    </tr>\n",
       "  </thead>\n",
       "  <tbody>\n",
       "    <tr>\n",
       "      <th>MANGALORE</th>\n",
       "      <th>NATIONAL INSURANCE COMPANY LIMITED</th>\n",
       "      <td>380</td>\n",
       "    </tr>\n",
       "    <tr>\n",
       "      <th>RUDRAPUR</th>\n",
       "      <th>NATIONAL INSURANCE COMPANY LIMITED</th>\n",
       "      <td>261</td>\n",
       "    </tr>\n",
       "    <tr>\n",
       "      <th>BEGUSARAI</th>\n",
       "      <th>RELIANCE GENERAL INSURANCE COMPANY</th>\n",
       "      <td>260</td>\n",
       "    </tr>\n",
       "    <tr>\n",
       "      <th>RUDRAPUR</th>\n",
       "      <th>THE NEW INDIA ASSURANCE CO. LTD.</th>\n",
       "      <td>201</td>\n",
       "    </tr>\n",
       "    <tr>\n",
       "      <th>JHAJJAR</th>\n",
       "      <th>BHARTI AXA GENRERAL INSURANCE</th>\n",
       "      <td>186</td>\n",
       "    </tr>\n",
       "    <tr>\n",
       "      <th>GWALIOR</th>\n",
       "      <th>THE NEW INDIA ASSURANCE CO. LTD.</th>\n",
       "      <td>185</td>\n",
       "    </tr>\n",
       "    <tr>\n",
       "      <th>COIMBATORE</th>\n",
       "      <th>THE NEW INDIA ASSURANCE CO. LTD.</th>\n",
       "      <td>177</td>\n",
       "    </tr>\n",
       "    <tr>\n",
       "      <th>RUDARPUR</th>\n",
       "      <th>THE NEW INDIA ASSURANCE CO. LTD.</th>\n",
       "      <td>169</td>\n",
       "    </tr>\n",
       "    <tr>\n",
       "      <th>BHOPAL</th>\n",
       "      <th>THE NEW INDIA ASSURANCE CO. LTD.</th>\n",
       "      <td>156</td>\n",
       "    </tr>\n",
       "    <tr>\n",
       "      <th>ALIGARH</th>\n",
       "      <th>THE NEW INDIA ASSURANCE CO. LTD.</th>\n",
       "      <td>149</td>\n",
       "    </tr>\n",
       "  </tbody>\n",
       "</table>\n",
       "</div>"
      ],
      "text/plain": [
       "                                               counts\n",
       "city       insurance_company                         \n",
       "MANGALORE  NATIONAL INSURANCE COMPANY LIMITED     380\n",
       "RUDRAPUR   NATIONAL INSURANCE COMPANY LIMITED     261\n",
       "BEGUSARAI  RELIANCE GENERAL INSURANCE COMPANY     260\n",
       "RUDRAPUR   THE NEW INDIA ASSURANCE CO. LTD.       201\n",
       "JHAJJAR    BHARTI AXA GENRERAL INSURANCE          186\n",
       "GWALIOR    THE NEW INDIA ASSURANCE CO. LTD.       185\n",
       "COIMBATORE THE NEW INDIA ASSURANCE CO. LTD.       177\n",
       "RUDARPUR   THE NEW INDIA ASSURANCE CO. LTD.       169\n",
       "BHOPAL     THE NEW INDIA ASSURANCE CO. LTD.       156\n",
       "ALIGARH    THE NEW INDIA ASSURANCE CO. LTD.       149"
      ]
     },
     "execution_count": 136,
     "metadata": {},
     "output_type": "execute_result"
    }
   ],
   "source": [
    "city_insurance = invoice.groupby([\"city\",\"insurance_company\"])[[\"insurance_company\"]].count()\n",
    "city_insurance.rename(columns={\"insurance_company\":\"counts\"}, inplace=True)\n",
    "city_insurance.sort_values(\"counts\",ascending=False)[:10]"
   ]
  },
  {
   "cell_type": "code",
   "execution_count": 138,
   "metadata": {},
   "outputs": [
    {
     "data": {
      "text/html": [
       "<div>\n",
       "<style scoped>\n",
       "    .dataframe tbody tr th:only-of-type {\n",
       "        vertical-align: middle;\n",
       "    }\n",
       "\n",
       "    .dataframe tbody tr th {\n",
       "        vertical-align: top;\n",
       "    }\n",
       "\n",
       "    .dataframe thead th {\n",
       "        text-align: right;\n",
       "    }\n",
       "</style>\n",
       "<table border=\"1\" class=\"dataframe\">\n",
       "  <thead>\n",
       "    <tr style=\"text-align: right;\">\n",
       "      <th></th>\n",
       "      <th></th>\n",
       "      <th>counts</th>\n",
       "    </tr>\n",
       "    <tr>\n",
       "      <th>district</th>\n",
       "      <th>insurance_company</th>\n",
       "      <th></th>\n",
       "    </tr>\n",
       "  </thead>\n",
       "  <tbody>\n",
       "    <tr>\n",
       "      <th>Tamil Nadu</th>\n",
       "      <th>THE NEW INDIA ASSURANCE CO. LTD.</th>\n",
       "      <td>1268</td>\n",
       "    </tr>\n",
       "    <tr>\n",
       "      <th>Madhya Pradesh</th>\n",
       "      <th>THE NEW INDIA ASSURANCE CO. LTD.</th>\n",
       "      <td>894</td>\n",
       "    </tr>\n",
       "    <tr>\n",
       "      <th>Tamil Nadu</th>\n",
       "      <th>UNITED INDIA INSURANCE CO. LTD</th>\n",
       "      <td>663</td>\n",
       "    </tr>\n",
       "    <tr>\n",
       "      <th>Maharashtra</th>\n",
       "      <th>THE NEW INDIA ASSURANCE CO. LTD.</th>\n",
       "      <td>594</td>\n",
       "    </tr>\n",
       "    <tr>\n",
       "      <th>Tamil Nadu</th>\n",
       "      <th>RELIANCE GENERAL INSURANCE COMPANY</th>\n",
       "      <td>575</td>\n",
       "    </tr>\n",
       "    <tr>\n",
       "      <th>Madhya Pradesh</th>\n",
       "      <th>NATIONAL INSURANCE COMPANY LIMITED</th>\n",
       "      <td>532</td>\n",
       "    </tr>\n",
       "    <tr>\n",
       "      <th>Tamil Nadu</th>\n",
       "      <th>NATIONAL INSURANCE COMPANY LIMITED</th>\n",
       "      <td>492</td>\n",
       "    </tr>\n",
       "    <tr>\n",
       "      <th>Karnataka</th>\n",
       "      <th>NATIONAL INSURANCE COMPANY LIMITED</th>\n",
       "      <td>483</td>\n",
       "    </tr>\n",
       "    <tr>\n",
       "      <th>Tamil Nadu</th>\n",
       "      <th>ICICI LOMBARD CUSTOMER DUES</th>\n",
       "      <td>483</td>\n",
       "    </tr>\n",
       "    <tr>\n",
       "      <th>Uttarakhand</th>\n",
       "      <th>THE NEW INDIA ASSURANCE CO. LTD.</th>\n",
       "      <td>476</td>\n",
       "    </tr>\n",
       "  </tbody>\n",
       "</table>\n",
       "</div>"
      ],
      "text/plain": [
       "                                                   counts\n",
       "district       insurance_company                         \n",
       "Tamil Nadu     THE NEW INDIA ASSURANCE CO. LTD.      1268\n",
       "Madhya Pradesh THE NEW INDIA ASSURANCE CO. LTD.       894\n",
       "Tamil Nadu     UNITED INDIA INSURANCE CO. LTD         663\n",
       "Maharashtra    THE NEW INDIA ASSURANCE CO. LTD.       594\n",
       "Tamil Nadu     RELIANCE GENERAL INSURANCE COMPANY     575\n",
       "Madhya Pradesh NATIONAL INSURANCE COMPANY LIMITED     532\n",
       "Tamil Nadu     NATIONAL INSURANCE COMPANY LIMITED     492\n",
       "Karnataka      NATIONAL INSURANCE COMPANY LIMITED     483\n",
       "Tamil Nadu     ICICI LOMBARD CUSTOMER DUES            483\n",
       "Uttarakhand    THE NEW INDIA ASSURANCE CO. LTD.       476"
      ]
     },
     "execution_count": 138,
     "metadata": {},
     "output_type": "execute_result"
    }
   ],
   "source": [
    "district_insurance = invoice.groupby([\"district\",\"insurance_company\"])[[\"insurance_company\"]].count()\n",
    "district_insurance.rename(columns={\"insurance_company\":\"counts\"}, inplace=True)\n",
    "district_insurance.sort_values(\"counts\",ascending=False)[:10]"
   ]
  },
  {
   "cell_type": "code",
   "execution_count": null,
   "metadata": {},
   "outputs": [],
   "source": []
  }
 ],
 "metadata": {
  "kernelspec": {
   "display_name": "Python 3",
   "language": "python",
   "name": "python3"
  },
  "language_info": {
   "codemirror_mode": {
    "name": "ipython",
    "version": 3
   },
   "file_extension": ".py",
   "mimetype": "text/x-python",
   "name": "python",
   "nbconvert_exporter": "python",
   "pygments_lexer": "ipython3",
   "version": "3.6.10"
  }
 },
 "nbformat": 4,
 "nbformat_minor": 4
}
