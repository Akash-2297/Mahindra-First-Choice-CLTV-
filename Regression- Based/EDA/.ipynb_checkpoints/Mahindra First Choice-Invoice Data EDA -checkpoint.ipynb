{
 "cells": [
  {
   "cell_type": "code",
   "execution_count": 449,
   "metadata": {},
   "outputs": [
    {
     "data": {
      "application/javascript": [
       "IPython.OutputArea.auto_scroll_threshold = 9999;\n"
      ],
      "text/plain": [
       "<IPython.core.display.Javascript object>"
      ]
     },
     "metadata": {},
     "output_type": "display_data"
    }
   ],
   "source": [
    "%%javascript\n",
    "IPython.OutputArea.auto_scroll_threshold = 9999;"
   ]
  },
  {
   "cell_type": "code",
   "execution_count": 450,
   "metadata": {},
   "outputs": [],
   "source": [
    "# Import packages\n",
    "import sys\n",
    "import os\n",
    "import numpy as np\n",
    "import pandas as pd\n",
    "from scipy.stats import mode \n",
    "import matplotlib.pyplot as plt\n",
    "import seaborn as sns\n",
    " # code starts here\n",
    "from scipy import stats\n",
    "from scipy.stats import kurtosis \n",
    "from sklearn.linear_model import LinearRegression\n",
    "import datetime as dt\n",
    "import re\n",
    "from sklearn.linear_model import LinearRegression\n",
    "from sklearn.ensemble import RandomForestRegressor\n",
    "from sklearn.ensemble import GradientBoostingRegressor\n",
    "from sklearn.tree  import ExtraTreeRegressor\n",
    "from sklearn.tree  import DecisionTreeRegressor\n",
    "from sklearn.linear_model import LogisticRegression\n",
    "from sklearn.ensemble import RandomForestClassifier\n",
    "from sklearn.ensemble import GradientBoostingClassifier\n",
    "from sklearn.tree  import ExtraTreeClassifier\n",
    "from sklearn.tree  import DecisionTreeClassifier\n",
    "from sklearn.model_selection import train_test_split\n",
    "from sklearn.metrics import classification_report\n",
    "from sklearn.metrics import accuracy_score\n",
    "from sklearn.metrics import precision_score\n",
    "from sklearn.metrics import roc_auc_score\n",
    "from sklearn.metrics import recall_score\n",
    "from itertools import product\n",
    "from datetime import datetime\n",
    "from sklearn import tree\n",
    "import statsmodels.api as sm \n",
    "\n",
    "import pandas as pd\n",
    "from sklearn.tree import DecisionTreeClassifier\n",
    "from sklearn import tree\n",
    "from IPython.display import Image\n",
    "import pydotplus\n",
    "np.set_printoptions(250) \n",
    "# import sklearn.external.joblib as extjoblib\n",
    "# import joblib\n",
    "import seaborn as sns"
   ]
  },
  {
   "cell_type": "markdown",
   "metadata": {},
   "source": [
    "## 1. Read Data in a dataframe"
   ]
  },
  {
   "cell_type": "code",
   "execution_count": 451,
   "metadata": {},
   "outputs": [],
   "source": [
    "import statsmodels.api as sm\n",
    "\n",
    "# Read and Peak at Data\n",
    "base_datapath = r\"D://Projects//Python//Jupyter//Anands Notebook//Captstone//Data//Mahindra First Choice Dataset//\"\n",
    "cleansed_datapath = r\"D://Projects//Python//Jupyter//Anands Notebook//Captstone//Data//Cleansed DataSet//\"\n",
    "customer_cleansed_datapath = cleansed_datapath + \"Customer_Data.xlsx\"\n",
    "invoice_datapath = base_datapath + \"Final_invoice.csv\"\n",
    "jtd_datapath = cleansed_datapath + \"JTD.csv\"\n",
    "plantmaster_datapath = cleansed_datapath + \"Plant Master.xlsx\"\n",
    "\n",
    "\n",
    "cleansed_invoice_datapath = cleansed_datapath + \"Final_invoice.csv\"\n",
    "\n",
    "dir_of_interest = 'D://Projects//Python//GeneralFunctions'\n",
    "sys.path.append(dir_of_interest)   \n",
    "from EDA import *\n",
    "#import EDA"
   ]
  },
  {
   "cell_type": "code",
   "execution_count": 452,
   "metadata": {},
   "outputs": [
    {
     "name": "stderr",
     "output_type": "stream",
     "text": [
      "D:\\Visual Studio\\Anaconda3_64\\lib\\site-packages\\IPython\\core\\interactiveshell.py:3063: DtypeWarning: Columns (9,10,14,15,21,41,51) have mixed types.Specify dtype option on import or set low_memory=False.\n",
      "  interactivity=interactivity, compiler=compiler, result=result)\n"
     ]
    }
   ],
   "source": [
    "dfInvoice = pd.read_csv(invoice_datapath)\n",
    "\n",
    "#dfInvoice = pd.read_excel(invoice_datapath,sheet_name=\"Sheet1\")"
   ]
  },
  {
   "cell_type": "code",
   "execution_count": 453,
   "metadata": {},
   "outputs": [
    {
     "data": {
      "text/html": [
       "<div>\n",
       "<style scoped>\n",
       "    .dataframe tbody tr th:only-of-type {\n",
       "        vertical-align: middle;\n",
       "    }\n",
       "\n",
       "    .dataframe tbody tr th {\n",
       "        vertical-align: top;\n",
       "    }\n",
       "\n",
       "    .dataframe thead th {\n",
       "        text-align: right;\n",
       "    }\n",
       "</style>\n",
       "<table border=\"1\" class=\"dataframe\">\n",
       "  <thead>\n",
       "    <tr style=\"text-align: right;\">\n",
       "      <th></th>\n",
       "      <th>Unnamed: 0</th>\n",
       "      <th>Amt Rcvd From Custom</th>\n",
       "      <th>Amt Rcvd From Ins Co</th>\n",
       "      <th>Area / Locality</th>\n",
       "      <th>CGST(14%)</th>\n",
       "      <th>CGST(2.5%)</th>\n",
       "      <th>CGST(6%)</th>\n",
       "      <th>CGST(9%)</th>\n",
       "      <th>CITY</th>\n",
       "      <th>Cash /Cashless Type</th>\n",
       "      <th>...</th>\n",
       "      <th>Service Advisor Name</th>\n",
       "      <th>TDS amount</th>\n",
       "      <th>Technician Name</th>\n",
       "      <th>Total Amt Wtd Tax.</th>\n",
       "      <th>Total CGST</th>\n",
       "      <th>Total GST</th>\n",
       "      <th>Total IGST</th>\n",
       "      <th>Total SGST/UGST</th>\n",
       "      <th>Total Value</th>\n",
       "      <th>User ID</th>\n",
       "    </tr>\n",
       "  </thead>\n",
       "  <tbody>\n",
       "    <tr>\n",
       "      <th>0</th>\n",
       "      <td>0</td>\n",
       "      <td>0.0</td>\n",
       "      <td>0.0</td>\n",
       "      <td>MAJIWADA</td>\n",
       "      <td>0.0</td>\n",
       "      <td>0.0</td>\n",
       "      <td>0.0</td>\n",
       "      <td>0.0</td>\n",
       "      <td>Thane</td>\n",
       "      <td>NaN</td>\n",
       "      <td>...</td>\n",
       "      <td>NaN</td>\n",
       "      <td>0.0</td>\n",
       "      <td>RUPESH</td>\n",
       "      <td>4051.95</td>\n",
       "      <td>0.0</td>\n",
       "      <td>0.0</td>\n",
       "      <td>0.0</td>\n",
       "      <td>0.0</td>\n",
       "      <td>4051.95</td>\n",
       "      <td>BC01FS1</td>\n",
       "    </tr>\n",
       "    <tr>\n",
       "      <th>1</th>\n",
       "      <td>1</td>\n",
       "      <td>0.0</td>\n",
       "      <td>0.0</td>\n",
       "      <td>THNAE</td>\n",
       "      <td>0.0</td>\n",
       "      <td>0.0</td>\n",
       "      <td>0.0</td>\n",
       "      <td>0.0</td>\n",
       "      <td>THNAE</td>\n",
       "      <td>NaN</td>\n",
       "      <td>...</td>\n",
       "      <td>NaN</td>\n",
       "      <td>0.0</td>\n",
       "      <td>PRASHANT</td>\n",
       "      <td>1001.29</td>\n",
       "      <td>0.0</td>\n",
       "      <td>0.0</td>\n",
       "      <td>0.0</td>\n",
       "      <td>0.0</td>\n",
       "      <td>1001.29</td>\n",
       "      <td>BC01SA2</td>\n",
       "    </tr>\n",
       "    <tr>\n",
       "      <th>2</th>\n",
       "      <td>2</td>\n",
       "      <td>0.0</td>\n",
       "      <td>0.0</td>\n",
       "      <td>THANE</td>\n",
       "      <td>0.0</td>\n",
       "      <td>0.0</td>\n",
       "      <td>0.0</td>\n",
       "      <td>0.0</td>\n",
       "      <td>THANE[W]</td>\n",
       "      <td>NaN</td>\n",
       "      <td>...</td>\n",
       "      <td>NaN</td>\n",
       "      <td>0.0</td>\n",
       "      <td>IMRAN</td>\n",
       "      <td>233.14</td>\n",
       "      <td>0.0</td>\n",
       "      <td>0.0</td>\n",
       "      <td>0.0</td>\n",
       "      <td>0.0</td>\n",
       "      <td>233.14</td>\n",
       "      <td>BC01SA2</td>\n",
       "    </tr>\n",
       "    <tr>\n",
       "      <th>3</th>\n",
       "      <td>3</td>\n",
       "      <td>0.0</td>\n",
       "      <td>0.0</td>\n",
       "      <td>THNAE</td>\n",
       "      <td>0.0</td>\n",
       "      <td>0.0</td>\n",
       "      <td>0.0</td>\n",
       "      <td>0.0</td>\n",
       "      <td>THNAE</td>\n",
       "      <td>NaN</td>\n",
       "      <td>...</td>\n",
       "      <td>NaN</td>\n",
       "      <td>0.0</td>\n",
       "      <td>PRASHANT</td>\n",
       "      <td>0.00</td>\n",
       "      <td>0.0</td>\n",
       "      <td>0.0</td>\n",
       "      <td>0.0</td>\n",
       "      <td>0.0</td>\n",
       "      <td>0.00</td>\n",
       "      <td>BC01SA2</td>\n",
       "    </tr>\n",
       "    <tr>\n",
       "      <th>4</th>\n",
       "      <td>4</td>\n",
       "      <td>0.0</td>\n",
       "      <td>0.0</td>\n",
       "      <td>THANE</td>\n",
       "      <td>0.0</td>\n",
       "      <td>0.0</td>\n",
       "      <td>0.0</td>\n",
       "      <td>0.0</td>\n",
       "      <td>THANE</td>\n",
       "      <td>NaN</td>\n",
       "      <td>...</td>\n",
       "      <td>NaN</td>\n",
       "      <td>0.0</td>\n",
       "      <td>DAYANAND</td>\n",
       "      <td>2747.12</td>\n",
       "      <td>0.0</td>\n",
       "      <td>0.0</td>\n",
       "      <td>0.0</td>\n",
       "      <td>0.0</td>\n",
       "      <td>2747.12</td>\n",
       "      <td>BC01SA2</td>\n",
       "    </tr>\n",
       "  </tbody>\n",
       "</table>\n",
       "<p>5 rows × 59 columns</p>\n",
       "</div>"
      ],
      "text/plain": [
       "   Unnamed: 0  Amt Rcvd From Custom  Amt Rcvd From Ins Co Area / Locality  \\\n",
       "0           0                   0.0                   0.0        MAJIWADA   \n",
       "1           1                   0.0                   0.0           THNAE   \n",
       "2           2                   0.0                   0.0           THANE   \n",
       "3           3                   0.0                   0.0           THNAE   \n",
       "4           4                   0.0                   0.0           THANE   \n",
       "\n",
       "   CGST(14%)  CGST(2.5%)  CGST(6%)  CGST(9%)      CITY Cash /Cashless Type  \\\n",
       "0        0.0         0.0       0.0       0.0     Thane                 NaN   \n",
       "1        0.0         0.0       0.0       0.0     THNAE                 NaN   \n",
       "2        0.0         0.0       0.0       0.0  THANE[W]                 NaN   \n",
       "3        0.0         0.0       0.0       0.0     THNAE                 NaN   \n",
       "4        0.0         0.0       0.0       0.0     THANE                 NaN   \n",
       "\n",
       "   ... Service Advisor Name TDS amount Technician Name Total Amt Wtd Tax.  \\\n",
       "0  ...                  NaN        0.0          RUPESH            4051.95   \n",
       "1  ...                  NaN        0.0        PRASHANT            1001.29   \n",
       "2  ...                  NaN        0.0           IMRAN             233.14   \n",
       "3  ...                  NaN        0.0        PRASHANT               0.00   \n",
       "4  ...                  NaN        0.0        DAYANAND            2747.12   \n",
       "\n",
       "  Total CGST Total GST Total IGST  Total SGST/UGST  Total Value  User ID  \n",
       "0        0.0       0.0        0.0              0.0      4051.95  BC01FS1  \n",
       "1        0.0       0.0        0.0              0.0      1001.29  BC01SA2  \n",
       "2        0.0       0.0        0.0              0.0       233.14  BC01SA2  \n",
       "3        0.0       0.0        0.0              0.0         0.00  BC01SA2  \n",
       "4        0.0       0.0        0.0              0.0      2747.12  BC01SA2  \n",
       "\n",
       "[5 rows x 59 columns]"
      ]
     },
     "execution_count": 453,
     "metadata": {},
     "output_type": "execute_result"
    }
   ],
   "source": [
    "dfInvoice.head()"
   ]
  },
  {
   "cell_type": "code",
   "execution_count": 454,
   "metadata": {},
   "outputs": [
    {
     "data": {
      "text/plain": [
       "(492314, 59)"
      ]
     },
     "execution_count": 454,
     "metadata": {},
     "output_type": "execute_result"
    }
   ],
   "source": [
    "dfInvoice.shape"
   ]
  },
  {
   "cell_type": "markdown",
   "metadata": {},
   "source": [
    "## 2. Basic Data Exploration "
   ]
  },
  {
   "cell_type": "code",
   "execution_count": null,
   "metadata": {},
   "outputs": [],
   "source": [
    "dir_of_interest = 'D:\\\\Projects\\\\Python\\\\GeneralFunctions'\n",
    "sys.path.append(dir_of_interest)   \n",
    "\n",
    "import EDA\n",
    "from EDA import *\n",
    "importlib.reload(EDA)\n",
    "basicExploration(dfInvoice)"
   ]
  },
  {
   "cell_type": "markdown",
   "metadata": {},
   "source": [
    "## 3. Univariate Analysis "
   ]
  },
  {
   "cell_type": "markdown",
   "metadata": {},
   "source": [
    "### 3.1. Uniqueness Check"
   ]
  },
  {
   "cell_type": "code",
   "execution_count": null,
   "metadata": {},
   "outputs": [],
   "source": [
    "dir_of_interest = 'D://Projects//Python//GeneralFunctions'\n",
    "sys.path.append(dir_of_interest)   \n",
    "from EDA import *\n",
    "dfUniqueness= unique_eliminateDataFrame(dfInvoice)\n",
    "dfUniqueness"
   ]
  },
  {
   "cell_type": "markdown",
   "metadata": {},
   "source": [
    "### 3.2.Perform Variance check\n",
    "Assuming the Threshold percentage of Variance acceptable is 10%"
   ]
  },
  {
   "cell_type": "code",
   "execution_count": null,
   "metadata": {},
   "outputs": [],
   "source": [
    "lowVarianceCheck = lowVarianceEliminationDataFrameCheckOnThreshold(dfInvoice,0.1)\n",
    "print(lowVarianceCheck)"
   ]
  },
  {
   "cell_type": "markdown",
   "metadata": {},
   "source": [
    "### 3.3.Perform Data Cleanup and Save to file system for later use\n",
    "\n",
    "Null Check says - \n",
    "\n",
    "                      Total     Percent\n",
    "Unnamed: 0                 0    0.000000\n",
    "Amt Rcvd From Custom  197286   40.073205\n",
    "Amt Rcvd From Ins Co  197286   40.073205\n",
    "Area / Locality        23890    4.852594\n",
    "CGST(14%)             197286   40.073205\n",
    "CGST(2.5%)            197286   40.073205\n",
    "CGST(6%)              197286   40.073205\n",
    "CGST(9%)              197286   40.073205\n",
    "CITY                       1    0.000203\n",
    "Cash /Cashless Type   464894   94.430384\n",
    "Claim No.             487510   99.024200\n",
    "Cust Type                  0    0.000000\n",
    "Customer No.               0    0.000000\n",
    "District                   0    0.000000\n",
    "Expiry Date           470083   95.484386\n",
    "Gate Pass Date        451399   91.689247\n",
    "Gate Pass Time             0    0.000000\n",
    "IGST(12%)             197286   40.073205\n",
    "IGST(18%)             197286   40.073205\n",
    "IGST(28%)             197286   40.073205\n",
    "IGST(5%)              197286   40.073205\n",
    "Insurance Company     468723   95.208140\n",
    "Invoice Date               0    0.000000\n",
    "Invoice No                 0    0.000000\n",
    "Invoice Time               0    0.000000\n",
    "Job Card No                0    0.000000\n",
    "JobCard Date               0    0.000000\n",
    "JobCard Time               0    0.000000\n",
    "KMs Reading                0    0.000000\n",
    "Labour Total               0    0.000000\n",
    "Make                       0    0.000000\n",
    "Misc Total                 0    0.000000\n",
    "Model                   1525    0.309762\n",
    "ODN No.               197286   40.073205\n",
    "OSL Total                  0    0.000000\n",
    "Order Type                 0    0.000000\n",
    "Outstanding Amt       197286   40.073205\n",
    "Parts Total                0    0.000000\n",
    "Pin code                   0    0.000000\n",
    "Plant                      0    0.000000\n",
    "Plant Name1                0    0.000000\n",
    "Policy no.            475432   96.570888\n",
    "Print Status               0    0.000000\n",
    "Recovrbl Exp               0    0.000000\n",
    "Regn No                   16    0.003250\n",
    "SGST/UGST(14%)        197286   40.073205\n",
    "SGST/UGST(2.5%)       197286   40.073205\n",
    "SGST/UGST(6%)         197286   40.073205\n",
    "SGST/UGST(9%)         197286   40.073205\n",
    "Service Advisor Name  492314  100.000000\n",
    "TDS amount            197286   40.073205\n",
    "Technician Name       236834   48.106290\n",
    "Total Amt Wtd Tax.         0    0.000000\n",
    "Total CGST            197286   40.073205\n",
    "Total GST             197286   40.073205\n",
    "Total IGST            197286   40.073205\n",
    "Total SGST/UGST       197286   40.073205\n",
    "Total Value           197286   40.073205\n",
    "User ID                    0    0.000000\n",
    "\n",
    "\n",
    "\n",
    "Hence from the above, we have only 2.5 % values for Marital Status,Occupation, Date of Birth and Death Date. Also title has a very low variance. We can plan to drop the same."
   ]
  },
  {
   "cell_type": "code",
   "execution_count": null,
   "metadata": {},
   "outputs": [],
   "source": [
    "# dfInvoice = dfInvoice.drop([\"Title\",\"Marital Status\",\"Occupation\",\"Date of Birth\",\"Death date\"],axis=1)\n",
    "# dfInvoice.shape"
   ]
  },
  {
   "cell_type": "code",
   "execution_count": null,
   "metadata": {},
   "outputs": [],
   "source": [
    "# dfInvoice.to_excel(cleaned_invoice_datapath, index=False) "
   ]
  },
  {
   "cell_type": "code",
   "execution_count": null,
   "metadata": {},
   "outputs": [],
   "source": [
    "dfInvoice.District.value_counts()"
   ]
  },
  {
   "cell_type": "code",
   "execution_count": null,
   "metadata": {},
   "outputs": [],
   "source": [
    "dfInvoice.shape"
   ]
  },
  {
   "cell_type": "markdown",
   "metadata": {},
   "source": [
    "## 1. Which District have most cars coming for repair based on the Make and Model ?"
   ]
  },
  {
   "cell_type": "code",
   "execution_count": null,
   "metadata": {},
   "outputs": [],
   "source": [
    "sns.set(rc={'figure.figsize':(20,8.27)})\n",
    "dfInvoice[\"Make Copy\"] = dfInvoice[\"Make\"]\n",
    "DistrictBasedOnMakeSeries = dfInvoice[\"District\"].value_counts()\n",
    "DistrictBasedOnMakeSeries[:10].plot.bar()\n",
    "plt.title('Which District have most cars coming for repair  ?')\n",
    "\n",
    "for num, counts in enumerate(DistrictBasedOnMakeSeries[:10]):\n",
    "    plt.text(num, counts, s = format(int(np.round(counts)/1000)) + \"K\")\n",
    "\n",
    "plt.legend()\n",
    "plt.show()\n",
    "dfInvoice.drop([\"Make Copy\"],inplace=True,axis=1)"
   ]
  },
  {
   "cell_type": "code",
   "execution_count": null,
   "metadata": {},
   "outputs": [],
   "source": [
    "sns.set(rc={'figure.figsize':(20,8.27)})\n",
    "dfInvoice[\"Make Copy\"] = dfInvoice[\"Make\"]\n",
    "DistrictBasedOnMakeSeries = dfInvoice.groupby([\"District\",\"Make Copy\"])[[\"Make\"]].count().sort_values(\"Make\", ascending=False)\n",
    "DistrictBasedOnMakeSeries[:10].plot.bar()\n",
    "plt.title('Which District have most cars coming for repair based on Make ?')\n",
    "\n",
    "for num, counts in enumerate(DistrictBasedOnMakeSeries[\"Make\"][:10]):\n",
    "    plt.text(num, counts, s = format(int(np.round(counts)/1000)) + \"K\")\n",
    "\n",
    "plt.legend()\n",
    "plt.show()\n",
    "dfInvoice.drop([\"Make Copy\"],inplace=True,axis=1)"
   ]
  },
  {
   "cell_type": "code",
   "execution_count": null,
   "metadata": {},
   "outputs": [],
   "source": [
    "sns.set(rc={'figure.figsize':(20,8.27)})\n",
    "dfInvoice[\"Model Copy\"] = dfInvoice[\"Model\"]\n",
    "DistrictMakeBasedOnModelSeries = dfInvoice.groupby([\"District\",\"Make\",\"Model Copy\"])[[\"Model\"]].count().sort_values(\"Model\", ascending=False)\n",
    "DistrictMakeBasedOnModelSeries[:10].plot.bar()\n",
    "plt.title('Which District have most cars coming for repair based on the Make and Model ?')\n",
    "\n",
    "for num, counts in enumerate(DistrictMakeBasedOnModelSeries[\"Model\"][:10]):\n",
    "    plt.text(num, counts, s = format(int(np.round(counts)/1000)) + \"K\")\n",
    "\n",
    "plt.legend()\n",
    "plt.show()\n",
    "dfInvoice.drop([\"Model Copy\"],inplace=True,axis=1)"
   ]
  },
  {
   "cell_type": "markdown",
   "metadata": {},
   "source": [
    "## 2. Which Make and Model come for repairs the most (most popular)?"
   ]
  },
  {
   "cell_type": "code",
   "execution_count": null,
   "metadata": {},
   "outputs": [],
   "source": [
    "dfInvoice[\"Model Name\"]= dfInvoice[\"Model\"]\n",
    "DistrictMakeSeries = dfInvoice.groupby([\"District\",\"Make\",\"Model\"])[[\"Model Name\"]].count().sort_values(\"Model\", ascending=False)\n",
    "DistrictMakeSeries"
   ]
  },
  {
   "cell_type": "code",
   "execution_count": null,
   "metadata": {},
   "outputs": [],
   "source": [
    "sns.set(rc={'figure.figsize':(20,8.27)})\n",
    "MakeModelBasedOnModelNameSeries = dfInvoice.groupby([\"Make\",\"Model\"])[[\"Model Name\"]].count().sort_values(\"Model Name\", ascending=False)\n",
    "MakeModelBasedOnModelNameSeries[:10].plot.bar()\n",
    "plt.title('Which Make and Model come for repairs the most (most popular)?')\n",
    "\n",
    "for num, counts in enumerate(MakeModelBasedOnModelNameSeries[\"Model Name\"][:10]):\n",
    "    plt.text(num, counts, s = format(int(np.round(counts)/1000)) + \"K\")\n",
    "\n",
    "\n",
    "\n",
    "plt.legend()\n",
    "plt.show()\n",
    "dfInvoice.drop([\"Model Name\"],inplace=True,axis=1)"
   ]
  },
  {
   "cell_type": "markdown",
   "metadata": {},
   "source": [
    "## 3. What is the Overall general service structure ?"
   ]
  },
  {
   "cell_type": "code",
   "execution_count": null,
   "metadata": {},
   "outputs": [],
   "source": [
    " dfInvoice[\"Order Type\"].value_counts()"
   ]
  },
  {
   "cell_type": "code",
   "execution_count": null,
   "metadata": {},
   "outputs": [],
   "source": [
    "sns.set(rc={'figure.figsize':(20,8.27)})\n",
    "OrderTypeSeries = dfInvoice[\"Order Type\"].value_counts()\n",
    "OrderTypeSeries[:30].plot.bar()\n",
    "plt.title('Overall general service structure')\n",
    "\n",
    "for num, counts in enumerate(OrderTypeSeries[:30]):\n",
    "    plt.text(num, counts, s = format(int(np.round(counts)/1000)) + \"K\")\n",
    "\n",
    "\n",
    "\n",
    "plt.legend()\n",
    "plt.show()"
   ]
  },
  {
   "cell_type": "markdown",
   "metadata": {},
   "source": [
    "## 4. What is service structure for particular make/model/car?"
   ]
  },
  {
   "cell_type": "code",
   "execution_count": null,
   "metadata": {},
   "outputs": [],
   "source": [
    "dfInvoice[\"Order Type Copy\"]= dfInvoice[\"Order Type\"]\n",
    "sns.set(rc={'figure.figsize':(11.7,8.27)})\n",
    "MakeModelBasedOnOrderTypeSeries = dfInvoice.groupby([\"Order Type\",\"Make\",\"Model\"])[[\"Order Type Copy\"]].count().sort_values(\"Order Type Copy\", ascending=False).reset_index()\n",
    "\n",
    "MakeModelBasedOnOrderTypeSeries = MakeModelBasedOnOrderTypeSeries.groupby([\"Order Type\"]).max()\n",
    "dfInvoice.drop([\"Order Type Copy\"],inplace=True,axis=1)\n",
    "MakeModelBasedOnOrderTypeSeries = MakeModelBasedOnOrderTypeSeries.rename(columns={\"Order Type Copy\":\"Count\"}).sort_values([\"Count\"])\n",
    "MakeModelBasedOnOrderTypeSeries\n",
    "\n"
   ]
  },
  {
   "cell_type": "markdown",
   "metadata": {},
   "source": [
    "## 5. Age group of Owners and service based on the age group."
   ]
  },
  {
   "cell_type": "markdown",
   "metadata": {},
   "source": [
    "### ----------------------------We have very less data for Customers age."
   ]
  },
  {
   "cell_type": "code",
   "execution_count": null,
   "metadata": {},
   "outputs": [],
   "source": [
    "incomePerOrderType = dfInvoice.groupby([\"Order Type\"])['Total Value'].sum().reset_index().sort_values(\"Total Value\", ascending=False)\n",
    "incomePerOrderType"
   ]
  },
  {
   "cell_type": "markdown",
   "metadata": {},
   "source": [
    "## 6. What is the Income per Order/Service Type?"
   ]
  },
  {
   "cell_type": "code",
   "execution_count": null,
   "metadata": {},
   "outputs": [],
   "source": [
    "dfInvoice['Total Value'] = dfInvoice['Total Value'].fillna(0)\n",
    "sns.set(rc={'figure.figsize':(20,8.27)})\n",
    "incomePerOrderType = dfInvoice.groupby([\"Order Type\"])['Total Value'].sum().reset_index().sort_values(\"Total Value\", ascending=False).set_index(\"Order Type\")\n",
    "incomePerOrderType[:30].plot.bar()\n",
    "\n",
    "for num, counts in enumerate(incomePerOrderType['Total Value'][:30]):\n",
    "    plt.text(num, counts, s = format(int(np.round(counts)/1000)) + \"K\")\n",
    "\n",
    "\n",
    "plt.title('Income per Order/Service Type')\n",
    "plt.legend()\n",
    "plt.show()\n"
   ]
  },
  {
   "cell_type": "markdown",
   "metadata": {},
   "source": [
    "## 7. Services done based on  KM's run"
   ]
  },
  {
   "cell_type": "code",
   "execution_count": null,
   "metadata": {},
   "outputs": [],
   "source": [
    "sns.set(rc={'figure.figsize':(20,8.27)})\n",
    "servicesBasedOnKmPerOrderType = dfInvoice.groupby([\"Order Type\"])['KMs Reading'].sum().reset_index().sort_values(\"KMs Reading\", ascending=False).set_index(\"Order Type\")\n",
    "servicesBasedOnKmPerOrderType[:30].plot.bar()\n",
    "\n",
    "for num, counts in enumerate(servicesBasedOnKmPerOrderType['KMs Reading'][:30]):\n",
    "    plt.text(num, counts, s = format(int(np.round(counts)/1000)) + \"K\")\n",
    "\n",
    "\n",
    "plt.title('Services done based on  KMs run')\n",
    "plt.legend()\n",
    "plt.show()\n"
   ]
  },
  {
   "cell_type": "markdown",
   "metadata": {},
   "source": [
    "## 8. Which insurance companies are used the most ? Nationwise "
   ]
  },
  {
   "cell_type": "code",
   "execution_count": null,
   "metadata": {},
   "outputs": [],
   "source": [
    "insuranceCoUsedMost = dfInvoice[\"Insurance Company\"].value_counts()\n",
    "sns.set(rc={'figure.figsize':(20,8.27)})\n",
    "insuranceCoUsedMost[:10].plot.bar()\n",
    "plt.title('Insurance companies are used the most - Nation wise ')\n",
    "\n",
    "for num, counts in enumerate(insuranceCoUsedMost[:10]):\n",
    "    plt.text(num, counts, s = format((np.round(counts)/1000)) + \"K\")\n",
    "\n",
    "plt.legend()\n",
    "plt.show()"
   ]
  },
  {
   "cell_type": "markdown",
   "metadata": {},
   "source": [
    "## 9. Which insurance companies are used the most ? Districtwise"
   ]
  },
  {
   "cell_type": "code",
   "execution_count": null,
   "metadata": {},
   "outputs": [],
   "source": [
    "sns.set(rc={'figure.figsize':(20,8.27)})\n",
    "dfInvoice['Insurance Company Copy'] = dfInvoice['Insurance Company']\n",
    "insuranceCoUsedMostDistrictWise = dfInvoice.groupby([\"District\"])[['Insurance Company']].count().sort_values(\"Insurance Company\", ascending=False)\n",
    "#MakeModelBasedOnOrderTypeSeries = dfInvoice.groupby([\"Order Type Copy\",\"Make\",\"Model\"])[[\"Order Type\"]].count().sort_values(\"Order Type\", ascending=False)\n",
    "insuranceCoUsedMostDistrictWise[:10].plot.bar()\n",
    "plt.title('Insurance companies are used the most - Area wise ')\n",
    "\n",
    "for num, counts in enumerate(insuranceCoUsedMostDistrictWise[\"Insurance Company\"][:10]):\n",
    "    plt.text(num, counts, s = format((np.round(counts)/1000)) + \"K\")\n",
    "\n",
    "plt.legend()\n",
    "plt.show()\n",
    "dfInvoice.drop([\"Insurance Company Copy\"],inplace=True,axis=1)\n"
   ]
  },
  {
   "cell_type": "markdown",
   "metadata": {},
   "source": [
    "## 10. Which insurance companies are used the most ? Districtwise and Insurance Company wise"
   ]
  },
  {
   "cell_type": "code",
   "execution_count": null,
   "metadata": {},
   "outputs": [],
   "source": [
    "dfInvoice.shape"
   ]
  },
  {
   "cell_type": "code",
   "execution_count": null,
   "metadata": {},
   "outputs": [],
   "source": [
    "dfInvoice['Insurance Company'].value_counts(normalize=True)*100"
   ]
  },
  {
   "cell_type": "code",
   "execution_count": null,
   "metadata": {},
   "outputs": [],
   "source": [
    "sns.set(rc={'figure.figsize':(11.7,8.27)})\n",
    "dfInvoice['Insurance Company Copy'] = dfInvoice['Insurance Company']\n",
    "insuranceCoUsedMostDistrictWise = dfInvoice.groupby([\"District\",'Insurance Company'])[['Insurance Company Copy']].count().sort_values([\"Insurance Company Copy\"], ascending=False)\n",
    "dfInvoice.drop([\"Insurance Company Copy\"],inplace=True,axis=1)\n",
    "insuranceCoUsedMostDistrictWise\n"
   ]
  },
  {
   "cell_type": "code",
   "execution_count": null,
   "metadata": {},
   "outputs": [],
   "source": [
    "dfInvoice.shape"
   ]
  },
  {
   "cell_type": "markdown",
   "metadata": {},
   "source": [
    "## 11. Highest Service done based on Area"
   ]
  },
  {
   "cell_type": "code",
   "execution_count": null,
   "metadata": {},
   "outputs": [],
   "source": [
    "dfInvoice.groupby([\"District\"])['Order Type'].count()"
   ]
  },
  {
   "cell_type": "code",
   "execution_count": null,
   "metadata": {},
   "outputs": [],
   "source": [
    "sns.set(rc={'figure.figsize':(20,8.27)})\n",
    "servicesBasedOnArea = dfInvoice.groupby([\"District\"])['Order Type'].count().reset_index().sort_values(\"Order Type\", ascending=False).set_index(\"District\")\n",
    "servicesBasedOnArea[:10].plot.bar()\n",
    "plt.title('Highest Service done based on Area ')\n",
    "\n",
    "for num, counts in enumerate(servicesBasedOnArea['Order Type'][:10]):\n",
    "    plt.text(num, counts, s = format(int(np.round(counts)/1000)) + \"K\")\n",
    "\n",
    "plt.legend()\n",
    "plt.show()\n"
   ]
  },
  {
   "cell_type": "markdown",
   "metadata": {},
   "source": [
    "## 12. Analysis of Outsourced Labour counts based on the nation"
   ]
  },
  {
   "cell_type": "code",
   "execution_count": null,
   "metadata": {},
   "outputs": [],
   "source": [
    "sns.set(rc={'figure.figsize':(20,8.27)})\n",
    "outsourcedLabourBasedOnNation = dfInvoice.groupby([\"District\"])['OSL Total'].count().reset_index().sort_values(\"OSL Total\", ascending=False).set_index(\"District\")\n",
    "outsourcedLabourBasedOnNation[:10].plot.bar()\n",
    "plt.title('Outsourced Labour accross the Nation ')\n",
    "\n",
    "for num, counts in enumerate(outsourcedLabourBasedOnNation['OSL Total'][:10]):\n",
    "    plt.text(num, counts, s = format(int(np.round(counts)/1000)) + \"K\")\n",
    "\n",
    "\n",
    "plt.legend()\n",
    "plt.show()\n"
   ]
  },
  {
   "cell_type": "markdown",
   "metadata": {},
   "source": [
    "## 13. What are the different types of services provided per District?"
   ]
  },
  {
   "cell_type": "code",
   "execution_count": null,
   "metadata": {},
   "outputs": [],
   "source": [
    "servicesBasedOnArea = dfInvoice.groupby([\"District\",'Order Type'])[['Order Type']].count()\n",
    "servicesBasedOnArea"
   ]
  },
  {
   "cell_type": "markdown",
   "metadata": {},
   "source": [
    "## 14. Are the service seasonal or regular?"
   ]
  },
  {
   "cell_type": "markdown",
   "metadata": {},
   "source": [
    "## Convert Job Dates to Season"
   ]
  },
  {
   "cell_type": "code",
   "execution_count": null,
   "metadata": {},
   "outputs": [],
   "source": [
    "import re\n",
    "import datetime\n",
    "\n",
    "\n",
    "\n",
    "def get_season(row):\n",
    "    row = datetime.datetime.strptime(row, '%d/%m/%Y')\n",
    "    month = row.month \n",
    "    if month >= 1 and month < 3:\n",
    "        return 'Winter'\n",
    "    elif month >= 3 and month < 6:\n",
    "        return 'Summer'\n",
    "    elif month >= 6 and month < 10:\n",
    "        return 'Rainy'\n",
    "    else:\n",
    "        return 'Winter'\n",
    "    \n",
    "dfInvoice['Season'] = dfInvoice['JobCard Date'].map(get_season)\n",
    "dfInvoice[[\"JobCard Date\",\"Season\"]]"
   ]
  },
  {
   "cell_type": "code",
   "execution_count": null,
   "metadata": {},
   "outputs": [],
   "source": [
    "sns.set(rc={'figure.figsize':(11.7,8.27)})\n",
    "servicesBasedOnSeason = dfInvoice.groupby([\"Season\"])['Order Type'].count().reset_index().sort_values(\"Order Type\", ascending=False).set_index(\"Season\")\n",
    "servicesBasedOnSeason[:30].plot.bar()\n",
    "plt.title('Are the service seasonal or regular? ')\n",
    "\n",
    "for num, counts in enumerate(servicesBasedOnSeason['Order Type'][:10]):\n",
    "    plt.text(num, counts, s = format(int(np.round(counts)/1000)) + \"K\")\n",
    "\n",
    "\n",
    "plt.legend()\n",
    "plt.show()"
   ]
  },
  {
   "cell_type": "markdown",
   "metadata": {},
   "source": [
    "## 15. Which season gives highest revenue?"
   ]
  },
  {
   "cell_type": "code",
   "execution_count": null,
   "metadata": {},
   "outputs": [],
   "source": [
    "sns.set(rc={'figure.figsize':(11.7,8.27)})\n",
    "servicesBasedOnSeason = dfInvoice.groupby([\"Season\"])['Total Value'].sum().reset_index().sort_values(\"Total Value\", ascending=False).set_index(\"Season\")\n",
    "servicesBasedOnSeason[:30].plot.bar()\n",
    "plt.title('Is the service seasonal or regular? ')\n",
    "\n",
    "for num, counts in enumerate(servicesBasedOnSeason['Total Value'][:10]):\n",
    "    plt.text(num, counts, s = format(int(np.round(counts)/1000)) + \"K\")\n",
    "\n",
    "plt.legend()\n",
    "plt.show()"
   ]
  },
  {
   "cell_type": "markdown",
   "metadata": {},
   "source": [
    "## Merge with Plant Master."
   ]
  },
  {
   "cell_type": "code",
   "execution_count": null,
   "metadata": {},
   "outputs": [],
   "source": [
    "dfPlantMaster = pd.read_excel(plantmaster_datapath, sep='|' , encoding='latin-1')\n",
    "dfPlantMaster = dfPlantMaster.rename(columns={\"City\":\"Plant City\",\"State\":\"Plant State\"})\n",
    "dfPlantMasterNew= dfPlantMaster[[\"Plant\",\"Plant City\",\"Plant State\"]].copy()\n",
    "dfInvoice = pd.merge(dfInvoice, dfPlantMasterNew , on=\"Plant\",how='left')\n",
    "dfInvoice"
   ]
  },
  {
   "cell_type": "code",
   "execution_count": null,
   "metadata": {},
   "outputs": [],
   "source": [
    "dfInvoice.shape"
   ]
  },
  {
   "cell_type": "code",
   "execution_count": null,
   "metadata": {},
   "outputs": [],
   "source": [
    "dfInvoice['CITY'] = dfInvoice['CITY'].str.lower() \n",
    "dfInvoice['Plant City'] = dfInvoice['Plant City'].str.lower() \n",
    "\n",
    "dfInvoice[\"Same City\"] = True\n",
    "#dfInvoice[\"Same City\"] = dfInvoice[\"CITY\"].equals(dfInvoice[\"Plant City\"])\n",
    "dfInvoice.shape\n"
   ]
  },
  {
   "cell_type": "code",
   "execution_count": null,
   "metadata": {},
   "outputs": [],
   "source": [
    "dfInvoiceCityDifferentThenPlantCity = dfInvoice[dfInvoice[\"Same City\"] == False]\n",
    "\n",
    "pd.crosstab(dfInvoice[\"Same City\"],dfInvoice[\"Order Type\"] ,margins=True)"
   ]
  },
  {
   "cell_type": "markdown",
   "metadata": {},
   "source": [
    "## 17. Customer Segmentation based on group"
   ]
  },
  {
   "cell_type": "code",
   "execution_count": null,
   "metadata": {},
   "outputs": [],
   "source": [
    "dfCustomerMaster = pd.read_excel(customer_cleansed_datapath,sheet_name=\"Sheet1\", sep='|' , encoding='latin-1')"
   ]
  },
  {
   "cell_type": "code",
   "execution_count": null,
   "metadata": {},
   "outputs": [],
   "source": [
    "dfCustomerMaster.head(5)"
   ]
  },
  {
   "cell_type": "code",
   "execution_count": null,
   "metadata": {},
   "outputs": [],
   "source": [
    "dfInvoice[\"Customer No.\"] = dfInvoice[\"Customer No.\"].astype('str')\n",
    "dfInvoice[\"Customer No.\"] = dfInvoice[\"Customer No.\"].map(lambda x: x.lstrip('0'))\n",
    "\n",
    "\n",
    "dfCustomerMaster[\"Customer No.\"] = dfCustomerMaster[\"Customer No.\"].astype('str')\n"
   ]
  },
  {
   "cell_type": "code",
   "execution_count": null,
   "metadata": {},
   "outputs": [],
   "source": [
    "dfCustomerMaster[\"Customer Occupation\"].value_counts()"
   ]
  },
  {
   "cell_type": "code",
   "execution_count": null,
   "metadata": {},
   "outputs": [],
   "source": [
    "dfCustomerMasterNew= dfCustomerMaster[[\"Customer No.\",\"Customer Partner Type Name\",\"Customer Data Origin Description\",\"Customer Title\",\"Customer Marital Status\",\"Customer Occupation\"]].copy()\n",
    "dfInvoice = pd.merge(dfInvoice, dfCustomerMasterNew , on=\"Customer No.\",how='left')\n",
    "dfInvoice.head()"
   ]
  },
  {
   "cell_type": "code",
   "execution_count": null,
   "metadata": {},
   "outputs": [],
   "source": [
    "dfInvoice.shape"
   ]
  },
  {
   "cell_type": "code",
   "execution_count": null,
   "metadata": {},
   "outputs": [],
   "source": [
    "# pd.crosstab(dfInvoice[\"Cust Type\"],dfInvoice[\"Customer Data Origin Description\"])\n",
    "# pd.crosstab(dfInvoice[\"Cust Type\"],dfInvoice[\"Customer Data Origin Description\"]).transpose().columns\n",
    "# seriesCrossTab = pd.crosstab(dfInvoice[\"Cust Type\"],dfInvoice[\"Customer Data Origin Description\"])\n",
    "# cols = seriesCrossTab.transpose().columns\n",
    "# for col in cols:\n",
    "#     print(f\"For {col}-->{seriesCrossTab.transpose()[col].argmax()}\")"
   ]
  },
  {
   "cell_type": "markdown",
   "metadata": {},
   "source": [
    "## 17.1 Customer Segmentation based on Customer Type and Order Type"
   ]
  },
  {
   "cell_type": "code",
   "execution_count": null,
   "metadata": {},
   "outputs": [],
   "source": [
    "pd.crosstab(dfInvoice[\"Cust Type\"],dfInvoice[\"Order Type\"])"
   ]
  },
  {
   "cell_type": "code",
   "execution_count": null,
   "metadata": {},
   "outputs": [],
   "source": [
    "dfInvoice[\"Customer Occupation\"] = dfInvoice[\"Customer Occupation\"].replace('Others', np.nan)\n",
    "dfInvoice[\"Customer Marital Status\"] = dfInvoice[\"Customer Marital Status\"].replace('Others', np.nan)\n",
    "dfInvoice[\"Customer Title\"] = dfInvoice[\"Customer Title\"].replace('Others', np.nan)\n",
    "dfInvoice[\"Customer Title\"] = dfInvoice[\"Customer Data Origin Description\"].replace('Others', np.nan)"
   ]
  },
  {
   "cell_type": "code",
   "execution_count": null,
   "metadata": {},
   "outputs": [],
   "source": [
    "sns.set(rc={'figure.figsize':(20,8.27)})\n",
    "custTypeOrderTypeSegmentation = dfInvoice.groupby([\"Cust Type\"])['Order Type'].count().reset_index().sort_values(\"Order Type\", ascending=False).set_index(\"Cust Type\")\n",
    "custTypeOrderTypeSegmentation[:30].plot.bar()\n",
    "plt.title('Customer Segmentation based on Customer Type and Order Type')\n",
    "\n",
    "for num, counts in enumerate(custTypeOrderTypeSegmentation['Order Type'][:10]):\n",
    "    plt.text(num, counts, s = format(int(np.round(counts)/1000)) + \"K\")\n",
    "\n",
    "plt.legend()\n",
    "plt.show()"
   ]
  },
  {
   "cell_type": "markdown",
   "metadata": {},
   "source": [
    "## 17.2 Customer Segmentation based on Customer Type and Total value of the service"
   ]
  },
  {
   "cell_type": "code",
   "execution_count": null,
   "metadata": {},
   "outputs": [],
   "source": [
    "custTypeTotalSegmentation = dfInvoice.groupby([\"Cust Type\"])['Total Value'].sum().reset_index().sort_values(\"Total Value\", ascending=False).set_index(\"Cust Type\")/dfInvoice[\"Total Value\"].sum()*100\n",
    "custTypeTotalSegmentation"
   ]
  },
  {
   "cell_type": "code",
   "execution_count": null,
   "metadata": {},
   "outputs": [],
   "source": [
    "sns.set(rc={'figure.figsize':(20,8.27)})\n",
    "custTypeTotalSegmentation = dfInvoice.groupby([\"Cust Type\"])['Total Value'].sum().reset_index().sort_values(\"Total Value\", ascending=False).set_index(\"Cust Type\")/dfInvoice[\"Total Value\"].sum()*100\n",
    "custTypeTotalSegmentation[:10].plot.bar()\n",
    "plt.title('Customer Segmentation % based on Customer Type and Total value of the service')\n",
    "\n",
    "for num, counts in enumerate(custTypeTotalSegmentation['Total Value'][:10]):\n",
    "    plt.text(num, counts, s = format((np.round(counts))) + \"%\")\n",
    "\n",
    "plt.legend()\n",
    "plt.show()"
   ]
  },
  {
   "cell_type": "markdown",
   "metadata": {},
   "source": [
    "## 17.3 Customer Segmentation based on Customer Occupation and Total value of the service"
   ]
  },
  {
   "cell_type": "code",
   "execution_count": null,
   "metadata": {},
   "outputs": [],
   "source": [
    "custOccupationTotalSegmentation = dfInvoice.groupby([\"Customer Occupation\"])['Total Value'].sum().reset_index().sort_values(\"Total Value\", ascending=False).set_index(\"Customer Occupation\")\n",
    "custOccupationTotalSegmentation"
   ]
  },
  {
   "cell_type": "code",
   "execution_count": null,
   "metadata": {},
   "outputs": [],
   "source": [
    "sns.set(rc={'figure.figsize':(20,8.27)})\n",
    "custOccupationTotalSegmentation = dfInvoice.groupby([\"Customer Occupation\"])['Total Value'].sum().reset_index().sort_values(\"Total Value\", ascending=False).set_index(\"Customer Occupation\")\n",
    "custOccupationTotalSegmentation[:10].plot.bar()\n",
    "plt.title('Customer Segmentation based on Customer Occupation and Total value of the service')\n",
    "\n",
    "for num, counts in enumerate(custOccupationTotalSegmentation['Total Value'][:10]):\n",
    "    plt.text(num, counts, s = format((np.round(counts)/1000)) + \"K\")\n",
    "\n",
    "plt.legend()\n",
    "plt.show()"
   ]
  },
  {
   "cell_type": "markdown",
   "metadata": {},
   "source": [
    "## 17.4 Customer Segmentation based on Customer Data Origin and Total value of the service"
   ]
  },
  {
   "cell_type": "code",
   "execution_count": null,
   "metadata": {},
   "outputs": [],
   "source": [
    "dfDistribution = dfInvoice.groupby([\"Customer Data Origin Description\"])['Total Value'].sum().reset_index().sort_values(\"Total Value\", ascending=False).set_index(\"Customer Data Origin Description\")/dfInvoice[\"Total Value\"].sum()*100\n",
    "dfDistribution"
   ]
  },
  {
   "cell_type": "code",
   "execution_count": null,
   "metadata": {},
   "outputs": [],
   "source": [
    "sns.set(rc={'figure.figsize':(20,8.27)})\n",
    "custDataOriginTotalSegmentation = dfInvoice.groupby([\"Customer Data Origin Description\"])['Total Value'].sum().reset_index().sort_values(\"Total Value\", ascending=False).set_index(\"Customer Data Origin Description\")/dfInvoice[\"Total Value\"].sum()*100\n",
    "custDataOriginTotalSegmentation[:10].plot.bar()\n",
    "plt.title('Customer Segmentation % based on  Customer Data Origin and Total value of the service')\n",
    "\n",
    "for num, counts in enumerate(custDataOriginTotalSegmentation['Total Value'][:10]):\n",
    "    plt.text(num, counts, s = format((np.round(counts)/1000)) + \"K\")\n",
    "\n",
    "plt.legend()\n",
    "plt.show()"
   ]
  },
  {
   "cell_type": "markdown",
   "metadata": {},
   "source": [
    "## 17.5 Customer Segmentation based on Customer Partner Type  and Total value of the service"
   ]
  },
  {
   "cell_type": "code",
   "execution_count": null,
   "metadata": {},
   "outputs": [],
   "source": [
    "custPartnerTypeTotalSegmentation = dfInvoice.groupby([\"Customer Partner Type Name\"])['Total Value'].sum().reset_index().sort_values(\"Total Value\", ascending=False).set_index(\"Customer Partner Type Name\")/dfInvoice[\"Total Value\"].sum()*100\n",
    "custPartnerTypeTotalSegmentation"
   ]
  },
  {
   "cell_type": "code",
   "execution_count": null,
   "metadata": {},
   "outputs": [],
   "source": [
    "sns.set(rc={'figure.figsize':(11.7,8.27)})\n",
    "custPartnerTypeTotalSegmentation = dfInvoice.groupby([\"Customer Partner Type Name\"])['Total Value'].sum().reset_index().sort_values(\"Total Value\", ascending=False).set_index(\"Customer Partner Type Name\")/dfInvoice[\"Total Value\"].sum()*100\n",
    "custPartnerTypeTotalSegmentation[:30].plot.bar()\n",
    "plt.title('Customer Segmentation % based on  Customer Data Origin and Total value of the service')\n",
    "plt.legend()\n",
    "plt.show()"
   ]
  },
  {
   "cell_type": "code",
   "execution_count": null,
   "metadata": {},
   "outputs": [],
   "source": [
    "dfInvoice.shape"
   ]
  },
  {
   "cell_type": "markdown",
   "metadata": {},
   "source": [
    "## 17.6 Technician who did the highest number of Services"
   ]
  },
  {
   "cell_type": "code",
   "execution_count": null,
   "metadata": {},
   "outputs": [],
   "source": [
    "sns.set(rc={'figure.figsize':(20,8.27)})\n",
    "\n",
    "dfInvoice[\"Technician Name\"] = dfInvoice[\"Technician Name\"].replace('nan', np.nan)\n",
    "TechnicianSeries = dfInvoice[\"Technician Name\"].value_counts(dropna=True)\n",
    "TechnicianSeries[:10].plot.bar()\n",
    "plt.title('Overall general service structure')\n",
    "plt.legend()\n",
    "plt.show()"
   ]
  },
  {
   "cell_type": "code",
   "execution_count": null,
   "metadata": {},
   "outputs": [],
   "source": [
    "dfInvoice['Technician Name Copy'] = dfInvoice['Technician Name']\n",
    "dfInvoice.groupby([\"Plant Name1\",\"Technician Name Copy\"])['Technician Name'].count().reset_index().sort_values(\"Technician Name\", ascending=False)"
   ]
  },
  {
   "cell_type": "code",
   "execution_count": null,
   "metadata": {},
   "outputs": [],
   "source": [
    "TechnicianSegmentationNagpur = dfInvoice[(dfInvoice[\"Plant Name1\"]==\"NAGPUR\")]['Technician Name'].value_counts()\n",
    "TechnicianSegmentationNagpur"
   ]
  },
  {
   "cell_type": "code",
   "execution_count": null,
   "metadata": {},
   "outputs": [],
   "source": [
    "sns.set(rc={'figure.figsize':(20,8.27)})\n",
    "dfInvoice['Technician Name Copy'] = dfInvoice['Technician Name']\n",
    "TechnicianSegmentation = dfInvoice.groupby([\"Plant Name1\",\"Technician Name Copy\"])[['Technician Name']].count().sort_values(\"Technician Name\", ascending=False)\n",
    "TechnicianSegmentation[:10].plot.bar()\n",
    "\n",
    "for num, counts in enumerate(TechnicianSegmentation['Technician Name'][:10]):\n",
    "    plt.text(num, counts, s = format(int(np.round(counts)/1000)) + \"K\")\n",
    "\n",
    "plt.title('Overall general service structure')\n",
    "dfInvoice.drop([\"Technician Name Copy\"],inplace=True,axis=1)\n",
    "plt.legend()\n",
    "plt.show()"
   ]
  },
  {
   "cell_type": "code",
   "execution_count": null,
   "metadata": {},
   "outputs": [],
   "source": []
  },
  {
   "cell_type": "markdown",
   "metadata": {},
   "source": [
    "## "
   ]
  },
  {
   "cell_type": "code",
   "execution_count": null,
   "metadata": {},
   "outputs": [],
   "source": []
  },
  {
   "cell_type": "markdown",
   "metadata": {},
   "source": [
    "## "
   ]
  },
  {
   "cell_type": "code",
   "execution_count": null,
   "metadata": {},
   "outputs": [],
   "source": []
  },
  {
   "cell_type": "markdown",
   "metadata": {},
   "source": [
    "## "
   ]
  },
  {
   "cell_type": "code",
   "execution_count": null,
   "metadata": {},
   "outputs": [],
   "source": []
  },
  {
   "cell_type": "markdown",
   "metadata": {},
   "source": [
    "## "
   ]
  },
  {
   "cell_type": "code",
   "execution_count": null,
   "metadata": {},
   "outputs": [],
   "source": []
  },
  {
   "cell_type": "code",
   "execution_count": null,
   "metadata": {},
   "outputs": [],
   "source": [
    "## "
   ]
  },
  {
   "cell_type": "code",
   "execution_count": null,
   "metadata": {},
   "outputs": [],
   "source": [
    "\n",
    "dfInvoice.to_csv(cleansed_invoice_datapath, index=False) "
   ]
  },
  {
   "cell_type": "code",
   "execution_count": null,
   "metadata": {},
   "outputs": [],
   "source": [
    "## Which services are most  have most cars coming for repair based on the Make and Model ?"
   ]
  },
  {
   "cell_type": "code",
   "execution_count": null,
   "metadata": {},
   "outputs": [],
   "source": []
  }
 ],
 "metadata": {
  "kernelspec": {
   "display_name": "'Python Interactive'",
   "language": "python",
   "name": "5a47f350-d875-4aa6-9c8d-3ad8235719f6"
  },
  "language_info": {
   "codemirror_mode": {
    "name": "ipython",
    "version": 3
   },
   "file_extension": ".py",
   "mimetype": "text/x-python",
   "name": "python",
   "nbconvert_exporter": "python",
   "pygments_lexer": "ipython3",
   "version": "3.6.10"
  }
 },
 "nbformat": 4,
 "nbformat_minor": 4
}
