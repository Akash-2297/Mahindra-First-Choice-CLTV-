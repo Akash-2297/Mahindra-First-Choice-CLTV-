{
 "cells": [
  {
   "cell_type": "code",
   "execution_count": 330,
   "metadata": {},
   "outputs": [
    {
     "data": {
      "application/javascript": [
       "IPython.OutputArea.auto_scroll_threshold = 9999;\n"
      ],
      "text/plain": [
       "<IPython.core.display.Javascript object>"
      ]
     },
     "metadata": {},
     "output_type": "display_data"
    }
   ],
   "source": [
    "%%javascript\n",
    "IPython.OutputArea.auto_scroll_threshold = 9999;"
   ]
  },
  {
   "cell_type": "code",
   "execution_count": 1,
   "metadata": {},
   "outputs": [],
   "source": [
    "# Import packages\n",
    "import sys\n",
    "import os\n",
    "import numpy as np\n",
    "import pandas as pd\n",
    "from scipy.stats import mode \n",
    "import matplotlib.pyplot as plt\n",
    "import seaborn as sns\n",
    " # code starts here\n",
    "from scipy import stats\n",
    "from scipy.stats import kurtosis \n",
    "from sklearn.linear_model import LinearRegression\n",
    "import datetime as dt\n",
    "import re\n",
    "from sklearn.linear_model import LinearRegression\n",
    "from sklearn.ensemble import RandomForestRegressor\n",
    "from sklearn.ensemble import GradientBoostingRegressor\n",
    "from sklearn.tree  import ExtraTreeRegressor\n",
    "from sklearn.tree  import DecisionTreeRegressor\n",
    "from sklearn.linear_model import LogisticRegression\n",
    "from sklearn.ensemble import RandomForestClassifier\n",
    "from sklearn.ensemble import GradientBoostingClassifier\n",
    "from sklearn.tree  import ExtraTreeClassifier\n",
    "from sklearn.tree  import DecisionTreeClassifier\n",
    "from sklearn.model_selection import train_test_split\n",
    "from sklearn.metrics import classification_report\n",
    "from sklearn.metrics import accuracy_score\n",
    "from sklearn.metrics import precision_score\n",
    "from sklearn.metrics import roc_auc_score\n",
    "from sklearn.metrics import recall_score\n",
    "from itertools import product\n",
    "from datetime import datetime\n",
    "from sklearn import tree\n",
    "import statsmodels.api as sm \n",
    "\n",
    "import pandas as pd\n",
    "from sklearn.tree import DecisionTreeClassifier\n",
    "from sklearn import tree\n",
    "from IPython.display import Image\n",
    "import pydotplus\n",
    "np.set_printoptions(250) \n",
    "# import sklearn.external.joblib as extjoblib\n",
    "# import joblib\n",
    "import seaborn as sns"
   ]
  },
  {
   "cell_type": "markdown",
   "metadata": {},
   "source": [
    "## 1. Read Data in a dataframe"
   ]
  },
  {
   "cell_type": "code",
   "execution_count": 33,
   "metadata": {},
   "outputs": [],
   "source": [
    "import statsmodels.api as sm\n",
    "\n",
    "# Read and Peak at Data\n",
    "base_datapath = r\"D://Projects//Python//Jupyter//Anands Notebook//Captstone//Data//Mahindra First Choice Dataset//\"\n",
    "cleansed_datapath = r\"D://Projects//Python//Jupyter//Anands Notebook//Captstone//Data//Cleansed DataSet//\"\n",
    "customer_cleansed_datapath = cleansed_datapath + \"Customer_Data.xlsx\"\n",
    "invoice_datapath = base_datapath + \"Final_invoice.csv\"\n",
    "jtd_datapath = cleansed_datapath + \"JTD.csv\"\n",
    "plantmaster_datapath = cleansed_datapath + \"Plant Master.xlsx\"\n",
    "\n",
    "\n",
    "cleansed_invoice_datapath = cleansed_datapath + \"Final_invoice.csv\"\n",
    "cleansed_invoice_revised_datapath = cleansed_datapath + \"Final_invoice_revised.csv\"\n",
    "\n",
    "cleansed_CLTV_datapath = cleansed_datapath +\"CLTV.csv\"\n",
    "\n",
    "dir_of_interest = 'D://Projects//Python//GeneralFunctions'\n",
    "sys.path.append(dir_of_interest)   \n",
    "from EDA import *\n",
    "#import EDA"
   ]
  },
  {
   "cell_type": "code",
   "execution_count": 34,
   "metadata": {},
   "outputs": [],
   "source": [
    "dfCustomer = pd.read_csv(cleansed_CLTV_datapath)\n",
    "\n",
    "#dfInvoice = pd.read_excel(invoice_datapath,sheet_name=\"Sheet1\")"
   ]
  },
  {
   "cell_type": "code",
   "execution_count": 35,
   "metadata": {},
   "outputs": [
    {
     "data": {
      "text/html": [
       "<div>\n",
       "<style scoped>\n",
       "    .dataframe tbody tr th:only-of-type {\n",
       "        vertical-align: middle;\n",
       "    }\n",
       "\n",
       "    .dataframe tbody tr th {\n",
       "        vertical-align: top;\n",
       "    }\n",
       "\n",
       "    .dataframe thead th {\n",
       "        text-align: right;\n",
       "    }\n",
       "</style>\n",
       "<table border=\"1\" class=\"dataframe\">\n",
       "  <thead>\n",
       "    <tr style=\"text-align: right;\">\n",
       "      <th></th>\n",
       "      <th>Customer No.</th>\n",
       "      <th>Make-Model</th>\n",
       "      <th>Average Value</th>\n",
       "      <th>Total Transactions</th>\n",
       "      <th>Min Invoice Date</th>\n",
       "      <th>Total Years From First Transaction</th>\n",
       "      <th>Max Invoice Date</th>\n",
       "      <th>Purchase Frequency</th>\n",
       "      <th>KMs Reading</th>\n",
       "      <th>Life Span</th>\n",
       "      <th>CLTV</th>\n",
       "    </tr>\n",
       "  </thead>\n",
       "  <tbody>\n",
       "    <tr>\n",
       "      <th>0</th>\n",
       "      <td>107626</td>\n",
       "      <td>MAHINDRA &amp;  MAHINDRASCORPIO CRDE</td>\n",
       "      <td>89739.494000</td>\n",
       "      <td>5</td>\n",
       "      <td>13/11/2015</td>\n",
       "      <td>0.083333</td>\n",
       "      <td>31/10/2015</td>\n",
       "      <td>60.0</td>\n",
       "      <td>15350</td>\n",
       "      <td>15.387500</td>\n",
       "      <td>8.285199e+07</td>\n",
       "    </tr>\n",
       "    <tr>\n",
       "      <th>1</th>\n",
       "      <td>121624</td>\n",
       "      <td>MAHINDRA &amp;  MAHINDRAXYLO</td>\n",
       "      <td>419840.660000</td>\n",
       "      <td>1</td>\n",
       "      <td>30/11/2015</td>\n",
       "      <td>0.083333</td>\n",
       "      <td>30/11/2015</td>\n",
       "      <td>12.0</td>\n",
       "      <td>28158</td>\n",
       "      <td>14.320167</td>\n",
       "      <td>7.214626e+07</td>\n",
       "    </tr>\n",
       "    <tr>\n",
       "      <th>2</th>\n",
       "      <td>66748</td>\n",
       "      <td>MAHINDRA &amp;  MAHINDRAXUV 500</td>\n",
       "      <td>165613.386667</td>\n",
       "      <td>3</td>\n",
       "      <td>19/11/2014</td>\n",
       "      <td>0.083333</td>\n",
       "      <td>31/12/2014</td>\n",
       "      <td>36.0</td>\n",
       "      <td>59391</td>\n",
       "      <td>11.717417</td>\n",
       "      <td>6.986020e+07</td>\n",
       "    </tr>\n",
       "    <tr>\n",
       "      <th>3</th>\n",
       "      <td>102396</td>\n",
       "      <td>TATA MOTORSINDICA</td>\n",
       "      <td>133902.705000</td>\n",
       "      <td>2</td>\n",
       "      <td>27/11/2015</td>\n",
       "      <td>0.083333</td>\n",
       "      <td>29/06/2015</td>\n",
       "      <td>24.0</td>\n",
       "      <td>22045</td>\n",
       "      <td>14.829583</td>\n",
       "      <td>4.765731e+07</td>\n",
       "    </tr>\n",
       "    <tr>\n",
       "      <th>4</th>\n",
       "      <td>71429</td>\n",
       "      <td>GENERAL MOTORSTAVERA</td>\n",
       "      <td>148927.775000</td>\n",
       "      <td>2</td>\n",
       "      <td>29/11/2014</td>\n",
       "      <td>0.083333</td>\n",
       "      <td>30/10/2014</td>\n",
       "      <td>24.0</td>\n",
       "      <td>65850</td>\n",
       "      <td>11.179167</td>\n",
       "      <td>3.995732e+07</td>\n",
       "    </tr>\n",
       "  </tbody>\n",
       "</table>\n",
       "</div>"
      ],
      "text/plain": [
       "  Customer No.                        Make-Model  Average Value  \\\n",
       "0       107626  MAHINDRA &  MAHINDRASCORPIO CRDE   89739.494000   \n",
       "1       121624          MAHINDRA &  MAHINDRAXYLO  419840.660000   \n",
       "2        66748       MAHINDRA &  MAHINDRAXUV 500  165613.386667   \n",
       "3       102396                 TATA MOTORSINDICA  133902.705000   \n",
       "4        71429              GENERAL MOTORSTAVERA  148927.775000   \n",
       "\n",
       "   Total Transactions Min Invoice Date  Total Years From First Transaction  \\\n",
       "0                   5       13/11/2015                            0.083333   \n",
       "1                   1       30/11/2015                            0.083333   \n",
       "2                   3       19/11/2014                            0.083333   \n",
       "3                   2       27/11/2015                            0.083333   \n",
       "4                   2       29/11/2014                            0.083333   \n",
       "\n",
       "  Max Invoice Date  Purchase Frequency  KMs Reading  Life Span          CLTV  \n",
       "0       31/10/2015                60.0        15350  15.387500  8.285199e+07  \n",
       "1       30/11/2015                12.0        28158  14.320167  7.214626e+07  \n",
       "2       31/12/2014                36.0        59391  11.717417  6.986020e+07  \n",
       "3       29/06/2015                24.0        22045  14.829583  4.765731e+07  \n",
       "4       30/10/2014                24.0        65850  11.179167  3.995732e+07  "
      ]
     },
     "execution_count": 35,
     "metadata": {},
     "output_type": "execute_result"
    }
   ],
   "source": [
    "dfCustomer.head()"
   ]
  },
  {
   "cell_type": "markdown",
   "metadata": {},
   "source": [
    "## 2. Create Model and predict CLTV with Make-Model, Average Value, Kms Reading"
   ]
  },
  {
   "cell_type": "code",
   "execution_count": 42,
   "metadata": {},
   "outputs": [],
   "source": [
    "dfCustomerCopy = dfCustomer.copy()"
   ]
  },
  {
   "cell_type": "code",
   "execution_count": 43,
   "metadata": {},
   "outputs": [
    {
     "data": {
      "text/plain": [
       "247"
      ]
     },
     "execution_count": 43,
     "metadata": {},
     "output_type": "execute_result"
    }
   ],
   "source": [
    "dfCustomerCopy[\"Make-Model\"].unique().size"
   ]
  },
  {
   "cell_type": "code",
   "execution_count": 44,
   "metadata": {},
   "outputs": [
    {
     "data": {
      "text/html": [
       "<div>\n",
       "<style scoped>\n",
       "    .dataframe tbody tr th:only-of-type {\n",
       "        vertical-align: middle;\n",
       "    }\n",
       "\n",
       "    .dataframe tbody tr th {\n",
       "        vertical-align: top;\n",
       "    }\n",
       "\n",
       "    .dataframe thead th {\n",
       "        text-align: right;\n",
       "    }\n",
       "</style>\n",
       "<table border=\"1\" class=\"dataframe\">\n",
       "  <thead>\n",
       "    <tr style=\"text-align: right;\">\n",
       "      <th></th>\n",
       "      <th>Make-Model</th>\n",
       "      <th>Average Value</th>\n",
       "      <th>Total Transactions</th>\n",
       "      <th>Total Years From First Transaction</th>\n",
       "      <th>Purchase Frequency</th>\n",
       "      <th>KMs Reading</th>\n",
       "      <th>Life Span</th>\n",
       "      <th>CLTV</th>\n",
       "    </tr>\n",
       "  </thead>\n",
       "  <tbody>\n",
       "    <tr>\n",
       "      <th>0</th>\n",
       "      <td>MAHINDRA &amp;  MAHINDRASCORPIO CRDE</td>\n",
       "      <td>89739.494000</td>\n",
       "      <td>5</td>\n",
       "      <td>0.083333</td>\n",
       "      <td>60.0</td>\n",
       "      <td>15350</td>\n",
       "      <td>15.387500</td>\n",
       "      <td>8.285199e+07</td>\n",
       "    </tr>\n",
       "    <tr>\n",
       "      <th>1</th>\n",
       "      <td>MAHINDRA &amp;  MAHINDRAXYLO</td>\n",
       "      <td>419840.660000</td>\n",
       "      <td>1</td>\n",
       "      <td>0.083333</td>\n",
       "      <td>12.0</td>\n",
       "      <td>28158</td>\n",
       "      <td>14.320167</td>\n",
       "      <td>7.214626e+07</td>\n",
       "    </tr>\n",
       "    <tr>\n",
       "      <th>2</th>\n",
       "      <td>MAHINDRA &amp;  MAHINDRAXUV 500</td>\n",
       "      <td>165613.386667</td>\n",
       "      <td>3</td>\n",
       "      <td>0.083333</td>\n",
       "      <td>36.0</td>\n",
       "      <td>59391</td>\n",
       "      <td>11.717417</td>\n",
       "      <td>6.986020e+07</td>\n",
       "    </tr>\n",
       "    <tr>\n",
       "      <th>3</th>\n",
       "      <td>TATA MOTORSINDICA</td>\n",
       "      <td>133902.705000</td>\n",
       "      <td>2</td>\n",
       "      <td>0.083333</td>\n",
       "      <td>24.0</td>\n",
       "      <td>22045</td>\n",
       "      <td>14.829583</td>\n",
       "      <td>4.765731e+07</td>\n",
       "    </tr>\n",
       "    <tr>\n",
       "      <th>4</th>\n",
       "      <td>GENERAL MOTORSTAVERA</td>\n",
       "      <td>148927.775000</td>\n",
       "      <td>2</td>\n",
       "      <td>0.083333</td>\n",
       "      <td>24.0</td>\n",
       "      <td>65850</td>\n",
       "      <td>11.179167</td>\n",
       "      <td>3.995732e+07</td>\n",
       "    </tr>\n",
       "  </tbody>\n",
       "</table>\n",
       "</div>"
      ],
      "text/plain": [
       "                         Make-Model  Average Value  Total Transactions  \\\n",
       "0  MAHINDRA &  MAHINDRASCORPIO CRDE   89739.494000                   5   \n",
       "1          MAHINDRA &  MAHINDRAXYLO  419840.660000                   1   \n",
       "2       MAHINDRA &  MAHINDRAXUV 500  165613.386667                   3   \n",
       "3                 TATA MOTORSINDICA  133902.705000                   2   \n",
       "4              GENERAL MOTORSTAVERA  148927.775000                   2   \n",
       "\n",
       "   Total Years From First Transaction  Purchase Frequency  KMs Reading  \\\n",
       "0                            0.083333                60.0        15350   \n",
       "1                            0.083333                12.0        28158   \n",
       "2                            0.083333                36.0        59391   \n",
       "3                            0.083333                24.0        22045   \n",
       "4                            0.083333                24.0        65850   \n",
       "\n",
       "   Life Span          CLTV  \n",
       "0  15.387500  8.285199e+07  \n",
       "1  14.320167  7.214626e+07  \n",
       "2  11.717417  6.986020e+07  \n",
       "3  14.829583  4.765731e+07  \n",
       "4  11.179167  3.995732e+07  "
      ]
     },
     "execution_count": 44,
     "metadata": {},
     "output_type": "execute_result"
    }
   ],
   "source": [
    "dfCustomerCopy.drop([\"Customer No.\",\"Max Invoice Date\",\"Min Invoice Date\"],inplace=True,axis=1)\n",
    "dfCustomerCopy.head()"
   ]
  },
  {
   "cell_type": "code",
   "execution_count": 45,
   "metadata": {},
   "outputs": [],
   "source": [
    "dfCustomerCopy = applyCustomEncodingToDataFrame(dfCustomerCopy,[\"Make-Model\"],'',75)"
   ]
  },
  {
   "cell_type": "code",
   "execution_count": 46,
   "metadata": {},
   "outputs": [
    {
     "data": {
      "text/plain": [
       "76"
      ]
     },
     "execution_count": 46,
     "metadata": {},
     "output_type": "execute_result"
    }
   ],
   "source": [
    "dfCustomerCopy[\"Make-Model\"].unique().size"
   ]
  },
  {
   "cell_type": "code",
   "execution_count": 47,
   "metadata": {},
   "outputs": [
    {
     "data": {
      "text/html": [
       "<div>\n",
       "<style scoped>\n",
       "    .dataframe tbody tr th:only-of-type {\n",
       "        vertical-align: middle;\n",
       "    }\n",
       "\n",
       "    .dataframe tbody tr th {\n",
       "        vertical-align: top;\n",
       "    }\n",
       "\n",
       "    .dataframe thead th {\n",
       "        text-align: right;\n",
       "    }\n",
       "</style>\n",
       "<table border=\"1\" class=\"dataframe\">\n",
       "  <thead>\n",
       "    <tr style=\"text-align: right;\">\n",
       "      <th></th>\n",
       "      <th>Make-Model</th>\n",
       "      <th>Average Value</th>\n",
       "      <th>Total Transactions</th>\n",
       "      <th>Total Years From First Transaction</th>\n",
       "      <th>Purchase Frequency</th>\n",
       "      <th>KMs Reading</th>\n",
       "      <th>Life Span</th>\n",
       "      <th>CLTV</th>\n",
       "    </tr>\n",
       "  </thead>\n",
       "  <tbody>\n",
       "    <tr>\n",
       "      <th>0</th>\n",
       "      <td>MAHINDRA &amp;  MAHINDRASCORPIO CRDE</td>\n",
       "      <td>89739.494000</td>\n",
       "      <td>5</td>\n",
       "      <td>0.083333</td>\n",
       "      <td>60.0</td>\n",
       "      <td>15350</td>\n",
       "      <td>15.387500</td>\n",
       "      <td>8.285199e+07</td>\n",
       "    </tr>\n",
       "    <tr>\n",
       "      <th>1</th>\n",
       "      <td>MAHINDRA &amp;  MAHINDRAXYLO</td>\n",
       "      <td>419840.660000</td>\n",
       "      <td>1</td>\n",
       "      <td>0.083333</td>\n",
       "      <td>12.0</td>\n",
       "      <td>28158</td>\n",
       "      <td>14.320167</td>\n",
       "      <td>7.214626e+07</td>\n",
       "    </tr>\n",
       "    <tr>\n",
       "      <th>2</th>\n",
       "      <td>MAHINDRA &amp;  MAHINDRAXUV 500</td>\n",
       "      <td>165613.386667</td>\n",
       "      <td>3</td>\n",
       "      <td>0.083333</td>\n",
       "      <td>36.0</td>\n",
       "      <td>59391</td>\n",
       "      <td>11.717417</td>\n",
       "      <td>6.986020e+07</td>\n",
       "    </tr>\n",
       "    <tr>\n",
       "      <th>3</th>\n",
       "      <td>TATA MOTORSINDICA</td>\n",
       "      <td>133902.705000</td>\n",
       "      <td>2</td>\n",
       "      <td>0.083333</td>\n",
       "      <td>24.0</td>\n",
       "      <td>22045</td>\n",
       "      <td>14.829583</td>\n",
       "      <td>4.765731e+07</td>\n",
       "    </tr>\n",
       "    <tr>\n",
       "      <th>4</th>\n",
       "      <td>GENERAL MOTORSTAVERA</td>\n",
       "      <td>148927.775000</td>\n",
       "      <td>2</td>\n",
       "      <td>0.083333</td>\n",
       "      <td>24.0</td>\n",
       "      <td>65850</td>\n",
       "      <td>11.179167</td>\n",
       "      <td>3.995732e+07</td>\n",
       "    </tr>\n",
       "  </tbody>\n",
       "</table>\n",
       "</div>"
      ],
      "text/plain": [
       "                         Make-Model  Average Value  Total Transactions  \\\n",
       "0  MAHINDRA &  MAHINDRASCORPIO CRDE   89739.494000                   5   \n",
       "1          MAHINDRA &  MAHINDRAXYLO  419840.660000                   1   \n",
       "2       MAHINDRA &  MAHINDRAXUV 500  165613.386667                   3   \n",
       "3                 TATA MOTORSINDICA  133902.705000                   2   \n",
       "4              GENERAL MOTORSTAVERA  148927.775000                   2   \n",
       "\n",
       "   Total Years From First Transaction  Purchase Frequency  KMs Reading  \\\n",
       "0                            0.083333                60.0        15350   \n",
       "1                            0.083333                12.0        28158   \n",
       "2                            0.083333                36.0        59391   \n",
       "3                            0.083333                24.0        22045   \n",
       "4                            0.083333                24.0        65850   \n",
       "\n",
       "   Life Span          CLTV  \n",
       "0  15.387500  8.285199e+07  \n",
       "1  14.320167  7.214626e+07  \n",
       "2  11.717417  6.986020e+07  \n",
       "3  14.829583  4.765731e+07  \n",
       "4  11.179167  3.995732e+07  "
      ]
     },
     "execution_count": 47,
     "metadata": {},
     "output_type": "execute_result"
    }
   ],
   "source": [
    "dfCustomerCopy.head()"
   ]
  },
  {
   "cell_type": "code",
   "execution_count": 48,
   "metadata": {},
   "outputs": [],
   "source": [
    "dfCustomerCopy= applyOneHotEncodingToDataFrame(dfCustomerCopy,[\"Make-Model\"])   "
   ]
  },
  {
   "cell_type": "code",
   "execution_count": 49,
   "metadata": {},
   "outputs": [
    {
     "data": {
      "text/html": [
       "<div>\n",
       "<style scoped>\n",
       "    .dataframe tbody tr th:only-of-type {\n",
       "        vertical-align: middle;\n",
       "    }\n",
       "\n",
       "    .dataframe tbody tr th {\n",
       "        vertical-align: top;\n",
       "    }\n",
       "\n",
       "    .dataframe thead th {\n",
       "        text-align: right;\n",
       "    }\n",
       "</style>\n",
       "<table border=\"1\" class=\"dataframe\">\n",
       "  <thead>\n",
       "    <tr style=\"text-align: right;\">\n",
       "      <th></th>\n",
       "      <th>Average Value</th>\n",
       "      <th>Total Transactions</th>\n",
       "      <th>Total Years From First Transaction</th>\n",
       "      <th>Purchase Frequency</th>\n",
       "      <th>KMs Reading</th>\n",
       "      <th>Life Span</th>\n",
       "      <th>CLTV</th>\n",
       "      <th>Make-Model_FIATLINEA</th>\n",
       "      <th>Make-Model_FIATPALIO</th>\n",
       "      <th>Make-Model_FORDECOSPORT</th>\n",
       "      <th>...</th>\n",
       "      <th>Make-Model_TATA MOTORSSAFARI</th>\n",
       "      <th>Make-Model_TATA MOTORSSUMO</th>\n",
       "      <th>Make-Model_TATA MOTORSVISTA</th>\n",
       "      <th>Make-Model_TOYOTACOROLLA</th>\n",
       "      <th>Make-Model_TOYOTAETIOS</th>\n",
       "      <th>Make-Model_TOYOTAFORTUNER</th>\n",
       "      <th>Make-Model_TOYOTAINNOVA</th>\n",
       "      <th>Make-Model_TOYOTAQUALIS</th>\n",
       "      <th>Make-Model_VOLKSWAGENPOLO</th>\n",
       "      <th>Make-Model_VOLKSWAGENVENTO</th>\n",
       "    </tr>\n",
       "  </thead>\n",
       "  <tbody>\n",
       "    <tr>\n",
       "      <th>0</th>\n",
       "      <td>89739.494000</td>\n",
       "      <td>5</td>\n",
       "      <td>0.083333</td>\n",
       "      <td>60.0</td>\n",
       "      <td>15350</td>\n",
       "      <td>15.387500</td>\n",
       "      <td>8.285199e+07</td>\n",
       "      <td>0</td>\n",
       "      <td>0</td>\n",
       "      <td>0</td>\n",
       "      <td>...</td>\n",
       "      <td>0</td>\n",
       "      <td>0</td>\n",
       "      <td>0</td>\n",
       "      <td>0</td>\n",
       "      <td>0</td>\n",
       "      <td>0</td>\n",
       "      <td>0</td>\n",
       "      <td>0</td>\n",
       "      <td>0</td>\n",
       "      <td>0</td>\n",
       "    </tr>\n",
       "    <tr>\n",
       "      <th>1</th>\n",
       "      <td>419840.660000</td>\n",
       "      <td>1</td>\n",
       "      <td>0.083333</td>\n",
       "      <td>12.0</td>\n",
       "      <td>28158</td>\n",
       "      <td>14.320167</td>\n",
       "      <td>7.214626e+07</td>\n",
       "      <td>0</td>\n",
       "      <td>0</td>\n",
       "      <td>0</td>\n",
       "      <td>...</td>\n",
       "      <td>0</td>\n",
       "      <td>0</td>\n",
       "      <td>0</td>\n",
       "      <td>0</td>\n",
       "      <td>0</td>\n",
       "      <td>0</td>\n",
       "      <td>0</td>\n",
       "      <td>0</td>\n",
       "      <td>0</td>\n",
       "      <td>0</td>\n",
       "    </tr>\n",
       "    <tr>\n",
       "      <th>2</th>\n",
       "      <td>165613.386667</td>\n",
       "      <td>3</td>\n",
       "      <td>0.083333</td>\n",
       "      <td>36.0</td>\n",
       "      <td>59391</td>\n",
       "      <td>11.717417</td>\n",
       "      <td>6.986020e+07</td>\n",
       "      <td>0</td>\n",
       "      <td>0</td>\n",
       "      <td>0</td>\n",
       "      <td>...</td>\n",
       "      <td>0</td>\n",
       "      <td>0</td>\n",
       "      <td>0</td>\n",
       "      <td>0</td>\n",
       "      <td>0</td>\n",
       "      <td>0</td>\n",
       "      <td>0</td>\n",
       "      <td>0</td>\n",
       "      <td>0</td>\n",
       "      <td>0</td>\n",
       "    </tr>\n",
       "    <tr>\n",
       "      <th>3</th>\n",
       "      <td>133902.705000</td>\n",
       "      <td>2</td>\n",
       "      <td>0.083333</td>\n",
       "      <td>24.0</td>\n",
       "      <td>22045</td>\n",
       "      <td>14.829583</td>\n",
       "      <td>4.765731e+07</td>\n",
       "      <td>0</td>\n",
       "      <td>0</td>\n",
       "      <td>0</td>\n",
       "      <td>...</td>\n",
       "      <td>0</td>\n",
       "      <td>0</td>\n",
       "      <td>0</td>\n",
       "      <td>0</td>\n",
       "      <td>0</td>\n",
       "      <td>0</td>\n",
       "      <td>0</td>\n",
       "      <td>0</td>\n",
       "      <td>0</td>\n",
       "      <td>0</td>\n",
       "    </tr>\n",
       "    <tr>\n",
       "      <th>4</th>\n",
       "      <td>148927.775000</td>\n",
       "      <td>2</td>\n",
       "      <td>0.083333</td>\n",
       "      <td>24.0</td>\n",
       "      <td>65850</td>\n",
       "      <td>11.179167</td>\n",
       "      <td>3.995732e+07</td>\n",
       "      <td>0</td>\n",
       "      <td>0</td>\n",
       "      <td>0</td>\n",
       "      <td>...</td>\n",
       "      <td>0</td>\n",
       "      <td>0</td>\n",
       "      <td>0</td>\n",
       "      <td>0</td>\n",
       "      <td>0</td>\n",
       "      <td>0</td>\n",
       "      <td>0</td>\n",
       "      <td>0</td>\n",
       "      <td>0</td>\n",
       "      <td>0</td>\n",
       "    </tr>\n",
       "  </tbody>\n",
       "</table>\n",
       "<p>5 rows × 82 columns</p>\n",
       "</div>"
      ],
      "text/plain": [
       "   Average Value  Total Transactions  Total Years From First Transaction  \\\n",
       "0   89739.494000                   5                            0.083333   \n",
       "1  419840.660000                   1                            0.083333   \n",
       "2  165613.386667                   3                            0.083333   \n",
       "3  133902.705000                   2                            0.083333   \n",
       "4  148927.775000                   2                            0.083333   \n",
       "\n",
       "   Purchase Frequency  KMs Reading  Life Span          CLTV  \\\n",
       "0                60.0        15350  15.387500  8.285199e+07   \n",
       "1                12.0        28158  14.320167  7.214626e+07   \n",
       "2                36.0        59391  11.717417  6.986020e+07   \n",
       "3                24.0        22045  14.829583  4.765731e+07   \n",
       "4                24.0        65850  11.179167  3.995732e+07   \n",
       "\n",
       "   Make-Model_FIATLINEA  Make-Model_FIATPALIO  Make-Model_FORDECOSPORT  ...  \\\n",
       "0                     0                     0                        0  ...   \n",
       "1                     0                     0                        0  ...   \n",
       "2                     0                     0                        0  ...   \n",
       "3                     0                     0                        0  ...   \n",
       "4                     0                     0                        0  ...   \n",
       "\n",
       "   Make-Model_TATA MOTORSSAFARI  Make-Model_TATA MOTORSSUMO  \\\n",
       "0                             0                           0   \n",
       "1                             0                           0   \n",
       "2                             0                           0   \n",
       "3                             0                           0   \n",
       "4                             0                           0   \n",
       "\n",
       "   Make-Model_TATA MOTORSVISTA  Make-Model_TOYOTACOROLLA  \\\n",
       "0                            0                         0   \n",
       "1                            0                         0   \n",
       "2                            0                         0   \n",
       "3                            0                         0   \n",
       "4                            0                         0   \n",
       "\n",
       "   Make-Model_TOYOTAETIOS  Make-Model_TOYOTAFORTUNER  Make-Model_TOYOTAINNOVA  \\\n",
       "0                       0                          0                        0   \n",
       "1                       0                          0                        0   \n",
       "2                       0                          0                        0   \n",
       "3                       0                          0                        0   \n",
       "4                       0                          0                        0   \n",
       "\n",
       "   Make-Model_TOYOTAQUALIS  Make-Model_VOLKSWAGENPOLO  \\\n",
       "0                        0                          0   \n",
       "1                        0                          0   \n",
       "2                        0                          0   \n",
       "3                        0                          0   \n",
       "4                        0                          0   \n",
       "\n",
       "   Make-Model_VOLKSWAGENVENTO  \n",
       "0                           0  \n",
       "1                           0  \n",
       "2                           0  \n",
       "3                           0  \n",
       "4                           0  \n",
       "\n",
       "[5 rows x 82 columns]"
      ]
     },
     "execution_count": 49,
     "metadata": {},
     "output_type": "execute_result"
    }
   ],
   "source": [
    "dfCustomerCopy.head()"
   ]
  },
  {
   "cell_type": "code",
   "execution_count": 51,
   "metadata": {},
   "outputs": [
    {
     "name": "stdout",
     "output_type": "stream",
     "text": [
      "Linear Regression\n"
     ]
    },
    {
     "name": "stderr",
     "output_type": "stream",
     "text": [
      "D:\\Visual Studio\\Anaconda3_64\\lib\\site-packages\\scipy\\stats\\morestats.py:1681: UserWarning: p-value may not be accurate for N > 5000.\n",
      "  warnings.warn(\"p-value may not be accurate for N > 5000.\")\n",
      "D:\\Visual Studio\\Anaconda3_64\\lib\\site-packages\\scipy\\stats\\_distn_infrastructure.py:1932: RuntimeWarning: invalid value encountered in less_equal\n",
      "  cond2 = cond0 & (x <= _a)\n",
      "D:\\Visual Studio\\Anaconda3_64\\lib\\site-packages\\scipy\\stats\\stats.py:1617: RuntimeWarning: invalid value encountered in sign\n",
      "  term2 = np.sign(denom) * np.where(denom == 0.0, np.nan,\n",
      "D:\\Visual Studio\\Anaconda3_64\\lib\\site-packages\\numpy\\lib\\histograms.py:839: RuntimeWarning: invalid value encountered in greater_equal\n",
      "  keep = (tmp_a >= first_edge)\n",
      "D:\\Visual Studio\\Anaconda3_64\\lib\\site-packages\\numpy\\lib\\histograms.py:840: RuntimeWarning: invalid value encountered in less_equal\n",
      "  keep &= (tmp_a <= last_edge)\n",
      "D://Projects//Python//GeneralFunctions\\EDA.py:1126: MatplotlibDeprecationWarning: Adding an axes using the same arguments as a previous axes currently reuses the earlier instance.  In a future version, a new instance will always be created and returned.  Meanwhile, this warning can be suppressed, and the future behavior ensured, by passing a unique label to each axes instance.\n",
      "  sm.qqplot(df[col], line='s', ax=plt.subplot(1, 3, 2))\n"
     ]
    },
    {
     "data": {
      "image/png": "[encoded data removed]",
      "text/plain": [
       "<Figure size 1080x360 with 3 Axes>"
      ]
     },
     "metadata": {
      "needs_background": "light"
     },
     "output_type": "display_data"
    },
    {
     "name": "stdout",
     "output_type": "stream",
     "text": [
      "Random Forest Regressor\n",
      "Descision Tree Regressor\n",
      "Extra Tree Regressor\n",
      "Gradient Boosting Regressor\n"
     ]
    }
   ],
   "source": [
    "x=dfCustomerCopy.drop(['CLTV'],axis=1)\n",
    "y=dfCustomerCopy['CLTV']\n",
    "resultList = runAlgoRegressor(x,y)\n",
    "\n"
   ]
  },
  {
   "cell_type": "code",
   "execution_count": 52,
   "metadata": {},
   "outputs": [
    {
     "data": {
      "text/html": [
       "<div>\n",
       "<style scoped>\n",
       "    .dataframe tbody tr th:only-of-type {\n",
       "        vertical-align: middle;\n",
       "    }\n",
       "\n",
       "    .dataframe tbody tr th {\n",
       "        vertical-align: top;\n",
       "    }\n",
       "\n",
       "    .dataframe thead th {\n",
       "        text-align: right;\n",
       "    }\n",
       "</style>\n",
       "<table border=\"1\" class=\"dataframe\">\n",
       "  <thead>\n",
       "    <tr style=\"text-align: right;\">\n",
       "      <th></th>\n",
       "      <th>Name</th>\n",
       "      <th>RMSE</th>\n",
       "      <th>R Square Score</th>\n",
       "    </tr>\n",
       "  </thead>\n",
       "  <tbody>\n",
       "    <tr>\n",
       "      <th>0</th>\n",
       "      <td>Linear Regression</td>\n",
       "      <td>578055.583078</td>\n",
       "      <td>0.361568</td>\n",
       "    </tr>\n",
       "    <tr>\n",
       "      <th>1</th>\n",
       "      <td>Random Forest Regressor</td>\n",
       "      <td>247536.898164</td>\n",
       "      <td>0.882927</td>\n",
       "    </tr>\n",
       "    <tr>\n",
       "      <th>2</th>\n",
       "      <td>Descision Tree Regressor</td>\n",
       "      <td>248912.790916</td>\n",
       "      <td>0.881622</td>\n",
       "    </tr>\n",
       "    <tr>\n",
       "      <th>3</th>\n",
       "      <td>Extra Tree Regressor</td>\n",
       "      <td>270326.881442</td>\n",
       "      <td>0.860378</td>\n",
       "    </tr>\n",
       "    <tr>\n",
       "      <th>4</th>\n",
       "      <td>Gradient Boosting Regressor</td>\n",
       "      <td>237422.653388</td>\n",
       "      <td>0.892299</td>\n",
       "    </tr>\n",
       "  </tbody>\n",
       "</table>\n",
       "</div>"
      ],
      "text/plain": [
       "                          Name           RMSE  R Square Score\n",
       "0            Linear Regression  578055.583078        0.361568\n",
       "1      Random Forest Regressor  247536.898164        0.882927\n",
       "2     Descision Tree Regressor  248912.790916        0.881622\n",
       "3         Extra Tree Regressor  270326.881442        0.860378\n",
       "4  Gradient Boosting Regressor  237422.653388        0.892299"
      ]
     },
     "execution_count": 52,
     "metadata": {},
     "output_type": "execute_result"
    }
   ],
   "source": [
    "resultList"
   ]
  },
  {
   "cell_type": "markdown",
   "metadata": {},
   "source": [
    "## 3. Insights of Average CLTV based on  various attirbutes"
   ]
  },
  {
   "cell_type": "code",
   "execution_count": 174,
   "metadata": {},
   "outputs": [
    {
     "data": {
      "text/html": [
       "<div>\n",
       "<style scoped>\n",
       "    .dataframe tbody tr th:only-of-type {\n",
       "        vertical-align: middle;\n",
       "    }\n",
       "\n",
       "    .dataframe tbody tr th {\n",
       "        vertical-align: top;\n",
       "    }\n",
       "\n",
       "    .dataframe thead th {\n",
       "        text-align: right;\n",
       "    }\n",
       "</style>\n",
       "<table border=\"1\" class=\"dataframe\">\n",
       "  <thead>\n",
       "    <tr style=\"text-align: right;\">\n",
       "      <th></th>\n",
       "      <th>CLTV</th>\n",
       "    </tr>\n",
       "    <tr>\n",
       "      <th>CITY</th>\n",
       "      <th></th>\n",
       "    </tr>\n",
       "  </thead>\n",
       "  <tbody>\n",
       "    <tr>\n",
       "      <th>chennai</th>\n",
       "      <td>16.034965</td>\n",
       "    </tr>\n",
       "    <tr>\n",
       "      <th>pune</th>\n",
       "      <td>6.297111</td>\n",
       "    </tr>\n",
       "    <tr>\n",
       "      <th>hyderabad</th>\n",
       "      <td>5.961207</td>\n",
       "    </tr>\n",
       "    <tr>\n",
       "      <th>bangalore</th>\n",
       "      <td>3.551453</td>\n",
       "    </tr>\n",
       "    <tr>\n",
       "      <th>nashik</th>\n",
       "      <td>3.473425</td>\n",
       "    </tr>\n",
       "  </tbody>\n",
       "</table>\n",
       "</div>"
      ],
      "text/plain": [
       "                CLTV\n",
       "CITY                \n",
       "chennai    16.034965\n",
       "pune        6.297111\n",
       "hyderabad   5.961207\n",
       "bangalore   3.551453\n",
       "nashik      3.473425"
      ]
     },
     "execution_count": 174,
     "metadata": {},
     "output_type": "execute_result"
    }
   ],
   "source": [
    "averageTotalCLTV = dfCustomerCopy[\"CLTV\"].sum()\n",
    "CLTVBasedOnCITY = (dfCustomerCopy.groupby(['CITY'])[['CLTV']].sum().reset_index().sort_values(\"CLTV\", ascending=False).set_index(\"CITY\"))/averageTotalCLTV*100\n",
    "CLTVBasedOnCITY.head()"
   ]
  },
  {
   "cell_type": "code",
   "execution_count": 129,
   "metadata": {},
   "outputs": [
    {
     "name": "stderr",
     "output_type": "stream",
     "text": [
      "D:\\Visual Studio\\Anaconda3_64\\lib\\site-packages\\IPython\\core\\interactiveshell.py:3063: DtypeWarning: Columns (9,10,14,15,21,41,51) have mixed types.Specify dtype option on import or set low_memory=False.\n",
      "  interactivity=interactivity, compiler=compiler, result=result)\n"
     ]
    }
   ],
   "source": [
    "dfCustomerCopy = dfCustomer.copy()\n",
    "\n",
    "dfInvoice = pd.read_csv(cleansed_invoice_datapath)\n"
   ]
  },
  {
   "cell_type": "code",
   "execution_count": 130,
   "metadata": {},
   "outputs": [
    {
     "data": {
      "text/plain": [
       "(258425, 11)"
      ]
     },
     "execution_count": 130,
     "metadata": {},
     "output_type": "execute_result"
    }
   ],
   "source": [
    "dfCustomerCopy.shape"
   ]
  },
  {
   "cell_type": "code",
   "execution_count": 131,
   "metadata": {},
   "outputs": [],
   "source": [
    "dfInvoiceCopy =dfInvoice[[\"Customer No.\",'Make-Model',\"CITY\",\"District\",\"Cust Type\",\"Order Type\",\"Plant Name1\"]]"
   ]
  },
  {
   "cell_type": "code",
   "execution_count": 132,
   "metadata": {},
   "outputs": [
    {
     "data": {
      "text/plain": [
       "(492314, 7)"
      ]
     },
     "execution_count": 132,
     "metadata": {},
     "output_type": "execute_result"
    }
   ],
   "source": [
    "dfInvoiceCopy.shape"
   ]
  },
  {
   "cell_type": "code",
   "execution_count": 133,
   "metadata": {},
   "outputs": [],
   "source": [
    "dfCustomerCopy = pd.merge(dfCustomerCopy, dfInvoiceCopy , on=[\"Customer No.\",\"Make-Model\"],how='left')#.rename(columns = {\"Total Value\":\"Average Value\"})"
   ]
  },
  {
   "cell_type": "code",
   "execution_count": 134,
   "metadata": {},
   "outputs": [
    {
     "data": {
      "text/plain": [
       "(490789, 16)"
      ]
     },
     "execution_count": 134,
     "metadata": {},
     "output_type": "execute_result"
    }
   ],
   "source": [
    "dfCustomerCopy.shape"
   ]
  },
  {
   "cell_type": "code",
   "execution_count": 135,
   "metadata": {},
   "outputs": [],
   "source": [
    "dfCustomerCopy = dfCustomerCopy.drop_duplicates()"
   ]
  },
  {
   "cell_type": "code",
   "execution_count": 136,
   "metadata": {},
   "outputs": [
    {
     "data": {
      "text/html": [
       "<div>\n",
       "<style scoped>\n",
       "    .dataframe tbody tr th:only-of-type {\n",
       "        vertical-align: middle;\n",
       "    }\n",
       "\n",
       "    .dataframe tbody tr th {\n",
       "        vertical-align: top;\n",
       "    }\n",
       "\n",
       "    .dataframe thead th {\n",
       "        text-align: right;\n",
       "    }\n",
       "</style>\n",
       "<table border=\"1\" class=\"dataframe\">\n",
       "  <thead>\n",
       "    <tr style=\"text-align: right;\">\n",
       "      <th></th>\n",
       "      <th>Customer No.</th>\n",
       "      <th>Make-Model</th>\n",
       "      <th>Average Value</th>\n",
       "      <th>Total Transactions</th>\n",
       "      <th>Min Invoice Date</th>\n",
       "      <th>Total Years From First Transaction</th>\n",
       "      <th>Max Invoice Date</th>\n",
       "      <th>Purchase Frequency</th>\n",
       "      <th>KMs Reading</th>\n",
       "      <th>Life Span</th>\n",
       "      <th>CLTV</th>\n",
       "      <th>CITY</th>\n",
       "      <th>District</th>\n",
       "      <th>Cust Type</th>\n",
       "      <th>Order Type</th>\n",
       "      <th>Plant Name1</th>\n",
       "    </tr>\n",
       "  </thead>\n",
       "  <tbody>\n",
       "    <tr>\n",
       "      <th>0</th>\n",
       "      <td>107626</td>\n",
       "      <td>MAHINDRA &amp;  MAHINDRASCORPIO CRDE</td>\n",
       "      <td>89739.494000</td>\n",
       "      <td>5</td>\n",
       "      <td>13/11/2015</td>\n",
       "      <td>0.083333</td>\n",
       "      <td>31/10/2015</td>\n",
       "      <td>60.0</td>\n",
       "      <td>15350</td>\n",
       "      <td>15.387500</td>\n",
       "      <td>8.285199e+07</td>\n",
       "      <td>dharmapuri</td>\n",
       "      <td>Tamil Nadu</td>\n",
       "      <td>Retail</td>\n",
       "      <td>Accidental</td>\n",
       "      <td>X032 - SBBS MOTORS</td>\n",
       "    </tr>\n",
       "    <tr>\n",
       "      <th>4</th>\n",
       "      <td>107626</td>\n",
       "      <td>MAHINDRA &amp;  MAHINDRASCORPIO CRDE</td>\n",
       "      <td>89739.494000</td>\n",
       "      <td>5</td>\n",
       "      <td>13/11/2015</td>\n",
       "      <td>0.083333</td>\n",
       "      <td>31/10/2015</td>\n",
       "      <td>60.0</td>\n",
       "      <td>15350</td>\n",
       "      <td>15.387500</td>\n",
       "      <td>8.285199e+07</td>\n",
       "      <td>dharmapuri</td>\n",
       "      <td>Tamil Nadu</td>\n",
       "      <td>Retail</td>\n",
       "      <td>Running Repairs</td>\n",
       "      <td>X032 - SBBS MOTORS</td>\n",
       "    </tr>\n",
       "    <tr>\n",
       "      <th>5</th>\n",
       "      <td>121624</td>\n",
       "      <td>MAHINDRA &amp;  MAHINDRAXYLO</td>\n",
       "      <td>419840.660000</td>\n",
       "      <td>1</td>\n",
       "      <td>30/11/2015</td>\n",
       "      <td>0.083333</td>\n",
       "      <td>30/11/2015</td>\n",
       "      <td>12.0</td>\n",
       "      <td>28158</td>\n",
       "      <td>14.320167</td>\n",
       "      <td>7.214626e+07</td>\n",
       "      <td>sas nager mohali</td>\n",
       "      <td>Punjab</td>\n",
       "      <td>Retail</td>\n",
       "      <td>Accidental</td>\n",
       "      <td>SAS NAGAR - MOHALI</td>\n",
       "    </tr>\n",
       "    <tr>\n",
       "      <th>6</th>\n",
       "      <td>66748</td>\n",
       "      <td>MAHINDRA &amp;  MAHINDRAXUV 500</td>\n",
       "      <td>165613.386667</td>\n",
       "      <td>3</td>\n",
       "      <td>19/11/2014</td>\n",
       "      <td>0.083333</td>\n",
       "      <td>31/12/2014</td>\n",
       "      <td>36.0</td>\n",
       "      <td>59391</td>\n",
       "      <td>11.717417</td>\n",
       "      <td>6.986020e+07</td>\n",
       "      <td>raigad</td>\n",
       "      <td>Maharashtra</td>\n",
       "      <td>Retail</td>\n",
       "      <td>Accidental</td>\n",
       "      <td>NERUL - NAVI MUMBAI</td>\n",
       "    </tr>\n",
       "    <tr>\n",
       "      <th>8</th>\n",
       "      <td>66748</td>\n",
       "      <td>MAHINDRA &amp;  MAHINDRAXUV 500</td>\n",
       "      <td>165613.386667</td>\n",
       "      <td>3</td>\n",
       "      <td>19/11/2014</td>\n",
       "      <td>0.083333</td>\n",
       "      <td>31/12/2014</td>\n",
       "      <td>36.0</td>\n",
       "      <td>59391</td>\n",
       "      <td>11.717417</td>\n",
       "      <td>6.986020e+07</td>\n",
       "      <td>raigad</td>\n",
       "      <td>Maharashtra</td>\n",
       "      <td>Retail</td>\n",
       "      <td>Running Repairs</td>\n",
       "      <td>NERUL - NAVI MUMBAI</td>\n",
       "    </tr>\n",
       "  </tbody>\n",
       "</table>\n",
       "</div>"
      ],
      "text/plain": [
       "  Customer No.                        Make-Model  Average Value  \\\n",
       "0       107626  MAHINDRA &  MAHINDRASCORPIO CRDE   89739.494000   \n",
       "4       107626  MAHINDRA &  MAHINDRASCORPIO CRDE   89739.494000   \n",
       "5       121624          MAHINDRA &  MAHINDRAXYLO  419840.660000   \n",
       "6        66748       MAHINDRA &  MAHINDRAXUV 500  165613.386667   \n",
       "8        66748       MAHINDRA &  MAHINDRAXUV 500  165613.386667   \n",
       "\n",
       "   Total Transactions Min Invoice Date  Total Years From First Transaction  \\\n",
       "0                   5       13/11/2015                            0.083333   \n",
       "4                   5       13/11/2015                            0.083333   \n",
       "5                   1       30/11/2015                            0.083333   \n",
       "6                   3       19/11/2014                            0.083333   \n",
       "8                   3       19/11/2014                            0.083333   \n",
       "\n",
       "  Max Invoice Date  Purchase Frequency  KMs Reading  Life Span          CLTV  \\\n",
       "0       31/10/2015                60.0        15350  15.387500  8.285199e+07   \n",
       "4       31/10/2015                60.0        15350  15.387500  8.285199e+07   \n",
       "5       30/11/2015                12.0        28158  14.320167  7.214626e+07   \n",
       "6       31/12/2014                36.0        59391  11.717417  6.986020e+07   \n",
       "8       31/12/2014                36.0        59391  11.717417  6.986020e+07   \n",
       "\n",
       "               CITY     District Cust Type       Order Type  \\\n",
       "0        dharmapuri   Tamil Nadu    Retail       Accidental   \n",
       "4        dharmapuri   Tamil Nadu    Retail  Running Repairs   \n",
       "5  sas nager mohali       Punjab    Retail       Accidental   \n",
       "6            raigad  Maharashtra    Retail       Accidental   \n",
       "8            raigad  Maharashtra    Retail  Running Repairs   \n",
       "\n",
       "           Plant Name1  \n",
       "0   X032 - SBBS MOTORS  \n",
       "4   X032 - SBBS MOTORS  \n",
       "5   SAS NAGAR - MOHALI  \n",
       "6  NERUL - NAVI MUMBAI  \n",
       "8  NERUL - NAVI MUMBAI  "
      ]
     },
     "execution_count": 136,
     "metadata": {},
     "output_type": "execute_result"
    }
   ],
   "source": [
    "dfCustomerCopy.head()"
   ]
  },
  {
   "cell_type": "markdown",
   "metadata": {},
   "source": [
    "## 3.1 Average CLTV Based on CITY"
   ]
  },
  {
   "cell_type": "code",
   "execution_count": 202,
   "metadata": {},
   "outputs": [
    {
     "data": {
      "text/plain": [
       "<Figure size 504x504 with 0 Axes>"
      ]
     },
     "metadata": {},
     "output_type": "display_data"
    },
    {
     "data": {
      "image/png": "[encoded data removed]",
      "text/plain": [
       "<Figure size 504x504 with 1 Axes>"
      ]
     },
     "metadata": {},
     "output_type": "display_data"
    }
   ],
   "source": [
    "averageTotalCLTV = dfCustomerCopy[\"CLTV\"].sum()\n",
    "CLTVBasedOnCITY = (dfCustomerCopy.groupby(['CITY'])[['CLTV']].sum().reset_index().sort_values(\"CLTV\", ascending=False).set_index(\"CITY\"))/averageTotalCLTV*100\n",
    "\n",
    "figure = plt.figure(figsize=(7,7))\n",
    "ax = CLTVBasedOnCITY[:10][::-1].plot(kind=\"barh\" ,figsize=(7,7))\n",
    "for p in ax.patches:\n",
    "    x,y = p.get_x(), p.get_y()\n",
    "    h,w = p.get_height(), p.get_width()\n",
    "    ax.annotate(str(int(w))+ \"%\",(x+w,y))\n",
    "plt.show()\n"
   ]
  },
  {
   "cell_type": "markdown",
   "metadata": {},
   "source": [
    "## 3.2 Average CLTV Based on State"
   ]
  },
  {
   "cell_type": "code",
   "execution_count": 203,
   "metadata": {},
   "outputs": [
    {
     "data": {
      "text/plain": [
       "<Figure size 360x360 with 0 Axes>"
      ]
     },
     "metadata": {},
     "output_type": "display_data"
    },
    {
     "data": {
      "image/png": "[encoded data removed]",
      "text/plain": [
       "<Figure size 504x504 with 1 Axes>"
      ]
     },
     "metadata": {},
     "output_type": "display_data"
    }
   ],
   "source": [
    "averageTotalCLTV = dfCustomerCopy[\"CLTV\"].sum()\n",
    "CLTVBasedOnDistrict = (dfCustomerCopy.groupby(['District'])[['CLTV']].sum().reset_index().sort_values(\"CLTV\", ascending=False).set_index(\"District\"))/averageTotalCLTV*100\n",
    "figure = plt.figure(figsize=(5,5))\n",
    "ax = CLTVBasedOnDistrict[:10][::-1].plot(kind=\"barh\",figsize=(7,7))\n",
    "for p in ax.patches:\n",
    "    x,y = p.get_x(), p.get_y()\n",
    "    h,w = p.get_height(), p.get_width()\n",
    "    ax.annotate(str(int(w))+ \"%\",(x+w,y))\n",
    "plt.show()"
   ]
  },
  {
   "cell_type": "markdown",
   "metadata": {},
   "source": [
    "## 3.3 Average CLTV based on Cust Type"
   ]
  },
  {
   "cell_type": "code",
   "execution_count": 204,
   "metadata": {},
   "outputs": [
    {
     "data": {
      "text/plain": [
       "<Figure size 360x360 with 0 Axes>"
      ]
     },
     "metadata": {},
     "output_type": "display_data"
    },
    {
     "data": {
      "image/png": "[encoded data removed]",
      "text/plain": [
       "<Figure size 504x504 with 1 Axes>"
      ]
     },
     "metadata": {},
     "output_type": "display_data"
    }
   ],
   "source": [
    "##\"Cust Type\",\"Order Type\",\"Plant Name1\"\n",
    "\n",
    "CLTVBasedOnCustType = (dfCustomerCopy.groupby(['Cust Type'])[['CLTV']].sum().reset_index().sort_values(\"CLTV\", ascending=False).set_index(\"Cust Type\"))/averageTotalCLTV*100\n",
    "figure = plt.figure(figsize=(5,5))\n",
    "ax = CLTVBasedOnCustType[:10][::-1].plot(kind=\"barh\",figsize=(7,7))\n",
    "for p in ax.patches:\n",
    "    x,y = p.get_x(), p.get_y()\n",
    "    h,w = p.get_height(), p.get_width()\n",
    "    ax.annotate(str(int(w))+ \"%\",(x+w,y))\n",
    "plt.show()"
   ]
  },
  {
   "cell_type": "markdown",
   "metadata": {},
   "source": [
    "## 3.4 Average CLTV based on Plant Name"
   ]
  },
  {
   "cell_type": "code",
   "execution_count": null,
   "metadata": {},
   "outputs": [],
   "source": [
    "dfCustomerCopy[dfCustomerCopy[\"Plant Name1\"].isnull()==True]"
   ]
  },
  {
   "cell_type": "code",
   "execution_count": 191,
   "metadata": {},
   "outputs": [
    {
     "data": {
      "text/plain": [
       "NASHIK                            16511\n",
       "MADEENAGUDA                        9223\n",
       "GUINDY                             8496\n",
       "NAGPUR                             8141\n",
       "NERKUNDRAM                         7950\n",
       "                                  ...  \n",
       "X432 - HARSH AUTOMOBILES             11\n",
       "X339 - OSL AUTOCAR PRIVATE LIM        7\n",
       "X359 - STAR AUTOMOBILES               5\n",
       "X206 - SHRI SAI SHAKTI SERVICE        2\n",
       "X211 -  M/S KAMAL MOTORS              1\n",
       "Name: Plant Name1, Length: 244, dtype: int64"
      ]
     },
     "execution_count": 191,
     "metadata": {},
     "output_type": "execute_result"
    }
   ],
   "source": [
    "dfCustomerCopy[\"Plant Name1\"].value_counts()"
   ]
  },
  {
   "cell_type": "code",
   "execution_count": 205,
   "metadata": {},
   "outputs": [
    {
     "data": {
      "text/plain": [
       "<Figure size 360x360 with 0 Axes>"
      ]
     },
     "metadata": {},
     "output_type": "display_data"
    },
    {
     "data": {
      "image/png": "[encoded data removed]",
      "text/plain": [
       "<Figure size 504x504 with 1 Axes>"
      ]
     },
     "metadata": {},
     "output_type": "display_data"
    }
   ],
   "source": [
    "##\"Cust Type\",\"Order Type\",\"Plant Name1\"\n",
    "\n",
    "CLTVBasedOnPlantName = (dfCustomerCopy.groupby([\"Plant Name1\"])[['CLTV']].sum().reset_index().sort_values(\"CLTV\", ascending=False).set_index(\"Plant Name1\"))/averageTotalCLTV*100\n",
    "figure = plt.figure(figsize=(5,5))\n",
    "ax = CLTVBasedOnPlantName[:10][::-1].plot(kind=\"barh\",figsize=(7,7))\n",
    "for p in ax.patches:\n",
    "    x,y = p.get_x(), p.get_y()\n",
    "    h,w = p.get_height(), p.get_width()\n",
    "    ax.annotate(str(int(w))+ \"%\",(x+w,y))\n",
    "plt.show()"
   ]
  },
  {
   "cell_type": "markdown",
   "metadata": {},
   "source": [
    "## 3.5 Average CLTV based on Order Type"
   ]
  },
  {
   "cell_type": "code",
   "execution_count": null,
   "metadata": {},
   "outputs": [],
   "source": [
    "dfCustomerCopy[\"Order Type\"].value_counts()"
   ]
  },
  {
   "cell_type": "code",
   "execution_count": 206,
   "metadata": {},
   "outputs": [
    {
     "data": {
      "text/plain": [
       "<Figure size 360x360 with 0 Axes>"
      ]
     },
     "metadata": {},
     "output_type": "display_data"
    },
    {
     "data": {
      "image/png": "[encoded data removed]",
      "text/plain": [
       "<Figure size 504x504 with 1 Axes>"
      ]
     },
     "metadata": {},
     "output_type": "display_data"
    }
   ],
   "source": [
    "##\"Cust Type\",\"Order Type\",\"Plant Name1\"\n",
    "\n",
    "CLTVBasedOnOrderType = (dfCustomerCopy.groupby([\"Order Type\"])[['CLTV']].sum().reset_index().sort_values(\"CLTV\", ascending=False).set_index(\"Order Type\"))/averageTotalCLTV*100\n",
    "figure = plt.figure(figsize=(5,5))\n",
    "ax = CLTVBasedOnOrderType[:10][::-1].plot(kind=\"barh\",figsize=(7,7))\n",
    "for p in ax.patches:\n",
    "    x,y = p.get_x(), p.get_y()\n",
    "    h,w = p.get_height(), p.get_width()\n",
    "    ax.annotate(str(int(w))+ \"%\",(x+w,y))\n",
    "plt.show()"
   ]
  },
  {
   "cell_type": "code",
   "execution_count": null,
   "metadata": {},
   "outputs": [],
   "source": []
  },
  {
   "cell_type": "code",
   "execution_count": 124,
   "metadata": {},
   "outputs": [
    {
     "data": {
      "text/html": [
       "<div>\n",
       "<style scoped>\n",
       "    .dataframe tbody tr th:only-of-type {\n",
       "        vertical-align: middle;\n",
       "    }\n",
       "\n",
       "    .dataframe tbody tr th {\n",
       "        vertical-align: top;\n",
       "    }\n",
       "\n",
       "    .dataframe thead th {\n",
       "        text-align: right;\n",
       "    }\n",
       "</style>\n",
       "<table border=\"1\" class=\"dataframe\">\n",
       "  <thead>\n",
       "    <tr style=\"text-align: right;\">\n",
       "      <th></th>\n",
       "      <th>CITY</th>\n",
       "      <th>CLTV</th>\n",
       "    </tr>\n",
       "  </thead>\n",
       "  <tbody>\n",
       "    <tr>\n",
       "      <th>0</th>\n",
       "      <td># 255 railway colony kalka</td>\n",
       "      <td>0.00000</td>\n",
       "    </tr>\n",
       "    <tr>\n",
       "      <th>1</th>\n",
       "      <td>#name?</td>\n",
       "      <td>0.00000</td>\n",
       "    </tr>\n",
       "    <tr>\n",
       "      <th>2</th>\n",
       "      <td>'+</td>\n",
       "      <td>82810.79004</td>\n",
       "    </tr>\n",
       "    <tr>\n",
       "      <th>3</th>\n",
       "      <td>'-</td>\n",
       "      <td>0.00000</td>\n",
       "    </tr>\n",
       "    <tr>\n",
       "      <th>4</th>\n",
       "      <td>'--</td>\n",
       "      <td>0.00000</td>\n",
       "    </tr>\n",
       "  </tbody>\n",
       "</table>\n",
       "</div>"
      ],
      "text/plain": [
       "                         CITY         CLTV\n",
       "0  # 255 railway colony kalka      0.00000\n",
       "1                      #name?      0.00000\n",
       "2                          '+  82810.79004\n",
       "3                          '-      0.00000\n",
       "4                         '--      0.00000"
      ]
     },
     "execution_count": 124,
     "metadata": {},
     "output_type": "execute_result"
    }
   ],
   "source": [
    "dfCustomerTemp.head()"
   ]
  },
  {
   "cell_type": "code",
   "execution_count": 103,
   "metadata": {},
   "outputs": [
    {
     "data": {
      "text/html": [
       "<div>\n",
       "<style scoped>\n",
       "    .dataframe tbody tr th:only-of-type {\n",
       "        vertical-align: middle;\n",
       "    }\n",
       "\n",
       "    .dataframe tbody tr th {\n",
       "        vertical-align: top;\n",
       "    }\n",
       "\n",
       "    .dataframe thead th {\n",
       "        text-align: right;\n",
       "    }\n",
       "</style>\n",
       "<table border=\"1\" class=\"dataframe\">\n",
       "  <thead>\n",
       "    <tr style=\"text-align: right;\">\n",
       "      <th></th>\n",
       "      <th>Customer No.</th>\n",
       "      <th>Make-Model</th>\n",
       "      <th>CITY</th>\n",
       "    </tr>\n",
       "  </thead>\n",
       "  <tbody>\n",
       "    <tr>\n",
       "      <th>417</th>\n",
       "      <td>100376</td>\n",
       "      <td>MARUTI SUZUKIZEN ESTILO</td>\n",
       "      <td>2</td>\n",
       "    </tr>\n",
       "    <tr>\n",
       "      <th>3193</th>\n",
       "      <td>102914</td>\n",
       "      <td>HYUNDAISANTRO</td>\n",
       "      <td>2</td>\n",
       "    </tr>\n",
       "    <tr>\n",
       "      <th>3534</th>\n",
       "      <td>103230</td>\n",
       "      <td>TATA MOTORSSUMO</td>\n",
       "      <td>2</td>\n",
       "    </tr>\n",
       "    <tr>\n",
       "      <th>3765</th>\n",
       "      <td>103441</td>\n",
       "      <td>HYUNDAII10</td>\n",
       "      <td>2</td>\n",
       "    </tr>\n",
       "    <tr>\n",
       "      <th>4539</th>\n",
       "      <td>104162</td>\n",
       "      <td>RENAULTDUSTER</td>\n",
       "      <td>2</td>\n",
       "    </tr>\n",
       "    <tr>\n",
       "      <th>...</th>\n",
       "      <td>...</td>\n",
       "      <td>...</td>\n",
       "      <td>...</td>\n",
       "    </tr>\n",
       "    <tr>\n",
       "      <th>251263</th>\n",
       "      <td>97412</td>\n",
       "      <td>MARUTI SUZUKISX4</td>\n",
       "      <td>2</td>\n",
       "    </tr>\n",
       "    <tr>\n",
       "      <th>258255</th>\n",
       "      <td>MFCCM03</td>\n",
       "      <td>MAHINDRA &amp;  MAHINDRABOLERO</td>\n",
       "      <td>2</td>\n",
       "    </tr>\n",
       "    <tr>\n",
       "      <th>258256</th>\n",
       "      <td>MFCCM03</td>\n",
       "      <td>MAHINDRA &amp;  MAHINDRABOLERO PIK UP</td>\n",
       "      <td>2</td>\n",
       "    </tr>\n",
       "    <tr>\n",
       "      <th>258257</th>\n",
       "      <td>MFCCM03</td>\n",
       "      <td>MAHINDRA &amp;  MAHINDRASCORPIO CRDE</td>\n",
       "      <td>2</td>\n",
       "    </tr>\n",
       "    <tr>\n",
       "      <th>258259</th>\n",
       "      <td>MFCCM03</td>\n",
       "      <td>MAHINDRA &amp;  MAHINDRAVERITO</td>\n",
       "      <td>2</td>\n",
       "    </tr>\n",
       "  </tbody>\n",
       "</table>\n",
       "<p>115 rows × 3 columns</p>\n",
       "</div>"
      ],
      "text/plain": [
       "       Customer No.                         Make-Model  CITY\n",
       "417          100376            MARUTI SUZUKIZEN ESTILO     2\n",
       "3193         102914                      HYUNDAISANTRO     2\n",
       "3534         103230                    TATA MOTORSSUMO     2\n",
       "3765         103441                         HYUNDAII10     2\n",
       "4539         104162                      RENAULTDUSTER     2\n",
       "...             ...                                ...   ...\n",
       "251263        97412                   MARUTI SUZUKISX4     2\n",
       "258255      MFCCM03         MAHINDRA &  MAHINDRABOLERO     2\n",
       "258256      MFCCM03  MAHINDRA &  MAHINDRABOLERO PIK UP     2\n",
       "258257      MFCCM03   MAHINDRA &  MAHINDRASCORPIO CRDE     2\n",
       "258259      MFCCM03         MAHINDRA &  MAHINDRAVERITO     2\n",
       "\n",
       "[115 rows x 3 columns]"
      ]
     },
     "execution_count": 103,
     "metadata": {},
     "output_type": "execute_result"
    }
   ],
   "source": [
    "dfCustomerTemp[dfCustomerTemp[\"CITY\"]>1]"
   ]
  },
  {
   "cell_type": "code",
   "execution_count": 105,
   "metadata": {},
   "outputs": [
    {
     "data": {
      "text/html": [
       "<div>\n",
       "<style scoped>\n",
       "    .dataframe tbody tr th:only-of-type {\n",
       "        vertical-align: middle;\n",
       "    }\n",
       "\n",
       "    .dataframe tbody tr th {\n",
       "        vertical-align: top;\n",
       "    }\n",
       "\n",
       "    .dataframe thead th {\n",
       "        text-align: right;\n",
       "    }\n",
       "</style>\n",
       "<table border=\"1\" class=\"dataframe\">\n",
       "  <thead>\n",
       "    <tr style=\"text-align: right;\">\n",
       "      <th></th>\n",
       "      <th>Customer No.</th>\n",
       "      <th>Make-Model</th>\n",
       "      <th>Average Value</th>\n",
       "      <th>Total Transactions</th>\n",
       "      <th>Min Invoice Date</th>\n",
       "      <th>Total Years From First Transaction</th>\n",
       "      <th>Max Invoice Date</th>\n",
       "      <th>Purchase Frequency</th>\n",
       "      <th>KMs Reading</th>\n",
       "      <th>Life Span</th>\n",
       "      <th>CLTV</th>\n",
       "      <th>CITY</th>\n",
       "    </tr>\n",
       "  </thead>\n",
       "  <tbody>\n",
       "    <tr>\n",
       "      <th>109891</th>\n",
       "      <td>102914</td>\n",
       "      <td>HYUNDAISANTRO</td>\n",
       "      <td>2220.51</td>\n",
       "      <td>5</td>\n",
       "      <td>06/05/2015</td>\n",
       "      <td>0.5</td>\n",
       "      <td>23/05/2015</td>\n",
       "      <td>10.0</td>\n",
       "      <td>69454</td>\n",
       "      <td>10.878833</td>\n",
       "      <td>241565.58205</td>\n",
       "      <td>coimbatore</td>\n",
       "    </tr>\n",
       "    <tr>\n",
       "      <th>109894</th>\n",
       "      <td>102914</td>\n",
       "      <td>HYUNDAISANTRO</td>\n",
       "      <td>2220.51</td>\n",
       "      <td>5</td>\n",
       "      <td>06/05/2015</td>\n",
       "      <td>0.5</td>\n",
       "      <td>23/05/2015</td>\n",
       "      <td>10.0</td>\n",
       "      <td>69454</td>\n",
       "      <td>10.878833</td>\n",
       "      <td>241565.58205</td>\n",
       "      <td>chennai</td>\n",
       "    </tr>\n",
       "  </tbody>\n",
       "</table>\n",
       "</div>"
      ],
      "text/plain": [
       "       Customer No.     Make-Model  Average Value  Total Transactions  \\\n",
       "109891       102914  HYUNDAISANTRO        2220.51                   5   \n",
       "109894       102914  HYUNDAISANTRO        2220.51                   5   \n",
       "\n",
       "       Min Invoice Date  Total Years From First Transaction Max Invoice Date  \\\n",
       "109891       06/05/2015                                 0.5       23/05/2015   \n",
       "109894       06/05/2015                                 0.5       23/05/2015   \n",
       "\n",
       "        Purchase Frequency  KMs Reading  Life Span          CLTV        CITY  \n",
       "109891                10.0        69454  10.878833  241565.58205  coimbatore  \n",
       "109894                10.0        69454  10.878833  241565.58205     chennai  "
      ]
     },
     "execution_count": 105,
     "metadata": {},
     "output_type": "execute_result"
    }
   ],
   "source": [
    "dfCustomerCopy[dfCustomerCopy[\"Customer No.\"]==\"102914\"]"
   ]
  },
  {
   "cell_type": "code",
   "execution_count": null,
   "metadata": {},
   "outputs": [],
   "source": [
    "## Deleting the records which have 2 CITIES and keeping only 1."
   ]
  },
  {
   "cell_type": "code",
   "execution_count": null,
   "metadata": {},
   "outputs": [],
   "source": []
  },
  {
   "cell_type": "code",
   "execution_count": null,
   "metadata": {},
   "outputs": [],
   "source": [
    "\n",
    "\n",
    "X_train,X_test,y_train,y_test=train_test_split(x,y,train_size=0.6,random_state=5)\n",
    "rfc=RandomForestClassifier()\n",
    "rfc.fit(X_train, y_train)    # model fitting\n",
    "y_pred = rfc.predict(X_test)   # Predictions\n",
    "from sklearn import metrics"
   ]
  }
 ],
 "metadata": {
  "kernelspec": {
   "display_name": "Python 3",
   "language": "python",
   "name": "python3"
  },
  "language_info": {
   "codemirror_mode": {
    "name": "ipython",
    "version": 3
   },
   "file_extension": ".py",
   "mimetype": "text/x-python",
   "name": "python",
   "nbconvert_exporter": "python",
   "pygments_lexer": "ipython3",
   "version": "3.7.4"
  }
 },
 "nbformat": 4,
 "nbformat_minor": 4
}
