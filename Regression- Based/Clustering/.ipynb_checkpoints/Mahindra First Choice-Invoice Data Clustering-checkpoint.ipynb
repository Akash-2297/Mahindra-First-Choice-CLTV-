{
 "cells": [
  {
   "cell_type": "code",
   "execution_count": 4,
   "metadata": {},
   "outputs": [
    {
     "data": {
      "application/javascript": [
       "IPython.OutputArea.auto_scroll_threshold = 9999;\n"
      ],
      "text/plain": [
       "<IPython.core.display.Javascript object>"
      ]
     },
     "metadata": {},
     "output_type": "display_data"
    }
   ],
   "source": [
    "%%javascript\n",
    "IPython.OutputArea.auto_scroll_threshold = 9999;"
   ]
  },
  {
   "cell_type": "code",
   "execution_count": 5,
   "metadata": {},
   "outputs": [],
   "source": [
    "# Import packages\n",
    "import sys\n",
    "import os\n",
    "import numpy as np\n",
    "import pandas as pd\n",
    "from scipy.stats import mode \n",
    "import matplotlib.pyplot as plt\n",
    "import seaborn as sns\n",
    " # code starts here\n",
    "from scipy import stats\n",
    "from scipy.stats import kurtosis \n",
    "from sklearn.linear_model import LinearRegression\n",
    "import datetime as dt\n",
    "import re\n",
    "from sklearn.linear_model import LinearRegression\n",
    "from sklearn.ensemble import RandomForestRegressor\n",
    "from sklearn.ensemble import GradientBoostingRegressor\n",
    "from sklearn.tree  import ExtraTreeRegressor\n",
    "from sklearn.tree  import DecisionTreeRegressor\n",
    "from sklearn.linear_model import LogisticRegression\n",
    "from sklearn.ensemble import RandomForestClassifier\n",
    "from sklearn.ensemble import GradientBoostingClassifier\n",
    "from sklearn.tree  import ExtraTreeClassifier\n",
    "from sklearn.tree  import DecisionTreeClassifier\n",
    "from sklearn.model_selection import train_test_split\n",
    "from sklearn.metrics import classification_report\n",
    "from sklearn.metrics import accuracy_score\n",
    "from sklearn.metrics import precision_score\n",
    "from sklearn.metrics import roc_auc_score\n",
    "from sklearn.metrics import recall_score\n",
    "from itertools import product\n",
    "from datetime import datetime\n",
    "from sklearn import tree\n",
    "import statsmodels.api as sm \n",
    "\n",
    "import pandas as pd\n",
    "from sklearn.tree import DecisionTreeClassifier\n",
    "from sklearn import tree\n",
    "from IPython.display import Image\n",
    "import pydotplus\n",
    "np.set_printoptions(250) \n",
    "# import sklearn.external.joblib as extjoblib\n",
    "# import joblib\n",
    "import seaborn as sns"
   ]
  },
  {
   "cell_type": "markdown",
   "metadata": {},
   "source": [
    "## 1. Read Data in a dataframe"
   ]
  },
  {
   "cell_type": "code",
   "execution_count": 31,
   "metadata": {},
   "outputs": [],
   "source": [
    "import statsmodels.api as sm\n",
    "\n",
    "# Read and Peak at Data\n",
    "base_datapath = r\"D://Projects//Python//Jupyter//Anands Notebook//Captstone//Data//Mahindra First Choice Dataset//\"\n",
    "cleansed_datapath = r\"D://Projects//Python//Jupyter//Anands Notebook//Captstone//Data//Cleansed DataSet//\"\n",
    "customer_cleansed_datapath = cleansed_datapath + \"Customer_Data.xlsx\"\n",
    "invoice_datapath = base_datapath + \"Final_invoice.csv\"\n",
    "jtd_datapath = cleansed_datapath + \"JTD.csv\"\n",
    "plantmaster_datapath = cleansed_datapath + \"Plant Master.xlsx\"\n",
    "\n",
    "\n",
    "cleansed_invoice_datapath = cleansed_datapath + \"Final_invoice.csv\"\n",
    "cleansed_invoice_revised_datapath = cleansed_datapath + \"Final_invoice_revised.csv\"\n",
    "dir_of_interest = 'D://Projects//Python//GeneralFunctions'\n",
    "sys.path.append(dir_of_interest)   \n",
    "from EDA import *\n",
    "#import EDA"
   ]
  },
  {
   "cell_type": "code",
   "execution_count": 7,
   "metadata": {},
   "outputs": [
    {
     "name": "stderr",
     "output_type": "stream",
     "text": [
      "D:\\Visual Studio\\Anaconda3_64\\lib\\site-packages\\IPython\\core\\interactiveshell.py:3063: DtypeWarning: Columns (9,10,14,15,21,41,51) have mixed types.Specify dtype option on import or set low_memory=False.\n",
      "  interactivity=interactivity, compiler=compiler, result=result)\n"
     ]
    }
   ],
   "source": [
    "dfInvoice = pd.read_csv(cleansed_invoice_datapath)\n",
    "\n",
    "#dfInvoice = pd.read_excel(invoice_datapath,sheet_name=\"Sheet1\")"
   ]
  },
  {
   "cell_type": "code",
   "execution_count": 8,
   "metadata": {},
   "outputs": [
    {
     "data": {
      "text/html": [
       "<div>\n",
       "<style scoped>\n",
       "    .dataframe tbody tr th:only-of-type {\n",
       "        vertical-align: middle;\n",
       "    }\n",
       "\n",
       "    .dataframe tbody tr th {\n",
       "        vertical-align: top;\n",
       "    }\n",
       "\n",
       "    .dataframe thead th {\n",
       "        text-align: right;\n",
       "    }\n",
       "</style>\n",
       "<table border=\"1\" class=\"dataframe\">\n",
       "  <thead>\n",
       "    <tr style=\"text-align: right;\">\n",
       "      <th></th>\n",
       "      <th>Unnamed: 0</th>\n",
       "      <th>Amt Rcvd From Custom</th>\n",
       "      <th>Amt Rcvd From Ins Co</th>\n",
       "      <th>Area / Locality</th>\n",
       "      <th>CGST(14%)</th>\n",
       "      <th>CGST(2.5%)</th>\n",
       "      <th>CGST(6%)</th>\n",
       "      <th>CGST(9%)</th>\n",
       "      <th>CITY</th>\n",
       "      <th>Cash /Cashless Type</th>\n",
       "      <th>...</th>\n",
       "      <th>Season</th>\n",
       "      <th>Plant City</th>\n",
       "      <th>Plant State</th>\n",
       "      <th>Same City</th>\n",
       "      <th>Customer Partner Type Name</th>\n",
       "      <th>Customer Data Origin Description</th>\n",
       "      <th>Customer Title</th>\n",
       "      <th>Customer Marital Status</th>\n",
       "      <th>Customer Occupation</th>\n",
       "      <th>Make-Model</th>\n",
       "    </tr>\n",
       "  </thead>\n",
       "  <tbody>\n",
       "    <tr>\n",
       "      <th>0</th>\n",
       "      <td>0</td>\n",
       "      <td>0.0</td>\n",
       "      <td>0.0</td>\n",
       "      <td>MAJIWADA</td>\n",
       "      <td>0.0</td>\n",
       "      <td>0.0</td>\n",
       "      <td>0.0</td>\n",
       "      <td>0.0</td>\n",
       "      <td>thane</td>\n",
       "      <td>NaN</td>\n",
       "      <td>...</td>\n",
       "      <td>Winter</td>\n",
       "      <td>NaN</td>\n",
       "      <td>NaN</td>\n",
       "      <td>True</td>\n",
       "      <td>Retail</td>\n",
       "      <td>Reference - Used car dealer</td>\n",
       "      <td>Reference - Used car dealer</td>\n",
       "      <td>NaN</td>\n",
       "      <td>NaN</td>\n",
       "      <td>GENERAL MOTORSSPARK</td>\n",
       "    </tr>\n",
       "    <tr>\n",
       "      <th>1</th>\n",
       "      <td>1</td>\n",
       "      <td>0.0</td>\n",
       "      <td>0.0</td>\n",
       "      <td>THNAE</td>\n",
       "      <td>0.0</td>\n",
       "      <td>0.0</td>\n",
       "      <td>0.0</td>\n",
       "      <td>0.0</td>\n",
       "      <td>thnae</td>\n",
       "      <td>NaN</td>\n",
       "      <td>...</td>\n",
       "      <td>Winter</td>\n",
       "      <td>NaN</td>\n",
       "      <td>NaN</td>\n",
       "      <td>True</td>\n",
       "      <td>Retail</td>\n",
       "      <td>Camp - Outdoor</td>\n",
       "      <td>Camp - Outdoor</td>\n",
       "      <td>NaN</td>\n",
       "      <td>NaN</td>\n",
       "      <td>TATA MOTORSINDICA</td>\n",
       "    </tr>\n",
       "    <tr>\n",
       "      <th>2</th>\n",
       "      <td>2</td>\n",
       "      <td>0.0</td>\n",
       "      <td>0.0</td>\n",
       "      <td>THANE</td>\n",
       "      <td>0.0</td>\n",
       "      <td>0.0</td>\n",
       "      <td>0.0</td>\n",
       "      <td>0.0</td>\n",
       "      <td>thane[w]</td>\n",
       "      <td>NaN</td>\n",
       "      <td>...</td>\n",
       "      <td>Winter</td>\n",
       "      <td>NaN</td>\n",
       "      <td>NaN</td>\n",
       "      <td>True</td>\n",
       "      <td>Retail</td>\n",
       "      <td>Reference - Customer</td>\n",
       "      <td>Reference - Customer</td>\n",
       "      <td>NaN</td>\n",
       "      <td>NaN</td>\n",
       "      <td>MARUTI SUZUKIZEN</td>\n",
       "    </tr>\n",
       "    <tr>\n",
       "      <th>3</th>\n",
       "      <td>3</td>\n",
       "      <td>0.0</td>\n",
       "      <td>0.0</td>\n",
       "      <td>THNAE</td>\n",
       "      <td>0.0</td>\n",
       "      <td>0.0</td>\n",
       "      <td>0.0</td>\n",
       "      <td>0.0</td>\n",
       "      <td>thnae</td>\n",
       "      <td>NaN</td>\n",
       "      <td>...</td>\n",
       "      <td>Winter</td>\n",
       "      <td>NaN</td>\n",
       "      <td>NaN</td>\n",
       "      <td>True</td>\n",
       "      <td>Retail</td>\n",
       "      <td>Camp - Outdoor</td>\n",
       "      <td>Camp - Outdoor</td>\n",
       "      <td>NaN</td>\n",
       "      <td>NaN</td>\n",
       "      <td>TATA MOTORSINDICA</td>\n",
       "    </tr>\n",
       "    <tr>\n",
       "      <th>4</th>\n",
       "      <td>4</td>\n",
       "      <td>0.0</td>\n",
       "      <td>0.0</td>\n",
       "      <td>THANE</td>\n",
       "      <td>0.0</td>\n",
       "      <td>0.0</td>\n",
       "      <td>0.0</td>\n",
       "      <td>0.0</td>\n",
       "      <td>thane</td>\n",
       "      <td>NaN</td>\n",
       "      <td>...</td>\n",
       "      <td>Winter</td>\n",
       "      <td>NaN</td>\n",
       "      <td>NaN</td>\n",
       "      <td>True</td>\n",
       "      <td>Retail</td>\n",
       "      <td>Reference - Customer</td>\n",
       "      <td>Reference - Customer</td>\n",
       "      <td>NaN</td>\n",
       "      <td>NaN</td>\n",
       "      <td>HYUNDAISANTRO XING</td>\n",
       "    </tr>\n",
       "  </tbody>\n",
       "</table>\n",
       "<p>5 rows × 69 columns</p>\n",
       "</div>"
      ],
      "text/plain": [
       "   Unnamed: 0  Amt Rcvd From Custom  Amt Rcvd From Ins Co Area / Locality  \\\n",
       "0           0                   0.0                   0.0        MAJIWADA   \n",
       "1           1                   0.0                   0.0           THNAE   \n",
       "2           2                   0.0                   0.0           THANE   \n",
       "3           3                   0.0                   0.0           THNAE   \n",
       "4           4                   0.0                   0.0           THANE   \n",
       "\n",
       "   CGST(14%)  CGST(2.5%)  CGST(6%)  CGST(9%)      CITY Cash /Cashless Type  \\\n",
       "0        0.0         0.0       0.0       0.0     thane                 NaN   \n",
       "1        0.0         0.0       0.0       0.0     thnae                 NaN   \n",
       "2        0.0         0.0       0.0       0.0  thane[w]                 NaN   \n",
       "3        0.0         0.0       0.0       0.0     thnae                 NaN   \n",
       "4        0.0         0.0       0.0       0.0     thane                 NaN   \n",
       "\n",
       "   ...  Season Plant City Plant State Same City Customer Partner Type Name  \\\n",
       "0  ...  Winter        NaN         NaN      True                     Retail   \n",
       "1  ...  Winter        NaN         NaN      True                     Retail   \n",
       "2  ...  Winter        NaN         NaN      True                     Retail   \n",
       "3  ...  Winter        NaN         NaN      True                     Retail   \n",
       "4  ...  Winter        NaN         NaN      True                     Retail   \n",
       "\n",
       "  Customer Data Origin Description               Customer Title  \\\n",
       "0      Reference - Used car dealer  Reference - Used car dealer   \n",
       "1                   Camp - Outdoor               Camp - Outdoor   \n",
       "2             Reference - Customer         Reference - Customer   \n",
       "3                   Camp - Outdoor               Camp - Outdoor   \n",
       "4             Reference - Customer         Reference - Customer   \n",
       "\n",
       "   Customer Marital Status  Customer Occupation           Make-Model  \n",
       "0                      NaN                  NaN  GENERAL MOTORSSPARK  \n",
       "1                      NaN                  NaN    TATA MOTORSINDICA  \n",
       "2                      NaN                  NaN     MARUTI SUZUKIZEN  \n",
       "3                      NaN                  NaN    TATA MOTORSINDICA  \n",
       "4                      NaN                  NaN   HYUNDAISANTRO XING  \n",
       "\n",
       "[5 rows x 69 columns]"
      ]
     },
     "execution_count": 8,
     "metadata": {},
     "output_type": "execute_result"
    }
   ],
   "source": [
    "dfInvoice.head()"
   ]
  },
  {
   "cell_type": "code",
   "execution_count": 9,
   "metadata": {},
   "outputs": [
    {
     "data": {
      "text/plain": [
       "(492314, 69)"
      ]
     },
     "execution_count": 9,
     "metadata": {},
     "output_type": "execute_result"
    }
   ],
   "source": [
    "dfInvoice.shape"
   ]
  },
  {
   "cell_type": "code",
   "execution_count": 10,
   "metadata": {},
   "outputs": [],
   "source": [
    "#dfInvoiceNewCustomerCluster = dfInvoice[[\"CITY\",\"Cust Type\",\"District\",\"KMs Reading\",\"Make\",\"Model\",\"Order Type\",\"Pin code\",\"Plant Name1\",\"Total Value\",\"Season\",\"Customer Partner Type Name\",\"Customer Data Origin Description\"]]"
   ]
  },
  {
   "cell_type": "code",
   "execution_count": 11,
   "metadata": {},
   "outputs": [],
   "source": [
    "from sklearn.decomposition import PCA\n",
    "from sklearn.preprocessing import StandardScaler\n",
    "from sklearn.cluster import KMeans\n",
    "\n",
    "dir_of_interest = 'D://Projects//Python//GeneralFunctions'\n",
    "sys.path.append(dir_of_interest)   \n",
    "from EDA import *\n",
    "\n",
    "def createDateFrameForClustering(df,listCols,toConvertCols):\n",
    "    dfCluster = df[listCols]\n",
    "    dfCluster.dropna()\n",
    "    dfCluster = applyCustomEncodingToDataFrame(dfCluster,toConvertCols,'',20)\n",
    "    print(dfCluster.head())\n",
    "    print('Before One hot encoding shape is  ' +  format(dfCluster.shape))\n",
    "    dfCluster = pd.get_dummies(dfCluster,columns=toConvertCols,drop_first=True)\n",
    "    print('After One hot encoding shape is  ' +  format(dfCluster.shape))\n",
    "    return dfCluster\n",
    "\n",
    "def getNumberOfClusters(dfNew):\n",
    "    sse = {}\n",
    "    for k in range(1, 10):\n",
    "        kmeans = KMeans(n_clusters=k, max_iter=100).fit(dfNew)\n",
    "        #dfNew[\"clusters\"] = kmeans.labels_\n",
    "        #print(data[\"clusters\"])\n",
    "        sse[k] = kmeans.inertia_ # Inertia: Sum of distances of samples to their closest cluster center\n",
    "    plt.figure()\n",
    "    plt.plot(list(sse.keys()), list(sse.values()))\n",
    "    plt.xlabel(\"Number of cluster\")\n",
    "    plt.ylabel(\"SSE\")\n",
    "    plt.show()    \n",
    "\n",
    "def createPCAComponents(dfNew,noOfComponents):\n",
    "    pca = PCA(n_components=noOfComponents)\n",
    "    X_std = StandardScaler().fit_transform(dfNew)\n",
    "    principalComponents = pca.fit_transform(X_std)\n",
    "    # Plot the explained variances\n",
    "    features = range(pca.n_components_)\n",
    "    plt.bar(features, pca.explained_variance_ratio_)\n",
    "    plt.xlabel('PCA features')\n",
    "    plt.ylabel('variance %')\n",
    "    plt.xticks(features)\n",
    "    plt.show()\n",
    "    # Save components to a DataFrame\n",
    "    PCA_components = pd.DataFrame(principalComponents)  \n",
    "    return PCA_components\n",
    "\n",
    "def drawScatterPlotOfTopTwoPCA(PCA_components,df):\n",
    "    plt.scatter(PCA_components[0], PCA_components[1], alpha=.1,c=df.Cluster)\n",
    "    plt.xlabel('PCA 1')\n",
    "    plt.ylabel('PCA 2')\n",
    "    plt.show()\n",
    "    \n",
    "    \n",
    "def createClustersUsingStandardScaler(dfNew,numberOfClusters):\n",
    "    X_std = StandardScaler().fit_transform(dfNew)\n",
    "    kmeans = KMeans(n_clusters=numberOfClusters, init='k-means++')\n",
    "    # fitting the k means algorithm on scaled data\n",
    "    kmeans.fit(X_std)\n",
    "    pred = kmeans.predict(X_std)\n",
    "    dfNew['Cluster']=pred\n",
    "    print(\"The clusters are ----------------------\")\n",
    "    print(dfNew[\"Cluster\"].value_counts())\n",
    "    PCA_components = createPCAComponents(dfNew,2) \n",
    "    drawScatterPlotOfTopTwoPCA(PCA_components,dfNew)   \n",
    "    return dfNew\n"
   ]
  },
  {
   "cell_type": "code",
   "execution_count": 12,
   "metadata": {},
   "outputs": [
    {
     "data": {
      "text/plain": [
       "chennai                 33922\n",
       "pune                    25863\n",
       "hyderabad               20392\n",
       "nashik                  16827\n",
       "nagpur                  15078\n",
       "                        ...  \n",
       "piplod surat                1\n",
       "dharawad. 9448387244        1\n",
       "602107                      1\n",
       "behind royal tower          1\n",
       "sec-49                      1\n",
       "Name: CITY, Length: 17295, dtype: int64"
      ]
     },
     "execution_count": 12,
     "metadata": {},
     "output_type": "execute_result"
    }
   ],
   "source": [
    "dfInvoice[\"CITY\"].value_counts()"
   ]
  },
  {
   "cell_type": "markdown",
   "metadata": {},
   "source": [
    "## 1. Apply KMeans based on City and Order Type"
   ]
  },
  {
   "cell_type": "code",
   "execution_count": 13,
   "metadata": {},
   "outputs": [
    {
     "name": "stderr",
     "output_type": "stream",
     "text": [
      "D://Projects//Python//GeneralFunctions\\EDA.py:912: SettingWithCopyWarning: \n",
      "A value is trying to be set on a copy of a slice from a DataFrame.\n",
      "Try using .loc[row_indexer,col_indexer] = value instead\n",
      "\n",
      "See the caveats in the documentation: https://pandas.pydata.org/pandas-docs/stable/user_guide/indexing.html#returning-a-view-versus-a-copy\n",
      "  df[c+suffix]= df[c].map(TransformDataBasedOnEncoding)\n"
     ]
    },
    {
     "name": "stdout",
     "output_type": "stream",
     "text": [
      "     CITY         Order Type\n",
      "0   thane       Paid Service\n",
      "1  Others  SMC Value Package\n",
      "2  Others    Running Repairs\n",
      "3  Others     SMC Redemption\n",
      "4   thane       Paid Service\n",
      "Before One hot encoding shape is  (492314, 2)\n",
      "After One hot encoding shape is  (492314, 28)\n"
     ]
    },
    {
     "data": {
      "image/png": "[encoded data removed]",
      "text/plain": [
       "<Figure size 432x288 with 1 Axes>"
      ]
     },
     "metadata": {
      "needs_background": "light"
     },
     "output_type": "display_data"
    }
   ],
   "source": [
    "dfCluster = createDateFrameForClustering(dfInvoice,[\"CITY\",\"Order Type\"],[\"CITY\",\"Order Type\"]) \n",
    "getNumberOfClusters(dfCluster)"
   ]
  },
  {
   "cell_type": "code",
   "execution_count": 14,
   "metadata": {},
   "outputs": [
    {
     "name": "stdout",
     "output_type": "stream",
     "text": [
      "The clusters are ----------------------\n",
      "0    466795\n",
      "1     15738\n",
      "2      9781\n",
      "Name: Cluster, dtype: int64\n"
     ]
    },
    {
     "data": {
      "image/png": "[encoded data removed]",
      "text/plain": [
       "<Figure size 432x288 with 1 Axes>"
      ]
     },
     "metadata": {
      "needs_background": "light"
     },
     "output_type": "display_data"
    },
    {
     "data": {
      "image/png": "[encoded data removed]",
      "text/plain": [
       "<Figure size 432x288 with 1 Axes>"
      ]
     },
     "metadata": {
      "needs_background": "light"
     },
     "output_type": "display_data"
    }
   ],
   "source": [
    "dfCluster = createClustersUsingStandardScaler(dfCluster,3)\n"
   ]
  },
  {
   "cell_type": "markdown",
   "metadata": {},
   "source": [
    "## 2. Apply KMeans based on KMs Reading and Order Type\n",
    "\n",
    "#\"CITY\",\"Cust Type\",\"District\",\"KMs Reading\",\"Make\",\"Model\",\"Order Type\",\"Pin code\",\"Plant Name1\",\"Total Value\",\"Season\",\"Customer Partner Type Name\",\"Customer Data Origin Description\""
   ]
  },
  {
   "cell_type": "code",
   "execution_count": 15,
   "metadata": {},
   "outputs": [
    {
     "data": {
      "text/html": [
       "<div>\n",
       "<style scoped>\n",
       "    .dataframe tbody tr th:only-of-type {\n",
       "        vertical-align: middle;\n",
       "    }\n",
       "\n",
       "    .dataframe tbody tr th {\n",
       "        vertical-align: top;\n",
       "    }\n",
       "\n",
       "    .dataframe thead th {\n",
       "        text-align: right;\n",
       "    }\n",
       "</style>\n",
       "<table border=\"1\" class=\"dataframe\">\n",
       "  <thead>\n",
       "    <tr style=\"text-align: right;\">\n",
       "      <th></th>\n",
       "      <th>CITY_bangalore</th>\n",
       "      <th>CITY_bengaluru</th>\n",
       "      <th>CITY_chennai</th>\n",
       "      <th>CITY_coimbatore</th>\n",
       "      <th>CITY_faridabad</th>\n",
       "      <th>CITY_hyderabad</th>\n",
       "      <th>CITY_ludhiana</th>\n",
       "      <th>CITY_mangalore</th>\n",
       "      <th>CITY_moga</th>\n",
       "      <th>CITY_mohali</th>\n",
       "      <th>...</th>\n",
       "      <th>CITY_vapi</th>\n",
       "      <th>Order Type_Mechanical</th>\n",
       "      <th>Order Type_Paid Service</th>\n",
       "      <th>Order Type_Repeat Order</th>\n",
       "      <th>Order Type_Running Repairs</th>\n",
       "      <th>Order Type_SMC Redemption</th>\n",
       "      <th>Order Type_SMC Value Package</th>\n",
       "      <th>Order Type_WBW Order</th>\n",
       "      <th>Order Type_Workshop Damage</th>\n",
       "      <th>Cluster</th>\n",
       "    </tr>\n",
       "  </thead>\n",
       "  <tbody>\n",
       "    <tr>\n",
       "      <th>0</th>\n",
       "      <td>0</td>\n",
       "      <td>0</td>\n",
       "      <td>0</td>\n",
       "      <td>0</td>\n",
       "      <td>0</td>\n",
       "      <td>0</td>\n",
       "      <td>0</td>\n",
       "      <td>0</td>\n",
       "      <td>0</td>\n",
       "      <td>0</td>\n",
       "      <td>...</td>\n",
       "      <td>0</td>\n",
       "      <td>0</td>\n",
       "      <td>1</td>\n",
       "      <td>0</td>\n",
       "      <td>0</td>\n",
       "      <td>0</td>\n",
       "      <td>0</td>\n",
       "      <td>0</td>\n",
       "      <td>0</td>\n",
       "      <td>0</td>\n",
       "    </tr>\n",
       "    <tr>\n",
       "      <th>1</th>\n",
       "      <td>0</td>\n",
       "      <td>0</td>\n",
       "      <td>0</td>\n",
       "      <td>0</td>\n",
       "      <td>0</td>\n",
       "      <td>0</td>\n",
       "      <td>0</td>\n",
       "      <td>0</td>\n",
       "      <td>0</td>\n",
       "      <td>0</td>\n",
       "      <td>...</td>\n",
       "      <td>0</td>\n",
       "      <td>0</td>\n",
       "      <td>0</td>\n",
       "      <td>0</td>\n",
       "      <td>0</td>\n",
       "      <td>0</td>\n",
       "      <td>1</td>\n",
       "      <td>0</td>\n",
       "      <td>0</td>\n",
       "      <td>2</td>\n",
       "    </tr>\n",
       "    <tr>\n",
       "      <th>2</th>\n",
       "      <td>0</td>\n",
       "      <td>0</td>\n",
       "      <td>0</td>\n",
       "      <td>0</td>\n",
       "      <td>0</td>\n",
       "      <td>0</td>\n",
       "      <td>0</td>\n",
       "      <td>0</td>\n",
       "      <td>0</td>\n",
       "      <td>0</td>\n",
       "      <td>...</td>\n",
       "      <td>0</td>\n",
       "      <td>0</td>\n",
       "      <td>0</td>\n",
       "      <td>0</td>\n",
       "      <td>1</td>\n",
       "      <td>0</td>\n",
       "      <td>0</td>\n",
       "      <td>0</td>\n",
       "      <td>0</td>\n",
       "      <td>0</td>\n",
       "    </tr>\n",
       "    <tr>\n",
       "      <th>3</th>\n",
       "      <td>0</td>\n",
       "      <td>0</td>\n",
       "      <td>0</td>\n",
       "      <td>0</td>\n",
       "      <td>0</td>\n",
       "      <td>0</td>\n",
       "      <td>0</td>\n",
       "      <td>0</td>\n",
       "      <td>0</td>\n",
       "      <td>0</td>\n",
       "      <td>...</td>\n",
       "      <td>0</td>\n",
       "      <td>0</td>\n",
       "      <td>0</td>\n",
       "      <td>0</td>\n",
       "      <td>0</td>\n",
       "      <td>1</td>\n",
       "      <td>0</td>\n",
       "      <td>0</td>\n",
       "      <td>0</td>\n",
       "      <td>1</td>\n",
       "    </tr>\n",
       "    <tr>\n",
       "      <th>4</th>\n",
       "      <td>0</td>\n",
       "      <td>0</td>\n",
       "      <td>0</td>\n",
       "      <td>0</td>\n",
       "      <td>0</td>\n",
       "      <td>0</td>\n",
       "      <td>0</td>\n",
       "      <td>0</td>\n",
       "      <td>0</td>\n",
       "      <td>0</td>\n",
       "      <td>...</td>\n",
       "      <td>0</td>\n",
       "      <td>0</td>\n",
       "      <td>1</td>\n",
       "      <td>0</td>\n",
       "      <td>0</td>\n",
       "      <td>0</td>\n",
       "      <td>0</td>\n",
       "      <td>0</td>\n",
       "      <td>0</td>\n",
       "      <td>0</td>\n",
       "    </tr>\n",
       "  </tbody>\n",
       "</table>\n",
       "<p>5 rows × 29 columns</p>\n",
       "</div>"
      ],
      "text/plain": [
       "   CITY_bangalore  CITY_bengaluru  CITY_chennai  CITY_coimbatore  \\\n",
       "0               0               0             0                0   \n",
       "1               0               0             0                0   \n",
       "2               0               0             0                0   \n",
       "3               0               0             0                0   \n",
       "4               0               0             0                0   \n",
       "\n",
       "   CITY_faridabad  CITY_hyderabad  CITY_ludhiana  CITY_mangalore  CITY_moga  \\\n",
       "0               0               0              0               0          0   \n",
       "1               0               0              0               0          0   \n",
       "2               0               0              0               0          0   \n",
       "3               0               0              0               0          0   \n",
       "4               0               0              0               0          0   \n",
       "\n",
       "   CITY_mohali  ...  CITY_vapi  Order Type_Mechanical  \\\n",
       "0            0  ...          0                      0   \n",
       "1            0  ...          0                      0   \n",
       "2            0  ...          0                      0   \n",
       "3            0  ...          0                      0   \n",
       "4            0  ...          0                      0   \n",
       "\n",
       "   Order Type_Paid Service  Order Type_Repeat Order  \\\n",
       "0                        1                        0   \n",
       "1                        0                        0   \n",
       "2                        0                        0   \n",
       "3                        0                        0   \n",
       "4                        1                        0   \n",
       "\n",
       "   Order Type_Running Repairs  Order Type_SMC Redemption  \\\n",
       "0                           0                          0   \n",
       "1                           0                          0   \n",
       "2                           1                          0   \n",
       "3                           0                          1   \n",
       "4                           0                          0   \n",
       "\n",
       "   Order Type_SMC Value Package  Order Type_WBW Order  \\\n",
       "0                             0                     0   \n",
       "1                             1                     0   \n",
       "2                             0                     0   \n",
       "3                             0                     0   \n",
       "4                             0                     0   \n",
       "\n",
       "   Order Type_Workshop Damage  Cluster  \n",
       "0                           0        0  \n",
       "1                           0        2  \n",
       "2                           0        0  \n",
       "3                           0        1  \n",
       "4                           0        0  \n",
       "\n",
       "[5 rows x 29 columns]"
      ]
     },
     "execution_count": 15,
     "metadata": {},
     "output_type": "execute_result"
    }
   ],
   "source": [
    "dfCluster.head()"
   ]
  },
  {
   "cell_type": "code",
   "execution_count": 16,
   "metadata": {},
   "outputs": [
    {
     "name": "stderr",
     "output_type": "stream",
     "text": [
      "D://Projects//Python//GeneralFunctions\\EDA.py:912: SettingWithCopyWarning: \n",
      "A value is trying to be set on a copy of a slice from a DataFrame.\n",
      "Try using .loc[row_indexer,col_indexer] = value instead\n",
      "\n",
      "See the caveats in the documentation: https://pandas.pydata.org/pandas-docs/stable/user_guide/indexing.html#returning-a-view-versus-a-copy\n",
      "  df[c+suffix]= df[c].map(TransformDataBasedOnEncoding)\n"
     ]
    },
    {
     "name": "stdout",
     "output_type": "stream",
     "text": [
      "   KMs Reading         Order Type\n",
      "0        49317       Paid Service\n",
      "1        78584  SMC Value Package\n",
      "2        33985    Running Repairs\n",
      "3        78584     SMC Redemption\n",
      "4        50057       Paid Service\n",
      "Before One hot encoding shape is  (492314, 2)\n",
      "After One hot encoding shape is  (492314, 9)\n"
     ]
    },
    {
     "data": {
      "image/png": "[encoded data removed]",
      "text/plain": [
       "<Figure size 432x288 with 1 Axes>"
      ]
     },
     "metadata": {
      "needs_background": "light"
     },
     "output_type": "display_data"
    }
   ],
   "source": [
    "dfCluster = createDateFrameForClustering(dfInvoice,[\"KMs Reading\",\"Order Type\"],[\"Order Type\"])    \n",
    "getNumberOfClusters(dfCluster)"
   ]
  },
  {
   "cell_type": "code",
   "execution_count": 17,
   "metadata": {},
   "outputs": [
    {
     "name": "stdout",
     "output_type": "stream",
     "text": [
      "The clusters are ----------------------\n",
      "0    326470\n",
      "3    135006\n",
      "1     15738\n",
      "2     15100\n",
      "Name: Cluster, dtype: int64\n"
     ]
    },
    {
     "data": {
      "image/png": "[encoded data removed]",
      "text/plain": [
       "<Figure size 432x288 with 1 Axes>"
      ]
     },
     "metadata": {
      "needs_background": "light"
     },
     "output_type": "display_data"
    },
    {
     "data": {
      "image/png": "[encoded data removed]",
      "text/plain": [
       "<Figure size 432x288 with 1 Axes>"
      ]
     },
     "metadata": {
      "needs_background": "light"
     },
     "output_type": "display_data"
    }
   ],
   "source": [
    "dfCluster = createClustersUsingStandardScaler(dfCluster,4)"
   ]
  },
  {
   "cell_type": "markdown",
   "metadata": {},
   "source": [
    "## 3. Apply KMeans based on Cust Type and Order Type\n",
    "\n",
    "#\"CITY\",\"Cust Type\",\"District\",\"KMs Reading\",\"Make\",\"Model\",\"Order Type\",\"Pin code\",\"Plant Name1\",\"Total Value\",\"Season\",\"Customer Partner Type Name\",\"Customer Data Origin Description\""
   ]
  },
  {
   "cell_type": "code",
   "execution_count": 18,
   "metadata": {},
   "outputs": [
    {
     "name": "stderr",
     "output_type": "stream",
     "text": [
      "D://Projects//Python//GeneralFunctions\\EDA.py:912: SettingWithCopyWarning: \n",
      "A value is trying to be set on a copy of a slice from a DataFrame.\n",
      "Try using .loc[row_indexer,col_indexer] = value instead\n",
      "\n",
      "See the caveats in the documentation: https://pandas.pydata.org/pandas-docs/stable/user_guide/indexing.html#returning-a-view-versus-a-copy\n",
      "  df[c+suffix]= df[c].map(TransformDataBasedOnEncoding)\n"
     ]
    },
    {
     "name": "stdout",
     "output_type": "stream",
     "text": [
      "  Cust Type         Order Type\n",
      "0    Retail       Paid Service\n",
      "1    Retail  SMC Value Package\n",
      "2    Retail    Running Repairs\n",
      "3    Retail     SMC Redemption\n",
      "4    Retail       Paid Service\n",
      "Before One hot encoding shape is  (492314, 2)\n",
      "After One hot encoding shape is  (492314, 14)\n"
     ]
    },
    {
     "data": {
      "image/png": "[encoded data removed]",
      "text/plain": [
       "<Figure size 432x288 with 1 Axes>"
      ]
     },
     "metadata": {
      "needs_background": "light"
     },
     "output_type": "display_data"
    }
   ],
   "source": [
    "dfCluster = createDateFrameForClustering(dfInvoice,[\"Cust Type\",\"Order Type\"],[\"Cust Type\",\"Order Type\"])    \n",
    "getNumberOfClusters(dfCluster)\n"
   ]
  },
  {
   "cell_type": "code",
   "execution_count": 19,
   "metadata": {},
   "outputs": [
    {
     "name": "stdout",
     "output_type": "stream",
     "text": [
      "The clusters are ----------------------\n",
      "2    355807\n",
      "0    134289\n",
      "1      2218\n",
      "Name: Cluster, dtype: int64\n"
     ]
    },
    {
     "data": {
      "image/png": "[encoded data removed]",
      "text/plain": [
       "<Figure size 432x288 with 1 Axes>"
      ]
     },
     "metadata": {
      "needs_background": "light"
     },
     "output_type": "display_data"
    },
    {
     "data": {
      "image/png": "[encoded data removed]",
      "text/plain": [
       "<Figure size 432x288 with 1 Axes>"
      ]
     },
     "metadata": {
      "needs_background": "light"
     },
     "output_type": "display_data"
    }
   ],
   "source": [
    "dfCluster = createClustersUsingStandardScaler(dfCluster,3)"
   ]
  },
  {
   "cell_type": "markdown",
   "metadata": {},
   "source": [
    "## 4. Apply KMeans based on Total Value and Order Type\n",
    "\n",
    "#\"CITY\",\"Cust Type\",\"District\",\"KMs Reading\",\"Make\",\"Model\",\"Order Type\",\"Pin code\",\"Plant Name1\",\"Total Value\",\"Season\",\"Customer Partner Type Name\",\"Customer Data Origin Description\"\n"
   ]
  },
  {
   "cell_type": "code",
   "execution_count": 20,
   "metadata": {},
   "outputs": [
    {
     "name": "stderr",
     "output_type": "stream",
     "text": [
      "D://Projects//Python//GeneralFunctions\\EDA.py:912: SettingWithCopyWarning: \n",
      "A value is trying to be set on a copy of a slice from a DataFrame.\n",
      "Try using .loc[row_indexer,col_indexer] = value instead\n",
      "\n",
      "See the caveats in the documentation: https://pandas.pydata.org/pandas-docs/stable/user_guide/indexing.html#returning-a-view-versus-a-copy\n",
      "  df[c+suffix]= df[c].map(TransformDataBasedOnEncoding)\n"
     ]
    },
    {
     "name": "stdout",
     "output_type": "stream",
     "text": [
      "   Total Value         Order Type\n",
      "0      4051.95       Paid Service\n",
      "1      1001.29  SMC Value Package\n",
      "2       233.14    Running Repairs\n",
      "3         0.00     SMC Redemption\n",
      "4      2747.12       Paid Service\n",
      "Before One hot encoding shape is  (492314, 2)\n",
      "After One hot encoding shape is  (492314, 9)\n"
     ]
    },
    {
     "data": {
      "image/png": "[encoded data removed]",
      "text/plain": [
       "<Figure size 432x288 with 1 Axes>"
      ]
     },
     "metadata": {
      "needs_background": "light"
     },
     "output_type": "display_data"
    }
   ],
   "source": [
    "dfCluster = createDateFrameForClustering(dfInvoice,[\"Total Value\",\"Order Type\"],[\"Order Type\"])    \n",
    "getNumberOfClusters(dfCluster)\n"
   ]
  },
  {
   "cell_type": "code",
   "execution_count": 21,
   "metadata": {},
   "outputs": [
    {
     "name": "stdout",
     "output_type": "stream",
     "text": [
      "The clusters are ----------------------\n",
      "1    326472\n",
      "0    135004\n",
      "2     15738\n",
      "3     15100\n",
      "Name: Cluster, dtype: int64\n"
     ]
    },
    {
     "data": {
      "image/png": "[encoded data removed]",
      "text/plain": [
       "<Figure size 432x288 with 1 Axes>"
      ]
     },
     "metadata": {
      "needs_background": "light"
     },
     "output_type": "display_data"
    },
    {
     "data": {
      "image/png": "[encoded data removed]",
      "text/plain": [
       "<Figure size 432x288 with 1 Axes>"
      ]
     },
     "metadata": {
      "needs_background": "light"
     },
     "output_type": "display_data"
    }
   ],
   "source": [
    "dfCluster = createClustersUsingStandardScaler(dfCluster,4)"
   ]
  },
  {
   "cell_type": "markdown",
   "metadata": {},
   "source": [
    "## 5. Apply KMeans based on Make-Model and Order Type\n",
    "\n",
    "#\"CITY\",\"Cust Type\",\"District\",\"KMs Reading\",\"Make\",\"Model\",\"Order Type\",\"Pin code\",\"Plant Name1\",\"Total Value\",\"Season\",\"Customer Partner Type Name\",\"Customer Data Origin Description\"\n"
   ]
  },
  {
   "cell_type": "code",
   "execution_count": 22,
   "metadata": {},
   "outputs": [
    {
     "name": "stderr",
     "output_type": "stream",
     "text": [
      "D://Projects//Python//GeneralFunctions\\EDA.py:912: SettingWithCopyWarning: \n",
      "A value is trying to be set on a copy of a slice from a DataFrame.\n",
      "Try using .loc[row_indexer,col_indexer] = value instead\n",
      "\n",
      "See the caveats in the documentation: https://pandas.pydata.org/pandas-docs/stable/user_guide/indexing.html#returning-a-view-versus-a-copy\n",
      "  df[c+suffix]= df[c].map(TransformDataBasedOnEncoding)\n"
     ]
    },
    {
     "name": "stdout",
     "output_type": "stream",
     "text": [
      "          Make-Model         Order Type\n",
      "0             Others       Paid Service\n",
      "1  TATA MOTORSINDICA  SMC Value Package\n",
      "2             Others    Running Repairs\n",
      "3  TATA MOTORSINDICA     SMC Redemption\n",
      "4             Others       Paid Service\n",
      "Before One hot encoding shape is  (492314, 2)\n",
      "After One hot encoding shape is  (492314, 28)\n"
     ]
    },
    {
     "data": {
      "image/png": "[encoded data removed]",
      "text/plain": [
       "<Figure size 432x288 with 1 Axes>"
      ]
     },
     "metadata": {
      "needs_background": "light"
     },
     "output_type": "display_data"
    }
   ],
   "source": [
    "dfInvoice[\"Make-Model\"]=dfInvoice[\"Make\"] + dfInvoice[\"Model\"]\n",
    "dfCluster = createDateFrameForClustering(dfInvoice,[\"Make-Model\",\"Order Type\"],[\"Make-Model\",\"Order Type\"])    \n",
    "getNumberOfClusters(dfCluster)"
   ]
  },
  {
   "cell_type": "code",
   "execution_count": 23,
   "metadata": {},
   "outputs": [
    {
     "name": "stdout",
     "output_type": "stream",
     "text": [
      "The clusters are ----------------------\n",
      "1    245757\n",
      "3    205248\n",
      "2     23771\n",
      "0     10185\n",
      "4      7353\n",
      "Name: Cluster, dtype: int64\n"
     ]
    },
    {
     "data": {
      "image/png": "[encoded data removed]",
      "text/plain": [
       "<Figure size 432x288 with 1 Axes>"
      ]
     },
     "metadata": {
      "needs_background": "light"
     },
     "output_type": "display_data"
    },
    {
     "data": {
      "image/png": "[encoded data removed]",
      "text/plain": [
       "<Figure size 432x288 with 1 Axes>"
      ]
     },
     "metadata": {
      "needs_background": "light"
     },
     "output_type": "display_data"
    }
   ],
   "source": [
    "dfCluster = createClustersUsingStandardScaler(dfCluster,5)"
   ]
  },
  {
   "cell_type": "markdown",
   "metadata": {},
   "source": [
    "## 6. Apply KMeans based on Season and Order Type\n",
    "\n",
    "#\"CITY\",\"Cust Type\",\"District\",\"KMs Reading\",\"Make\",\"Model\",\"Order Type\",\"Pin code\",\"Plant Name1\",\"Total Value\",\"Season\",\"Customer Partner Type Name\",\"Customer Data Origin Description\""
   ]
  },
  {
   "cell_type": "code",
   "execution_count": 24,
   "metadata": {},
   "outputs": [
    {
     "name": "stderr",
     "output_type": "stream",
     "text": [
      "D://Projects//Python//GeneralFunctions\\EDA.py:912: SettingWithCopyWarning: \n",
      "A value is trying to be set on a copy of a slice from a DataFrame.\n",
      "Try using .loc[row_indexer,col_indexer] = value instead\n",
      "\n",
      "See the caveats in the documentation: https://pandas.pydata.org/pandas-docs/stable/user_guide/indexing.html#returning-a-view-versus-a-copy\n",
      "  df[c+suffix]= df[c].map(TransformDataBasedOnEncoding)\n"
     ]
    },
    {
     "name": "stdout",
     "output_type": "stream",
     "text": [
      "   Season         Order Type\n",
      "0  Winter       Paid Service\n",
      "1  Winter  SMC Value Package\n",
      "2  Winter    Running Repairs\n",
      "3  Winter     SMC Redemption\n",
      "4  Winter       Paid Service\n",
      "Before One hot encoding shape is  (492314, 2)\n",
      "After One hot encoding shape is  (492314, 10)\n"
     ]
    },
    {
     "data": {
      "image/png": "[encoded data removed]",
      "text/plain": [
       "<Figure size 432x288 with 1 Axes>"
      ]
     },
     "metadata": {
      "needs_background": "light"
     },
     "output_type": "display_data"
    }
   ],
   "source": [
    "dfCluster = createDateFrameForClustering(dfInvoice,[\"Season\",\"Order Type\"],[\"Season\",\"Order Type\"])    \n",
    "getNumberOfClusters(dfCluster)"
   ]
  },
  {
   "cell_type": "code",
   "execution_count": 25,
   "metadata": {},
   "outputs": [
    {
     "name": "stdout",
     "output_type": "stream",
     "text": [
      "The clusters are ----------------------\n",
      "1    313631\n",
      "0    135004\n",
      "3     15738\n",
      "2     15100\n",
      "6      9781\n",
      "4      3043\n",
      "5        17\n",
      "Name: Cluster, dtype: int64\n"
     ]
    },
    {
     "data": {
      "image/png": "[encoded data removed]",
      "text/plain": [
       "<Figure size 432x288 with 1 Axes>"
      ]
     },
     "metadata": {
      "needs_background": "light"
     },
     "output_type": "display_data"
    },
    {
     "data": {
      "image/png": "[encoded data removed]",
      "text/plain": [
       "<Figure size 432x288 with 1 Axes>"
      ]
     },
     "metadata": {
      "needs_background": "light"
     },
     "output_type": "display_data"
    }
   ],
   "source": [
    "dfCluster = createClustersUsingStandardScaler(dfCluster,7)"
   ]
  },
  {
   "cell_type": "markdown",
   "metadata": {},
   "source": [
    "## 7. Apply KMeans based on KMs Reading and Total Value"
   ]
  },
  {
   "cell_type": "code",
   "execution_count": 26,
   "metadata": {},
   "outputs": [
    {
     "name": "stderr",
     "output_type": "stream",
     "text": [
      "D://Projects//Python//GeneralFunctions\\EDA.py:912: SettingWithCopyWarning: \n",
      "A value is trying to be set on a copy of a slice from a DataFrame.\n",
      "Try using .loc[row_indexer,col_indexer] = value instead\n",
      "\n",
      "See the caveats in the documentation: https://pandas.pydata.org/pandas-docs/stable/user_guide/indexing.html#returning-a-view-versus-a-copy\n",
      "  df[c+suffix]= df[c].map(TransformDataBasedOnEncoding)\n"
     ]
    },
    {
     "name": "stdout",
     "output_type": "stream",
     "text": [
      "   KMs Reading Total Value\n",
      "0        49317      Others\n",
      "1        78584     1001.29\n",
      "2        33985      Others\n",
      "3        78584           0\n",
      "4        50057      Others\n",
      "Before One hot encoding shape is  (492314, 2)\n",
      "After One hot encoding shape is  (492314, 21)\n"
     ]
    },
    {
     "data": {
      "image/png": "[encoded data removed]",
      "text/plain": [
       "<Figure size 432x288 with 1 Axes>"
      ]
     },
     "metadata": {
      "needs_background": "light"
     },
     "output_type": "display_data"
    }
   ],
   "source": [
    "dfCluster = createDateFrameForClustering(dfInvoice,[\"KMs Reading\",\"Total Value\"],[\"Total Value\"])    \n",
    "getNumberOfClusters(dfCluster)"
   ]
  },
  {
   "cell_type": "code",
   "execution_count": 27,
   "metadata": {},
   "outputs": [
    {
     "name": "stdout",
     "output_type": "stream",
     "text": [
      "The clusters are ----------------------\n",
      "1    248850\n",
      "0    239060\n",
      "5      1307\n",
      "3      1096\n",
      "4      1056\n",
      "2       945\n",
      "Name: Cluster, dtype: int64\n"
     ]
    },
    {
     "data": {
      "image/png": "[encoded data removed]",
      "text/plain": [
       "<Figure size 432x288 with 1 Axes>"
      ]
     },
     "metadata": {
      "needs_background": "light"
     },
     "output_type": "display_data"
    },
    {
     "data": {
      "image/png": "[encoded data removed]",
      "text/plain": [
       "<Figure size 432x288 with 1 Axes>"
      ]
     },
     "metadata": {
      "needs_background": "light"
     },
     "output_type": "display_data"
    }
   ],
   "source": [
    "dfCluster = createClustersUsingStandardScaler(dfCluster,6)"
   ]
  },
  {
   "cell_type": "code",
   "execution_count": null,
   "metadata": {},
   "outputs": [],
   "source": []
  },
  {
   "cell_type": "code",
   "execution_count": 28,
   "metadata": {},
   "outputs": [],
   "source": [
    "\n",
    "dfCluster.to_csv(cleansed_invoice_revised_datapath, index=False) "
   ]
  },
  {
   "cell_type": "code",
   "execution_count": 29,
   "metadata": {},
   "outputs": [
    {
     "data": {
      "text/plain": [
       "492314"
      ]
     },
     "execution_count": 29,
     "metadata": {},
     "output_type": "execute_result"
    }
   ],
   "source": [
    "dfInvoice.shape[0]"
   ]
  },
  {
   "cell_type": "code",
   "execution_count": 30,
   "metadata": {},
   "outputs": [],
   "source": [
    "## Which services are most  have most cars coming for repair based on the Make and Model ?"
   ]
  }
 ],
 "metadata": {
  "kernelspec": {
   "display_name": "'Python Interactive'",
   "language": "python",
   "name": "5a47f350-d875-4aa6-9c8d-3ad8235719f6"
  },
  "language_info": {
   "codemirror_mode": {
    "name": "ipython",
    "version": 3
   },
   "file_extension": ".py",
   "mimetype": "text/x-python",
   "name": "python",
   "nbconvert_exporter": "python",
   "pygments_lexer": "ipython3",
   "version": "3.6.10"
  }
 },
 "nbformat": 4,
 "nbformat_minor": 4
}
